{
  "cells": [
    {
      "cell_type": "markdown",
      "id": "3771ba51",
      "metadata": {
        "id": "3771ba51"
      },
      "source": [
        "# Import libraries"
      ]
    },
    {
      "cell_type": "code",
      "execution_count": 289,
      "id": "e3097aa0",
      "metadata": {
        "id": "e3097aa0"
      },
      "outputs": [],
      "source": [
        "import numpy as np\n",
        "import pandas as pd\n",
        "import matplotlib.pyplot as plt\n",
        "import seaborn as sns\n",
        "import warnings\n",
        "warnings.filterwarnings('ignore')"
      ]
    },
    {
      "cell_type": "code",
      "execution_count": 290,
      "id": "9a052211",
      "metadata": {
        "colab": {
          "base_uri": "https://localhost:8080/",
          "height": 429
        },
        "id": "9a052211",
        "outputId": "19e12713-13f0-43ab-8ae1-a86a682e9857"
      },
      "outputs": [
        {
          "output_type": "execute_result",
          "data": {
            "text/plain": [
              "       ID Customer_ID     Month           Name   Age          SSN Occupation  \\\n",
              "0  0x1602   CUS_0xd40   January  Aaron Maashoh    23  821-00-0265  Scientist   \n",
              "1  0x1603   CUS_0xd40  February  Aaron Maashoh    23  821-00-0265  Scientist   \n",
              "2  0x1604   CUS_0xd40     March  Aaron Maashoh  -500  821-00-0265  Scientist   \n",
              "3  0x1605   CUS_0xd40     April  Aaron Maashoh    23  821-00-0265  Scientist   \n",
              "4  0x1606   CUS_0xd40       May  Aaron Maashoh    23  821-00-0265  Scientist   \n",
              "\n",
              "  Annual_Income  Monthly_Inhand_Salary  Num_Bank_Accounts  ...  Credit_Mix  \\\n",
              "0      19114.12            1824.843333                  3  ...           _   \n",
              "1      19114.12                    NaN                  3  ...        Good   \n",
              "2      19114.12                    NaN                  3  ...        Good   \n",
              "3      19114.12                    NaN                  3  ...        Good   \n",
              "4      19114.12            1824.843333                  3  ...        Good   \n",
              "\n",
              "   Outstanding_Debt Credit_Utilization_Ratio     Credit_History_Age  \\\n",
              "0            809.98                26.822620  22 Years and 1 Months   \n",
              "1            809.98                31.944960                    NaN   \n",
              "2            809.98                28.609352  22 Years and 3 Months   \n",
              "3            809.98                31.377862  22 Years and 4 Months   \n",
              "4            809.98                24.797347  22 Years and 5 Months   \n",
              "\n",
              "   Payment_of_Min_Amount Total_EMI_per_month Amount_invested_monthly  \\\n",
              "0                     No           49.574949       80.41529543900253   \n",
              "1                     No           49.574949      118.28022162236736   \n",
              "2                     No           49.574949         81.699521264648   \n",
              "3                     No           49.574949       199.4580743910713   \n",
              "4                     No           49.574949      41.420153086217326   \n",
              "\n",
              "                  Payment_Behaviour     Monthly_Balance Credit_Score  \n",
              "0   High_spent_Small_value_payments  312.49408867943663         Good  \n",
              "1    Low_spent_Large_value_payments  284.62916249607184         Good  \n",
              "2   Low_spent_Medium_value_payments   331.2098628537912         Good  \n",
              "3    Low_spent_Small_value_payments  223.45130972736786         Good  \n",
              "4  High_spent_Medium_value_payments  341.48923103222177         Good  \n",
              "\n",
              "[5 rows x 28 columns]"
            ],
            "text/html": [
              "\n",
              "  <div id=\"df-832ff921-ae29-4dd7-84ca-027bfca13229\" class=\"colab-df-container\">\n",
              "    <div>\n",
              "<style scoped>\n",
              "    .dataframe tbody tr th:only-of-type {\n",
              "        vertical-align: middle;\n",
              "    }\n",
              "\n",
              "    .dataframe tbody tr th {\n",
              "        vertical-align: top;\n",
              "    }\n",
              "\n",
              "    .dataframe thead th {\n",
              "        text-align: right;\n",
              "    }\n",
              "</style>\n",
              "<table border=\"1\" class=\"dataframe\">\n",
              "  <thead>\n",
              "    <tr style=\"text-align: right;\">\n",
              "      <th></th>\n",
              "      <th>ID</th>\n",
              "      <th>Customer_ID</th>\n",
              "      <th>Month</th>\n",
              "      <th>Name</th>\n",
              "      <th>Age</th>\n",
              "      <th>SSN</th>\n",
              "      <th>Occupation</th>\n",
              "      <th>Annual_Income</th>\n",
              "      <th>Monthly_Inhand_Salary</th>\n",
              "      <th>Num_Bank_Accounts</th>\n",
              "      <th>...</th>\n",
              "      <th>Credit_Mix</th>\n",
              "      <th>Outstanding_Debt</th>\n",
              "      <th>Credit_Utilization_Ratio</th>\n",
              "      <th>Credit_History_Age</th>\n",
              "      <th>Payment_of_Min_Amount</th>\n",
              "      <th>Total_EMI_per_month</th>\n",
              "      <th>Amount_invested_monthly</th>\n",
              "      <th>Payment_Behaviour</th>\n",
              "      <th>Monthly_Balance</th>\n",
              "      <th>Credit_Score</th>\n",
              "    </tr>\n",
              "  </thead>\n",
              "  <tbody>\n",
              "    <tr>\n",
              "      <th>0</th>\n",
              "      <td>0x1602</td>\n",
              "      <td>CUS_0xd40</td>\n",
              "      <td>January</td>\n",
              "      <td>Aaron Maashoh</td>\n",
              "      <td>23</td>\n",
              "      <td>821-00-0265</td>\n",
              "      <td>Scientist</td>\n",
              "      <td>19114.12</td>\n",
              "      <td>1824.843333</td>\n",
              "      <td>3</td>\n",
              "      <td>...</td>\n",
              "      <td>_</td>\n",
              "      <td>809.98</td>\n",
              "      <td>26.822620</td>\n",
              "      <td>22 Years and 1 Months</td>\n",
              "      <td>No</td>\n",
              "      <td>49.574949</td>\n",
              "      <td>80.41529543900253</td>\n",
              "      <td>High_spent_Small_value_payments</td>\n",
              "      <td>312.49408867943663</td>\n",
              "      <td>Good</td>\n",
              "    </tr>\n",
              "    <tr>\n",
              "      <th>1</th>\n",
              "      <td>0x1603</td>\n",
              "      <td>CUS_0xd40</td>\n",
              "      <td>February</td>\n",
              "      <td>Aaron Maashoh</td>\n",
              "      <td>23</td>\n",
              "      <td>821-00-0265</td>\n",
              "      <td>Scientist</td>\n",
              "      <td>19114.12</td>\n",
              "      <td>NaN</td>\n",
              "      <td>3</td>\n",
              "      <td>...</td>\n",
              "      <td>Good</td>\n",
              "      <td>809.98</td>\n",
              "      <td>31.944960</td>\n",
              "      <td>NaN</td>\n",
              "      <td>No</td>\n",
              "      <td>49.574949</td>\n",
              "      <td>118.28022162236736</td>\n",
              "      <td>Low_spent_Large_value_payments</td>\n",
              "      <td>284.62916249607184</td>\n",
              "      <td>Good</td>\n",
              "    </tr>\n",
              "    <tr>\n",
              "      <th>2</th>\n",
              "      <td>0x1604</td>\n",
              "      <td>CUS_0xd40</td>\n",
              "      <td>March</td>\n",
              "      <td>Aaron Maashoh</td>\n",
              "      <td>-500</td>\n",
              "      <td>821-00-0265</td>\n",
              "      <td>Scientist</td>\n",
              "      <td>19114.12</td>\n",
              "      <td>NaN</td>\n",
              "      <td>3</td>\n",
              "      <td>...</td>\n",
              "      <td>Good</td>\n",
              "      <td>809.98</td>\n",
              "      <td>28.609352</td>\n",
              "      <td>22 Years and 3 Months</td>\n",
              "      <td>No</td>\n",
              "      <td>49.574949</td>\n",
              "      <td>81.699521264648</td>\n",
              "      <td>Low_spent_Medium_value_payments</td>\n",
              "      <td>331.2098628537912</td>\n",
              "      <td>Good</td>\n",
              "    </tr>\n",
              "    <tr>\n",
              "      <th>3</th>\n",
              "      <td>0x1605</td>\n",
              "      <td>CUS_0xd40</td>\n",
              "      <td>April</td>\n",
              "      <td>Aaron Maashoh</td>\n",
              "      <td>23</td>\n",
              "      <td>821-00-0265</td>\n",
              "      <td>Scientist</td>\n",
              "      <td>19114.12</td>\n",
              "      <td>NaN</td>\n",
              "      <td>3</td>\n",
              "      <td>...</td>\n",
              "      <td>Good</td>\n",
              "      <td>809.98</td>\n",
              "      <td>31.377862</td>\n",
              "      <td>22 Years and 4 Months</td>\n",
              "      <td>No</td>\n",
              "      <td>49.574949</td>\n",
              "      <td>199.4580743910713</td>\n",
              "      <td>Low_spent_Small_value_payments</td>\n",
              "      <td>223.45130972736786</td>\n",
              "      <td>Good</td>\n",
              "    </tr>\n",
              "    <tr>\n",
              "      <th>4</th>\n",
              "      <td>0x1606</td>\n",
              "      <td>CUS_0xd40</td>\n",
              "      <td>May</td>\n",
              "      <td>Aaron Maashoh</td>\n",
              "      <td>23</td>\n",
              "      <td>821-00-0265</td>\n",
              "      <td>Scientist</td>\n",
              "      <td>19114.12</td>\n",
              "      <td>1824.843333</td>\n",
              "      <td>3</td>\n",
              "      <td>...</td>\n",
              "      <td>Good</td>\n",
              "      <td>809.98</td>\n",
              "      <td>24.797347</td>\n",
              "      <td>22 Years and 5 Months</td>\n",
              "      <td>No</td>\n",
              "      <td>49.574949</td>\n",
              "      <td>41.420153086217326</td>\n",
              "      <td>High_spent_Medium_value_payments</td>\n",
              "      <td>341.48923103222177</td>\n",
              "      <td>Good</td>\n",
              "    </tr>\n",
              "  </tbody>\n",
              "</table>\n",
              "<p>5 rows × 28 columns</p>\n",
              "</div>\n",
              "    <div class=\"colab-df-buttons\">\n",
              "\n",
              "  <div class=\"colab-df-container\">\n",
              "    <button class=\"colab-df-convert\" onclick=\"convertToInteractive('df-832ff921-ae29-4dd7-84ca-027bfca13229')\"\n",
              "            title=\"Convert this dataframe to an interactive table.\"\n",
              "            style=\"display:none;\">\n",
              "\n",
              "  <svg xmlns=\"http://www.w3.org/2000/svg\" height=\"24px\" viewBox=\"0 -960 960 960\">\n",
              "    <path d=\"M120-120v-720h720v720H120Zm60-500h600v-160H180v160Zm220 220h160v-160H400v160Zm0 220h160v-160H400v160ZM180-400h160v-160H180v160Zm440 0h160v-160H620v160ZM180-180h160v-160H180v160Zm440 0h160v-160H620v160Z\"/>\n",
              "  </svg>\n",
              "    </button>\n",
              "\n",
              "  <style>\n",
              "    .colab-df-container {\n",
              "      display:flex;\n",
              "      gap: 12px;\n",
              "    }\n",
              "\n",
              "    .colab-df-convert {\n",
              "      background-color: #E8F0FE;\n",
              "      border: none;\n",
              "      border-radius: 50%;\n",
              "      cursor: pointer;\n",
              "      display: none;\n",
              "      fill: #1967D2;\n",
              "      height: 32px;\n",
              "      padding: 0 0 0 0;\n",
              "      width: 32px;\n",
              "    }\n",
              "\n",
              "    .colab-df-convert:hover {\n",
              "      background-color: #E2EBFA;\n",
              "      box-shadow: 0px 1px 2px rgba(60, 64, 67, 0.3), 0px 1px 3px 1px rgba(60, 64, 67, 0.15);\n",
              "      fill: #174EA6;\n",
              "    }\n",
              "\n",
              "    .colab-df-buttons div {\n",
              "      margin-bottom: 4px;\n",
              "    }\n",
              "\n",
              "    [theme=dark] .colab-df-convert {\n",
              "      background-color: #3B4455;\n",
              "      fill: #D2E3FC;\n",
              "    }\n",
              "\n",
              "    [theme=dark] .colab-df-convert:hover {\n",
              "      background-color: #434B5C;\n",
              "      box-shadow: 0px 1px 3px 1px rgba(0, 0, 0, 0.15);\n",
              "      filter: drop-shadow(0px 1px 2px rgba(0, 0, 0, 0.3));\n",
              "      fill: #FFFFFF;\n",
              "    }\n",
              "  </style>\n",
              "\n",
              "    <script>\n",
              "      const buttonEl =\n",
              "        document.querySelector('#df-832ff921-ae29-4dd7-84ca-027bfca13229 button.colab-df-convert');\n",
              "      buttonEl.style.display =\n",
              "        google.colab.kernel.accessAllowed ? 'block' : 'none';\n",
              "\n",
              "      async function convertToInteractive(key) {\n",
              "        const element = document.querySelector('#df-832ff921-ae29-4dd7-84ca-027bfca13229');\n",
              "        const dataTable =\n",
              "          await google.colab.kernel.invokeFunction('convertToInteractive',\n",
              "                                                    [key], {});\n",
              "        if (!dataTable) return;\n",
              "\n",
              "        const docLinkHtml = 'Like what you see? Visit the ' +\n",
              "          '<a target=\"_blank\" href=https://colab.research.google.com/notebooks/data_table.ipynb>data table notebook</a>'\n",
              "          + ' to learn more about interactive tables.';\n",
              "        element.innerHTML = '';\n",
              "        dataTable['output_type'] = 'display_data';\n",
              "        await google.colab.output.renderOutput(dataTable, element);\n",
              "        const docLink = document.createElement('div');\n",
              "        docLink.innerHTML = docLinkHtml;\n",
              "        element.appendChild(docLink);\n",
              "      }\n",
              "    </script>\n",
              "  </div>\n",
              "\n",
              "\n",
              "    <div id=\"df-27c3b882-3691-4015-9854-57032372c2bf\">\n",
              "      <button class=\"colab-df-quickchart\" onclick=\"quickchart('df-27c3b882-3691-4015-9854-57032372c2bf')\"\n",
              "                title=\"Suggest charts\"\n",
              "                style=\"display:none;\">\n",
              "\n",
              "<svg xmlns=\"http://www.w3.org/2000/svg\" height=\"24px\"viewBox=\"0 0 24 24\"\n",
              "     width=\"24px\">\n",
              "    <g>\n",
              "        <path d=\"M19 3H5c-1.1 0-2 .9-2 2v14c0 1.1.9 2 2 2h14c1.1 0 2-.9 2-2V5c0-1.1-.9-2-2-2zM9 17H7v-7h2v7zm4 0h-2V7h2v10zm4 0h-2v-4h2v4z\"/>\n",
              "    </g>\n",
              "</svg>\n",
              "      </button>\n",
              "\n",
              "<style>\n",
              "  .colab-df-quickchart {\n",
              "      --bg-color: #E8F0FE;\n",
              "      --fill-color: #1967D2;\n",
              "      --hover-bg-color: #E2EBFA;\n",
              "      --hover-fill-color: #174EA6;\n",
              "      --disabled-fill-color: #AAA;\n",
              "      --disabled-bg-color: #DDD;\n",
              "  }\n",
              "\n",
              "  [theme=dark] .colab-df-quickchart {\n",
              "      --bg-color: #3B4455;\n",
              "      --fill-color: #D2E3FC;\n",
              "      --hover-bg-color: #434B5C;\n",
              "      --hover-fill-color: #FFFFFF;\n",
              "      --disabled-bg-color: #3B4455;\n",
              "      --disabled-fill-color: #666;\n",
              "  }\n",
              "\n",
              "  .colab-df-quickchart {\n",
              "    background-color: var(--bg-color);\n",
              "    border: none;\n",
              "    border-radius: 50%;\n",
              "    cursor: pointer;\n",
              "    display: none;\n",
              "    fill: var(--fill-color);\n",
              "    height: 32px;\n",
              "    padding: 0;\n",
              "    width: 32px;\n",
              "  }\n",
              "\n",
              "  .colab-df-quickchart:hover {\n",
              "    background-color: var(--hover-bg-color);\n",
              "    box-shadow: 0 1px 2px rgba(60, 64, 67, 0.3), 0 1px 3px 1px rgba(60, 64, 67, 0.15);\n",
              "    fill: var(--button-hover-fill-color);\n",
              "  }\n",
              "\n",
              "  .colab-df-quickchart-complete:disabled,\n",
              "  .colab-df-quickchart-complete:disabled:hover {\n",
              "    background-color: var(--disabled-bg-color);\n",
              "    fill: var(--disabled-fill-color);\n",
              "    box-shadow: none;\n",
              "  }\n",
              "\n",
              "  .colab-df-spinner {\n",
              "    border: 2px solid var(--fill-color);\n",
              "    border-color: transparent;\n",
              "    border-bottom-color: var(--fill-color);\n",
              "    animation:\n",
              "      spin 1s steps(1) infinite;\n",
              "  }\n",
              "\n",
              "  @keyframes spin {\n",
              "    0% {\n",
              "      border-color: transparent;\n",
              "      border-bottom-color: var(--fill-color);\n",
              "      border-left-color: var(--fill-color);\n",
              "    }\n",
              "    20% {\n",
              "      border-color: transparent;\n",
              "      border-left-color: var(--fill-color);\n",
              "      border-top-color: var(--fill-color);\n",
              "    }\n",
              "    30% {\n",
              "      border-color: transparent;\n",
              "      border-left-color: var(--fill-color);\n",
              "      border-top-color: var(--fill-color);\n",
              "      border-right-color: var(--fill-color);\n",
              "    }\n",
              "    40% {\n",
              "      border-color: transparent;\n",
              "      border-right-color: var(--fill-color);\n",
              "      border-top-color: var(--fill-color);\n",
              "    }\n",
              "    60% {\n",
              "      border-color: transparent;\n",
              "      border-right-color: var(--fill-color);\n",
              "    }\n",
              "    80% {\n",
              "      border-color: transparent;\n",
              "      border-right-color: var(--fill-color);\n",
              "      border-bottom-color: var(--fill-color);\n",
              "    }\n",
              "    90% {\n",
              "      border-color: transparent;\n",
              "      border-bottom-color: var(--fill-color);\n",
              "    }\n",
              "  }\n",
              "</style>\n",
              "\n",
              "      <script>\n",
              "        async function quickchart(key) {\n",
              "          const quickchartButtonEl =\n",
              "            document.querySelector('#' + key + ' button');\n",
              "          quickchartButtonEl.disabled = true;  // To prevent multiple clicks.\n",
              "          quickchartButtonEl.classList.add('colab-df-spinner');\n",
              "          try {\n",
              "            const charts = await google.colab.kernel.invokeFunction(\n",
              "                'suggestCharts', [key], {});\n",
              "          } catch (error) {\n",
              "            console.error('Error during call to suggestCharts:', error);\n",
              "          }\n",
              "          quickchartButtonEl.classList.remove('colab-df-spinner');\n",
              "          quickchartButtonEl.classList.add('colab-df-quickchart-complete');\n",
              "        }\n",
              "        (() => {\n",
              "          let quickchartButtonEl =\n",
              "            document.querySelector('#df-27c3b882-3691-4015-9854-57032372c2bf button');\n",
              "          quickchartButtonEl.style.display =\n",
              "            google.colab.kernel.accessAllowed ? 'block' : 'none';\n",
              "        })();\n",
              "      </script>\n",
              "    </div>\n",
              "\n",
              "    </div>\n",
              "  </div>\n"
            ],
            "application/vnd.google.colaboratory.intrinsic+json": {
              "type": "dataframe",
              "variable_name": "data"
            }
          },
          "metadata": {},
          "execution_count": 290
        }
      ],
      "source": [
        "#1. Read data\n",
        "data = pd.read_csv('train.csv')\n",
        "data.head()"
      ]
    },
    {
      "cell_type": "code",
      "source": [
        "data.info()"
      ],
      "metadata": {
        "colab": {
          "base_uri": "https://localhost:8080/"
        },
        "id": "harF-xvb3OiD",
        "outputId": "99c3f834-4129-4596-afe8-d02173291bfa"
      },
      "id": "harF-xvb3OiD",
      "execution_count": 291,
      "outputs": [
        {
          "output_type": "stream",
          "name": "stdout",
          "text": [
            "<class 'pandas.core.frame.DataFrame'>\n",
            "RangeIndex: 100000 entries, 0 to 99999\n",
            "Data columns (total 28 columns):\n",
            " #   Column                    Non-Null Count   Dtype  \n",
            "---  ------                    --------------   -----  \n",
            " 0   ID                        100000 non-null  object \n",
            " 1   Customer_ID               100000 non-null  object \n",
            " 2   Month                     100000 non-null  object \n",
            " 3   Name                      90015 non-null   object \n",
            " 4   Age                       100000 non-null  object \n",
            " 5   SSN                       100000 non-null  object \n",
            " 6   Occupation                100000 non-null  object \n",
            " 7   Annual_Income             100000 non-null  object \n",
            " 8   Monthly_Inhand_Salary     84998 non-null   float64\n",
            " 9   Num_Bank_Accounts         100000 non-null  int64  \n",
            " 10  Num_Credit_Card           100000 non-null  int64  \n",
            " 11  Interest_Rate             100000 non-null  int64  \n",
            " 12  Num_of_Loan               100000 non-null  object \n",
            " 13  Type_of_Loan              88592 non-null   object \n",
            " 14  Delay_from_due_date       100000 non-null  int64  \n",
            " 15  Num_of_Delayed_Payment    92998 non-null   object \n",
            " 16  Changed_Credit_Limit      100000 non-null  object \n",
            " 17  Num_Credit_Inquiries      98035 non-null   float64\n",
            " 18  Credit_Mix                100000 non-null  object \n",
            " 19  Outstanding_Debt          100000 non-null  object \n",
            " 20  Credit_Utilization_Ratio  100000 non-null  float64\n",
            " 21  Credit_History_Age        90970 non-null   object \n",
            " 22  Payment_of_Min_Amount     100000 non-null  object \n",
            " 23  Total_EMI_per_month       100000 non-null  float64\n",
            " 24  Amount_invested_monthly   95521 non-null   object \n",
            " 25  Payment_Behaviour         100000 non-null  object \n",
            " 26  Monthly_Balance           98800 non-null   object \n",
            " 27  Credit_Score              100000 non-null  object \n",
            "dtypes: float64(4), int64(4), object(20)\n",
            "memory usage: 21.4+ MB\n"
          ]
        }
      ]
    },
    {
      "cell_type": "code",
      "source": [
        "data.describe()"
      ],
      "metadata": {
        "colab": {
          "base_uri": "https://localhost:8080/",
          "height": 300
        },
        "id": "Gco1Ws7e_AHK",
        "outputId": "cd021129-ce15-4b31-f13a-0a53e7c2f2aa"
      },
      "id": "Gco1Ws7e_AHK",
      "execution_count": 292,
      "outputs": [
        {
          "output_type": "execute_result",
          "data": {
            "text/plain": [
              "       Monthly_Inhand_Salary  Num_Bank_Accounts  Num_Credit_Card  \\\n",
              "count           84998.000000      100000.000000     100000.00000   \n",
              "mean             4194.170850          17.091280         22.47443   \n",
              "std              3183.686167         117.404834        129.05741   \n",
              "min               303.645417          -1.000000          0.00000   \n",
              "25%              1625.568229           3.000000          4.00000   \n",
              "50%              3093.745000           6.000000          5.00000   \n",
              "75%              5957.448333           7.000000          7.00000   \n",
              "max             15204.633333        1798.000000       1499.00000   \n",
              "\n",
              "       Interest_Rate  Delay_from_due_date  Num_Credit_Inquiries  \\\n",
              "count  100000.000000        100000.000000          98035.000000   \n",
              "mean       72.466040            21.068780             27.754251   \n",
              "std       466.422621            14.860104            193.177339   \n",
              "min         1.000000            -5.000000              0.000000   \n",
              "25%         8.000000            10.000000              3.000000   \n",
              "50%        13.000000            18.000000              6.000000   \n",
              "75%        20.000000            28.000000              9.000000   \n",
              "max      5797.000000            67.000000           2597.000000   \n",
              "\n",
              "       Credit_Utilization_Ratio  Total_EMI_per_month  \n",
              "count             100000.000000        100000.000000  \n",
              "mean                  32.285173          1403.118217  \n",
              "std                    5.116875          8306.041270  \n",
              "min                   20.000000             0.000000  \n",
              "25%                   28.052567            30.306660  \n",
              "50%                   32.305784            69.249473  \n",
              "75%                   36.496663           161.224249  \n",
              "max                   50.000000         82331.000000  "
            ],
            "text/html": [
              "\n",
              "  <div id=\"df-0743b8fc-43ae-4b7d-acd1-5a8c82137328\" class=\"colab-df-container\">\n",
              "    <div>\n",
              "<style scoped>\n",
              "    .dataframe tbody tr th:only-of-type {\n",
              "        vertical-align: middle;\n",
              "    }\n",
              "\n",
              "    .dataframe tbody tr th {\n",
              "        vertical-align: top;\n",
              "    }\n",
              "\n",
              "    .dataframe thead th {\n",
              "        text-align: right;\n",
              "    }\n",
              "</style>\n",
              "<table border=\"1\" class=\"dataframe\">\n",
              "  <thead>\n",
              "    <tr style=\"text-align: right;\">\n",
              "      <th></th>\n",
              "      <th>Monthly_Inhand_Salary</th>\n",
              "      <th>Num_Bank_Accounts</th>\n",
              "      <th>Num_Credit_Card</th>\n",
              "      <th>Interest_Rate</th>\n",
              "      <th>Delay_from_due_date</th>\n",
              "      <th>Num_Credit_Inquiries</th>\n",
              "      <th>Credit_Utilization_Ratio</th>\n",
              "      <th>Total_EMI_per_month</th>\n",
              "    </tr>\n",
              "  </thead>\n",
              "  <tbody>\n",
              "    <tr>\n",
              "      <th>count</th>\n",
              "      <td>84998.000000</td>\n",
              "      <td>100000.000000</td>\n",
              "      <td>100000.00000</td>\n",
              "      <td>100000.000000</td>\n",
              "      <td>100000.000000</td>\n",
              "      <td>98035.000000</td>\n",
              "      <td>100000.000000</td>\n",
              "      <td>100000.000000</td>\n",
              "    </tr>\n",
              "    <tr>\n",
              "      <th>mean</th>\n",
              "      <td>4194.170850</td>\n",
              "      <td>17.091280</td>\n",
              "      <td>22.47443</td>\n",
              "      <td>72.466040</td>\n",
              "      <td>21.068780</td>\n",
              "      <td>27.754251</td>\n",
              "      <td>32.285173</td>\n",
              "      <td>1403.118217</td>\n",
              "    </tr>\n",
              "    <tr>\n",
              "      <th>std</th>\n",
              "      <td>3183.686167</td>\n",
              "      <td>117.404834</td>\n",
              "      <td>129.05741</td>\n",
              "      <td>466.422621</td>\n",
              "      <td>14.860104</td>\n",
              "      <td>193.177339</td>\n",
              "      <td>5.116875</td>\n",
              "      <td>8306.041270</td>\n",
              "    </tr>\n",
              "    <tr>\n",
              "      <th>min</th>\n",
              "      <td>303.645417</td>\n",
              "      <td>-1.000000</td>\n",
              "      <td>0.00000</td>\n",
              "      <td>1.000000</td>\n",
              "      <td>-5.000000</td>\n",
              "      <td>0.000000</td>\n",
              "      <td>20.000000</td>\n",
              "      <td>0.000000</td>\n",
              "    </tr>\n",
              "    <tr>\n",
              "      <th>25%</th>\n",
              "      <td>1625.568229</td>\n",
              "      <td>3.000000</td>\n",
              "      <td>4.00000</td>\n",
              "      <td>8.000000</td>\n",
              "      <td>10.000000</td>\n",
              "      <td>3.000000</td>\n",
              "      <td>28.052567</td>\n",
              "      <td>30.306660</td>\n",
              "    </tr>\n",
              "    <tr>\n",
              "      <th>50%</th>\n",
              "      <td>3093.745000</td>\n",
              "      <td>6.000000</td>\n",
              "      <td>5.00000</td>\n",
              "      <td>13.000000</td>\n",
              "      <td>18.000000</td>\n",
              "      <td>6.000000</td>\n",
              "      <td>32.305784</td>\n",
              "      <td>69.249473</td>\n",
              "    </tr>\n",
              "    <tr>\n",
              "      <th>75%</th>\n",
              "      <td>5957.448333</td>\n",
              "      <td>7.000000</td>\n",
              "      <td>7.00000</td>\n",
              "      <td>20.000000</td>\n",
              "      <td>28.000000</td>\n",
              "      <td>9.000000</td>\n",
              "      <td>36.496663</td>\n",
              "      <td>161.224249</td>\n",
              "    </tr>\n",
              "    <tr>\n",
              "      <th>max</th>\n",
              "      <td>15204.633333</td>\n",
              "      <td>1798.000000</td>\n",
              "      <td>1499.00000</td>\n",
              "      <td>5797.000000</td>\n",
              "      <td>67.000000</td>\n",
              "      <td>2597.000000</td>\n",
              "      <td>50.000000</td>\n",
              "      <td>82331.000000</td>\n",
              "    </tr>\n",
              "  </tbody>\n",
              "</table>\n",
              "</div>\n",
              "    <div class=\"colab-df-buttons\">\n",
              "\n",
              "  <div class=\"colab-df-container\">\n",
              "    <button class=\"colab-df-convert\" onclick=\"convertToInteractive('df-0743b8fc-43ae-4b7d-acd1-5a8c82137328')\"\n",
              "            title=\"Convert this dataframe to an interactive table.\"\n",
              "            style=\"display:none;\">\n",
              "\n",
              "  <svg xmlns=\"http://www.w3.org/2000/svg\" height=\"24px\" viewBox=\"0 -960 960 960\">\n",
              "    <path d=\"M120-120v-720h720v720H120Zm60-500h600v-160H180v160Zm220 220h160v-160H400v160Zm0 220h160v-160H400v160ZM180-400h160v-160H180v160Zm440 0h160v-160H620v160ZM180-180h160v-160H180v160Zm440 0h160v-160H620v160Z\"/>\n",
              "  </svg>\n",
              "    </button>\n",
              "\n",
              "  <style>\n",
              "    .colab-df-container {\n",
              "      display:flex;\n",
              "      gap: 12px;\n",
              "    }\n",
              "\n",
              "    .colab-df-convert {\n",
              "      background-color: #E8F0FE;\n",
              "      border: none;\n",
              "      border-radius: 50%;\n",
              "      cursor: pointer;\n",
              "      display: none;\n",
              "      fill: #1967D2;\n",
              "      height: 32px;\n",
              "      padding: 0 0 0 0;\n",
              "      width: 32px;\n",
              "    }\n",
              "\n",
              "    .colab-df-convert:hover {\n",
              "      background-color: #E2EBFA;\n",
              "      box-shadow: 0px 1px 2px rgba(60, 64, 67, 0.3), 0px 1px 3px 1px rgba(60, 64, 67, 0.15);\n",
              "      fill: #174EA6;\n",
              "    }\n",
              "\n",
              "    .colab-df-buttons div {\n",
              "      margin-bottom: 4px;\n",
              "    }\n",
              "\n",
              "    [theme=dark] .colab-df-convert {\n",
              "      background-color: #3B4455;\n",
              "      fill: #D2E3FC;\n",
              "    }\n",
              "\n",
              "    [theme=dark] .colab-df-convert:hover {\n",
              "      background-color: #434B5C;\n",
              "      box-shadow: 0px 1px 3px 1px rgba(0, 0, 0, 0.15);\n",
              "      filter: drop-shadow(0px 1px 2px rgba(0, 0, 0, 0.3));\n",
              "      fill: #FFFFFF;\n",
              "    }\n",
              "  </style>\n",
              "\n",
              "    <script>\n",
              "      const buttonEl =\n",
              "        document.querySelector('#df-0743b8fc-43ae-4b7d-acd1-5a8c82137328 button.colab-df-convert');\n",
              "      buttonEl.style.display =\n",
              "        google.colab.kernel.accessAllowed ? 'block' : 'none';\n",
              "\n",
              "      async function convertToInteractive(key) {\n",
              "        const element = document.querySelector('#df-0743b8fc-43ae-4b7d-acd1-5a8c82137328');\n",
              "        const dataTable =\n",
              "          await google.colab.kernel.invokeFunction('convertToInteractive',\n",
              "                                                    [key], {});\n",
              "        if (!dataTable) return;\n",
              "\n",
              "        const docLinkHtml = 'Like what you see? Visit the ' +\n",
              "          '<a target=\"_blank\" href=https://colab.research.google.com/notebooks/data_table.ipynb>data table notebook</a>'\n",
              "          + ' to learn more about interactive tables.';\n",
              "        element.innerHTML = '';\n",
              "        dataTable['output_type'] = 'display_data';\n",
              "        await google.colab.output.renderOutput(dataTable, element);\n",
              "        const docLink = document.createElement('div');\n",
              "        docLink.innerHTML = docLinkHtml;\n",
              "        element.appendChild(docLink);\n",
              "      }\n",
              "    </script>\n",
              "  </div>\n",
              "\n",
              "\n",
              "    <div id=\"df-295f4ef3-e157-4858-93c5-965cf9f5e051\">\n",
              "      <button class=\"colab-df-quickchart\" onclick=\"quickchart('df-295f4ef3-e157-4858-93c5-965cf9f5e051')\"\n",
              "                title=\"Suggest charts\"\n",
              "                style=\"display:none;\">\n",
              "\n",
              "<svg xmlns=\"http://www.w3.org/2000/svg\" height=\"24px\"viewBox=\"0 0 24 24\"\n",
              "     width=\"24px\">\n",
              "    <g>\n",
              "        <path d=\"M19 3H5c-1.1 0-2 .9-2 2v14c0 1.1.9 2 2 2h14c1.1 0 2-.9 2-2V5c0-1.1-.9-2-2-2zM9 17H7v-7h2v7zm4 0h-2V7h2v10zm4 0h-2v-4h2v4z\"/>\n",
              "    </g>\n",
              "</svg>\n",
              "      </button>\n",
              "\n",
              "<style>\n",
              "  .colab-df-quickchart {\n",
              "      --bg-color: #E8F0FE;\n",
              "      --fill-color: #1967D2;\n",
              "      --hover-bg-color: #E2EBFA;\n",
              "      --hover-fill-color: #174EA6;\n",
              "      --disabled-fill-color: #AAA;\n",
              "      --disabled-bg-color: #DDD;\n",
              "  }\n",
              "\n",
              "  [theme=dark] .colab-df-quickchart {\n",
              "      --bg-color: #3B4455;\n",
              "      --fill-color: #D2E3FC;\n",
              "      --hover-bg-color: #434B5C;\n",
              "      --hover-fill-color: #FFFFFF;\n",
              "      --disabled-bg-color: #3B4455;\n",
              "      --disabled-fill-color: #666;\n",
              "  }\n",
              "\n",
              "  .colab-df-quickchart {\n",
              "    background-color: var(--bg-color);\n",
              "    border: none;\n",
              "    border-radius: 50%;\n",
              "    cursor: pointer;\n",
              "    display: none;\n",
              "    fill: var(--fill-color);\n",
              "    height: 32px;\n",
              "    padding: 0;\n",
              "    width: 32px;\n",
              "  }\n",
              "\n",
              "  .colab-df-quickchart:hover {\n",
              "    background-color: var(--hover-bg-color);\n",
              "    box-shadow: 0 1px 2px rgba(60, 64, 67, 0.3), 0 1px 3px 1px rgba(60, 64, 67, 0.15);\n",
              "    fill: var(--button-hover-fill-color);\n",
              "  }\n",
              "\n",
              "  .colab-df-quickchart-complete:disabled,\n",
              "  .colab-df-quickchart-complete:disabled:hover {\n",
              "    background-color: var(--disabled-bg-color);\n",
              "    fill: var(--disabled-fill-color);\n",
              "    box-shadow: none;\n",
              "  }\n",
              "\n",
              "  .colab-df-spinner {\n",
              "    border: 2px solid var(--fill-color);\n",
              "    border-color: transparent;\n",
              "    border-bottom-color: var(--fill-color);\n",
              "    animation:\n",
              "      spin 1s steps(1) infinite;\n",
              "  }\n",
              "\n",
              "  @keyframes spin {\n",
              "    0% {\n",
              "      border-color: transparent;\n",
              "      border-bottom-color: var(--fill-color);\n",
              "      border-left-color: var(--fill-color);\n",
              "    }\n",
              "    20% {\n",
              "      border-color: transparent;\n",
              "      border-left-color: var(--fill-color);\n",
              "      border-top-color: var(--fill-color);\n",
              "    }\n",
              "    30% {\n",
              "      border-color: transparent;\n",
              "      border-left-color: var(--fill-color);\n",
              "      border-top-color: var(--fill-color);\n",
              "      border-right-color: var(--fill-color);\n",
              "    }\n",
              "    40% {\n",
              "      border-color: transparent;\n",
              "      border-right-color: var(--fill-color);\n",
              "      border-top-color: var(--fill-color);\n",
              "    }\n",
              "    60% {\n",
              "      border-color: transparent;\n",
              "      border-right-color: var(--fill-color);\n",
              "    }\n",
              "    80% {\n",
              "      border-color: transparent;\n",
              "      border-right-color: var(--fill-color);\n",
              "      border-bottom-color: var(--fill-color);\n",
              "    }\n",
              "    90% {\n",
              "      border-color: transparent;\n",
              "      border-bottom-color: var(--fill-color);\n",
              "    }\n",
              "  }\n",
              "</style>\n",
              "\n",
              "      <script>\n",
              "        async function quickchart(key) {\n",
              "          const quickchartButtonEl =\n",
              "            document.querySelector('#' + key + ' button');\n",
              "          quickchartButtonEl.disabled = true;  // To prevent multiple clicks.\n",
              "          quickchartButtonEl.classList.add('colab-df-spinner');\n",
              "          try {\n",
              "            const charts = await google.colab.kernel.invokeFunction(\n",
              "                'suggestCharts', [key], {});\n",
              "          } catch (error) {\n",
              "            console.error('Error during call to suggestCharts:', error);\n",
              "          }\n",
              "          quickchartButtonEl.classList.remove('colab-df-spinner');\n",
              "          quickchartButtonEl.classList.add('colab-df-quickchart-complete');\n",
              "        }\n",
              "        (() => {\n",
              "          let quickchartButtonEl =\n",
              "            document.querySelector('#df-295f4ef3-e157-4858-93c5-965cf9f5e051 button');\n",
              "          quickchartButtonEl.style.display =\n",
              "            google.colab.kernel.accessAllowed ? 'block' : 'none';\n",
              "        })();\n",
              "      </script>\n",
              "    </div>\n",
              "\n",
              "    </div>\n",
              "  </div>\n"
            ],
            "application/vnd.google.colaboratory.intrinsic+json": {
              "type": "dataframe",
              "summary": "{\n  \"name\": \"data\",\n  \"rows\": 8,\n  \"fields\": [\n    {\n      \"column\": \"Monthly_Inhand_Salary\",\n      \"properties\": {\n        \"dtype\": \"number\",\n        \"std\": 28721.02050010101,\n        \"min\": 303.6454166666666,\n        \"max\": 84998.0,\n        \"num_unique_values\": 8,\n        \"samples\": [\n          4194.170849600523,\n          3093.745000000001,\n          84998.0\n        ],\n        \"semantic_type\": \"\",\n        \"description\": \"\"\n      }\n    },\n    {\n      \"column\": \"Num_Bank_Accounts\",\n      \"properties\": {\n        \"dtype\": \"number\",\n        \"std\": 35262.45571123334,\n        \"min\": -1.0,\n        \"max\": 100000.0,\n        \"num_unique_values\": 8,\n        \"samples\": [\n          17.09128,\n          6.0,\n          100000.0\n        ],\n        \"semantic_type\": \"\",\n        \"description\": \"\"\n      }\n    },\n    {\n      \"column\": \"Num_Credit_Card\",\n      \"properties\": {\n        \"dtype\": \"number\",\n        \"std\": 35274.94819246088,\n        \"min\": 0.0,\n        \"max\": 100000.0,\n        \"num_unique_values\": 8,\n        \"samples\": [\n          22.47443,\n          5.0,\n          100000.0\n        ],\n        \"semantic_type\": \"\",\n        \"description\": \"\"\n      }\n    },\n    {\n      \"column\": \"Interest_Rate\",\n      \"properties\": {\n        \"dtype\": \"number\",\n        \"std\": 35090.285071687635,\n        \"min\": 1.0,\n        \"max\": 100000.0,\n        \"num_unique_values\": 8,\n        \"samples\": [\n          72.46604,\n          13.0,\n          100000.0\n        ],\n        \"semantic_type\": \"\",\n        \"description\": \"\"\n      }\n    },\n    {\n      \"column\": \"Delay_from_due_date\",\n      \"properties\": {\n        \"dtype\": \"number\",\n        \"std\": 35347.57054259866,\n        \"min\": -5.0,\n        \"max\": 100000.0,\n        \"num_unique_values\": 8,\n        \"samples\": [\n          21.06878,\n          18.0,\n          100000.0\n        ],\n        \"semantic_type\": \"\",\n        \"description\": \"\"\n      }\n    },\n    {\n      \"column\": \"Num_Credit_Inquiries\",\n      \"properties\": {\n        \"dtype\": \"number\",\n        \"std\": 34529.0265942048,\n        \"min\": 0.0,\n        \"max\": 98035.0,\n        \"num_unique_values\": 8,\n        \"samples\": [\n          27.75425103279441,\n          6.0,\n          98035.0\n        ],\n        \"semantic_type\": \"\",\n        \"description\": \"\"\n      }\n    },\n    {\n      \"column\": \"Credit_Utilization_Ratio\",\n      \"properties\": {\n        \"dtype\": \"number\",\n        \"std\": 35345.024886297695,\n        \"min\": 5.116875070150902,\n        \"max\": 100000.0,\n        \"num_unique_values\": 8,\n        \"samples\": [\n          32.2851725189436,\n          32.30578367171092,\n          100000.0\n        ],\n        \"semantic_type\": \"\",\n        \"description\": \"\"\n      }\n    },\n    {\n      \"column\": \"Total_EMI_per_month\",\n      \"properties\": {\n        \"dtype\": \"number\",\n        \"std\": 41793.58784756129,\n        \"min\": 0.0,\n        \"max\": 100000.0,\n        \"num_unique_values\": 8,\n        \"samples\": [\n          1403.1182166159933,\n          69.24947329972044,\n          100000.0\n        ],\n        \"semantic_type\": \"\",\n        \"description\": \"\"\n      }\n    }\n  ]\n}"
            }
          },
          "metadata": {},
          "execution_count": 292
        }
      ]
    },
    {
      "cell_type": "code",
      "source": [
        "df1 = data.copy()"
      ],
      "metadata": {
        "id": "AAUV9P91dRS_"
      },
      "id": "AAUV9P91dRS_",
      "execution_count": 293,
      "outputs": []
    },
    {
      "cell_type": "markdown",
      "source": [
        "# Xử lý dữ liệu không nhất quán"
      ],
      "metadata": {
        "id": "9oWchmA5cymB"
      },
      "id": "9oWchmA5cymB"
    },
    {
      "cell_type": "markdown",
      "source": [
        "# Age"
      ],
      "metadata": {
        "id": "6_hTLYQoeNT2"
      },
      "id": "6_hTLYQoeNT2"
    },
    {
      "cell_type": "code",
      "source": [
        "df1[\"Age\"].unique()"
      ],
      "metadata": {
        "colab": {
          "base_uri": "https://localhost:8080/"
        },
        "id": "D9ac0l66c28u",
        "outputId": "28eb150d-5704-430e-f4d0-0af0c39041b5"
      },
      "id": "D9ac0l66c28u",
      "execution_count": 294,
      "outputs": [
        {
          "output_type": "execute_result",
          "data": {
            "text/plain": [
              "array(['23', '-500', '28_', ..., '4808_', '2263', '1342'], dtype=object)"
            ]
          },
          "metadata": {},
          "execution_count": 294
        }
      ]
    },
    {
      "cell_type": "code",
      "source": [
        "# xoá các ký tự không hợp lệ:\n",
        "df1['Age'] = df1['Age'].str.replace(' ', '').str.replace('-', '').str.replace('_', '')\n",
        "\n",
        "# đổi về kiểu int:\n",
        "df1[\"Age\"] = pd.to_numeric(df1[\"Age\"], downcast=\"integer\")\n",
        "\n",
        "# Check kiểu dữ liệu:\n",
        "df1[\"Age\"].dtype"
      ],
      "metadata": {
        "colab": {
          "base_uri": "https://localhost:8080/"
        },
        "id": "v80vQCAkdPLg",
        "outputId": "49f4e26d-fbb1-4743-cada-4b9d8e6a3377"
      },
      "id": "v80vQCAkdPLg",
      "execution_count": 295,
      "outputs": [
        {
          "output_type": "execute_result",
          "data": {
            "text/plain": [
              "dtype('int16')"
            ]
          },
          "metadata": {},
          "execution_count": 295
        }
      ]
    },
    {
      "cell_type": "code",
      "source": [
        "# df1[\"Age\"].unique()"
      ],
      "metadata": {
        "id": "Ip6GMXFG-oRe"
      },
      "id": "Ip6GMXFG-oRe",
      "execution_count": 296,
      "outputs": []
    },
    {
      "cell_type": "code",
      "source": [
        "# df1['Age'].hist(bins=10)"
      ],
      "metadata": {
        "id": "vroO2rTV-yIb"
      },
      "id": "vroO2rTV-yIb",
      "execution_count": 297,
      "outputs": []
    },
    {
      "cell_type": "markdown",
      "source": [
        "# SSN"
      ],
      "metadata": {
        "id": "59cMWuzSeP_C"
      },
      "id": "59cMWuzSeP_C"
    },
    {
      "cell_type": "code",
      "source": [
        "df1[\"SSN\"].unique()"
      ],
      "metadata": {
        "colab": {
          "base_uri": "https://localhost:8080/"
        },
        "id": "tWIiTAYMeTnY",
        "outputId": "5e6d4a14-7cd1-47d7-ddf6-0c9be9c26ca3"
      },
      "id": "tWIiTAYMeTnY",
      "execution_count": 298,
      "outputs": [
        {
          "output_type": "execute_result",
          "data": {
            "text/plain": [
              "array(['821-00-0265', '#F%$D@*&8', '004-07-5839', ..., '133-16-7738',\n",
              "       '031-35-0942', '078-73-5990'], dtype=object)"
            ]
          },
          "metadata": {},
          "execution_count": 298
        }
      ]
    },
    {
      "cell_type": "code",
      "source": [
        "df1.SSN.value_counts()"
      ],
      "metadata": {
        "colab": {
          "base_uri": "https://localhost:8080/",
          "height": 490
        },
        "id": "8Cz7wZkcen-Y",
        "outputId": "8a3096b8-f8ef-4e48-b993-f64a1510c991"
      },
      "id": "8Cz7wZkcen-Y",
      "execution_count": 299,
      "outputs": [
        {
          "output_type": "execute_result",
          "data": {
            "text/plain": [
              "SSN\n",
              "#F%$D@*&8      5572\n",
              "940-15-4402       8\n",
              "571-35-3463       8\n",
              "422-50-2476       8\n",
              "430-60-9262       8\n",
              "               ... \n",
              "604-62-6133       4\n",
              "331-28-1921       4\n",
              "838-33-4811       4\n",
              "856-06-6147       4\n",
              "753-72-2651       4\n",
              "Name: count, Length: 12501, dtype: int64"
            ],
            "text/html": [
              "<div>\n",
              "<style scoped>\n",
              "    .dataframe tbody tr th:only-of-type {\n",
              "        vertical-align: middle;\n",
              "    }\n",
              "\n",
              "    .dataframe tbody tr th {\n",
              "        vertical-align: top;\n",
              "    }\n",
              "\n",
              "    .dataframe thead th {\n",
              "        text-align: right;\n",
              "    }\n",
              "</style>\n",
              "<table border=\"1\" class=\"dataframe\">\n",
              "  <thead>\n",
              "    <tr style=\"text-align: right;\">\n",
              "      <th></th>\n",
              "      <th>count</th>\n",
              "    </tr>\n",
              "    <tr>\n",
              "      <th>SSN</th>\n",
              "      <th></th>\n",
              "    </tr>\n",
              "  </thead>\n",
              "  <tbody>\n",
              "    <tr>\n",
              "      <th>#F%$D@*&amp;8</th>\n",
              "      <td>5572</td>\n",
              "    </tr>\n",
              "    <tr>\n",
              "      <th>940-15-4402</th>\n",
              "      <td>8</td>\n",
              "    </tr>\n",
              "    <tr>\n",
              "      <th>571-35-3463</th>\n",
              "      <td>8</td>\n",
              "    </tr>\n",
              "    <tr>\n",
              "      <th>422-50-2476</th>\n",
              "      <td>8</td>\n",
              "    </tr>\n",
              "    <tr>\n",
              "      <th>430-60-9262</th>\n",
              "      <td>8</td>\n",
              "    </tr>\n",
              "    <tr>\n",
              "      <th>...</th>\n",
              "      <td>...</td>\n",
              "    </tr>\n",
              "    <tr>\n",
              "      <th>604-62-6133</th>\n",
              "      <td>4</td>\n",
              "    </tr>\n",
              "    <tr>\n",
              "      <th>331-28-1921</th>\n",
              "      <td>4</td>\n",
              "    </tr>\n",
              "    <tr>\n",
              "      <th>838-33-4811</th>\n",
              "      <td>4</td>\n",
              "    </tr>\n",
              "    <tr>\n",
              "      <th>856-06-6147</th>\n",
              "      <td>4</td>\n",
              "    </tr>\n",
              "    <tr>\n",
              "      <th>753-72-2651</th>\n",
              "      <td>4</td>\n",
              "    </tr>\n",
              "  </tbody>\n",
              "</table>\n",
              "<p>12501 rows × 1 columns</p>\n",
              "</div><br><label><b>dtype:</b> int64</label>"
            ]
          },
          "metadata": {},
          "execution_count": 299
        }
      ]
    },
    {
      "cell_type": "code",
      "source": [
        "# Thay đổi giá trị không hợp lệ bằng NaN\n",
        "df1['SSN'] = df1['SSN'].replace('#F%$D@*&8', np.nan)\n"
      ],
      "metadata": {
        "id": "FfjYOCOJfLp8"
      },
      "id": "FfjYOCOJfLp8",
      "execution_count": 300,
      "outputs": []
    },
    {
      "cell_type": "code",
      "source": [
        "df1['SSN'].isna().sum()"
      ],
      "metadata": {
        "colab": {
          "base_uri": "https://localhost:8080/"
        },
        "id": "IcR_MinD_obv",
        "outputId": "59d9f0a7-7def-4c98-b0fc-b1b40cd9b96e"
      },
      "id": "IcR_MinD_obv",
      "execution_count": 301,
      "outputs": [
        {
          "output_type": "execute_result",
          "data": {
            "text/plain": [
              "np.int64(5572)"
            ]
          },
          "metadata": {},
          "execution_count": 301
        }
      ]
    },
    {
      "cell_type": "markdown",
      "source": [
        "# Occupation"
      ],
      "metadata": {
        "id": "SpuMKPNAg_N9"
      },
      "id": "SpuMKPNAg_N9"
    },
    {
      "cell_type": "code",
      "source": [
        "df1.Occupation.value_counts()"
      ],
      "metadata": {
        "colab": {
          "base_uri": "https://localhost:8080/",
          "height": 617
        },
        "id": "xaOD7g5Of9RX",
        "outputId": "f3297458-c6df-45f1-bf37-4137f793f30e"
      },
      "id": "xaOD7g5Of9RX",
      "execution_count": 302,
      "outputs": [
        {
          "output_type": "execute_result",
          "data": {
            "text/plain": [
              "Occupation\n",
              "_______          7062\n",
              "Lawyer           6575\n",
              "Architect        6355\n",
              "Engineer         6350\n",
              "Scientist        6299\n",
              "Mechanic         6291\n",
              "Accountant       6271\n",
              "Developer        6235\n",
              "Media_Manager    6232\n",
              "Teacher          6215\n",
              "Entrepreneur     6174\n",
              "Doctor           6087\n",
              "Journalist       6085\n",
              "Manager          5973\n",
              "Musician         5911\n",
              "Writer           5885\n",
              "Name: count, dtype: int64"
            ],
            "text/html": [
              "<div>\n",
              "<style scoped>\n",
              "    .dataframe tbody tr th:only-of-type {\n",
              "        vertical-align: middle;\n",
              "    }\n",
              "\n",
              "    .dataframe tbody tr th {\n",
              "        vertical-align: top;\n",
              "    }\n",
              "\n",
              "    .dataframe thead th {\n",
              "        text-align: right;\n",
              "    }\n",
              "</style>\n",
              "<table border=\"1\" class=\"dataframe\">\n",
              "  <thead>\n",
              "    <tr style=\"text-align: right;\">\n",
              "      <th></th>\n",
              "      <th>count</th>\n",
              "    </tr>\n",
              "    <tr>\n",
              "      <th>Occupation</th>\n",
              "      <th></th>\n",
              "    </tr>\n",
              "  </thead>\n",
              "  <tbody>\n",
              "    <tr>\n",
              "      <th>_______</th>\n",
              "      <td>7062</td>\n",
              "    </tr>\n",
              "    <tr>\n",
              "      <th>Lawyer</th>\n",
              "      <td>6575</td>\n",
              "    </tr>\n",
              "    <tr>\n",
              "      <th>Architect</th>\n",
              "      <td>6355</td>\n",
              "    </tr>\n",
              "    <tr>\n",
              "      <th>Engineer</th>\n",
              "      <td>6350</td>\n",
              "    </tr>\n",
              "    <tr>\n",
              "      <th>Scientist</th>\n",
              "      <td>6299</td>\n",
              "    </tr>\n",
              "    <tr>\n",
              "      <th>Mechanic</th>\n",
              "      <td>6291</td>\n",
              "    </tr>\n",
              "    <tr>\n",
              "      <th>Accountant</th>\n",
              "      <td>6271</td>\n",
              "    </tr>\n",
              "    <tr>\n",
              "      <th>Developer</th>\n",
              "      <td>6235</td>\n",
              "    </tr>\n",
              "    <tr>\n",
              "      <th>Media_Manager</th>\n",
              "      <td>6232</td>\n",
              "    </tr>\n",
              "    <tr>\n",
              "      <th>Teacher</th>\n",
              "      <td>6215</td>\n",
              "    </tr>\n",
              "    <tr>\n",
              "      <th>Entrepreneur</th>\n",
              "      <td>6174</td>\n",
              "    </tr>\n",
              "    <tr>\n",
              "      <th>Doctor</th>\n",
              "      <td>6087</td>\n",
              "    </tr>\n",
              "    <tr>\n",
              "      <th>Journalist</th>\n",
              "      <td>6085</td>\n",
              "    </tr>\n",
              "    <tr>\n",
              "      <th>Manager</th>\n",
              "      <td>5973</td>\n",
              "    </tr>\n",
              "    <tr>\n",
              "      <th>Musician</th>\n",
              "      <td>5911</td>\n",
              "    </tr>\n",
              "    <tr>\n",
              "      <th>Writer</th>\n",
              "      <td>5885</td>\n",
              "    </tr>\n",
              "  </tbody>\n",
              "</table>\n",
              "</div><br><label><b>dtype:</b> int64</label>"
            ]
          },
          "metadata": {},
          "execution_count": 302
        }
      ]
    },
    {
      "cell_type": "code",
      "source": [
        "# Thay đổi giá trị không hợp lệ bằng NaN\n",
        "df1['Occupation'] = df1['Occupation'].replace('_______', np.nan)\n"
      ],
      "metadata": {
        "id": "YmzchU9Ff9Jj"
      },
      "id": "YmzchU9Ff9Jj",
      "execution_count": 303,
      "outputs": []
    },
    {
      "cell_type": "code",
      "source": [
        "df1['Occupation'].isna().sum()"
      ],
      "metadata": {
        "colab": {
          "base_uri": "https://localhost:8080/"
        },
        "id": "mZwpyWLPAo5i",
        "outputId": "d84685ec-739d-4026-fcdf-d4e1f6d1ce19"
      },
      "id": "mZwpyWLPAo5i",
      "execution_count": 304,
      "outputs": [
        {
          "output_type": "execute_result",
          "data": {
            "text/plain": [
              "np.int64(7062)"
            ]
          },
          "metadata": {},
          "execution_count": 304
        }
      ]
    },
    {
      "cell_type": "markdown",
      "source": [
        "# Annual_Income"
      ],
      "metadata": {
        "id": "79560lN2hMtF"
      },
      "id": "79560lN2hMtF"
    },
    {
      "cell_type": "code",
      "source": [
        "df1[\"Annual_Income\"].unique()"
      ],
      "metadata": {
        "colab": {
          "base_uri": "https://localhost:8080/"
        },
        "id": "2FLKlKHihSgK",
        "outputId": "8e868899-edbd-4576-bbaf-7a754e809a8f"
      },
      "id": "2FLKlKHihSgK",
      "execution_count": 305,
      "outputs": [
        {
          "output_type": "execute_result",
          "data": {
            "text/plain": [
              "array(['19114.12', '34847.84', '34847.84_', ..., '20002.88', '39628.99',\n",
              "       '39628.99_'], dtype=object)"
            ]
          },
          "metadata": {},
          "execution_count": 305
        }
      ]
    },
    {
      "cell_type": "code",
      "source": [
        "df1.Annual_Income.value_counts()"
      ],
      "metadata": {
        "colab": {
          "base_uri": "https://localhost:8080/",
          "height": 490
        },
        "id": "UYmHjMIghEIZ",
        "outputId": "a5d9d65a-c751-4506-869b-753a8909c31c"
      },
      "id": "UYmHjMIghEIZ",
      "execution_count": 306,
      "outputs": [
        {
          "output_type": "execute_result",
          "data": {
            "text/plain": [
              "Annual_Income\n",
              "36585.12     16\n",
              "20867.67     16\n",
              "17273.83     16\n",
              "95596.35     15\n",
              "33029.66     15\n",
              "             ..\n",
              "3917169.0     1\n",
              "89394.78_     1\n",
              "36806.84_     1\n",
              "24363.78_     1\n",
              "95685.21_     1\n",
              "Name: count, Length: 18940, dtype: int64"
            ],
            "text/html": [
              "<div>\n",
              "<style scoped>\n",
              "    .dataframe tbody tr th:only-of-type {\n",
              "        vertical-align: middle;\n",
              "    }\n",
              "\n",
              "    .dataframe tbody tr th {\n",
              "        vertical-align: top;\n",
              "    }\n",
              "\n",
              "    .dataframe thead th {\n",
              "        text-align: right;\n",
              "    }\n",
              "</style>\n",
              "<table border=\"1\" class=\"dataframe\">\n",
              "  <thead>\n",
              "    <tr style=\"text-align: right;\">\n",
              "      <th></th>\n",
              "      <th>count</th>\n",
              "    </tr>\n",
              "    <tr>\n",
              "      <th>Annual_Income</th>\n",
              "      <th></th>\n",
              "    </tr>\n",
              "  </thead>\n",
              "  <tbody>\n",
              "    <tr>\n",
              "      <th>36585.12</th>\n",
              "      <td>16</td>\n",
              "    </tr>\n",
              "    <tr>\n",
              "      <th>20867.67</th>\n",
              "      <td>16</td>\n",
              "    </tr>\n",
              "    <tr>\n",
              "      <th>17273.83</th>\n",
              "      <td>16</td>\n",
              "    </tr>\n",
              "    <tr>\n",
              "      <th>95596.35</th>\n",
              "      <td>15</td>\n",
              "    </tr>\n",
              "    <tr>\n",
              "      <th>33029.66</th>\n",
              "      <td>15</td>\n",
              "    </tr>\n",
              "    <tr>\n",
              "      <th>...</th>\n",
              "      <td>...</td>\n",
              "    </tr>\n",
              "    <tr>\n",
              "      <th>3917169.0</th>\n",
              "      <td>1</td>\n",
              "    </tr>\n",
              "    <tr>\n",
              "      <th>89394.78_</th>\n",
              "      <td>1</td>\n",
              "    </tr>\n",
              "    <tr>\n",
              "      <th>36806.84_</th>\n",
              "      <td>1</td>\n",
              "    </tr>\n",
              "    <tr>\n",
              "      <th>24363.78_</th>\n",
              "      <td>1</td>\n",
              "    </tr>\n",
              "    <tr>\n",
              "      <th>95685.21_</th>\n",
              "      <td>1</td>\n",
              "    </tr>\n",
              "  </tbody>\n",
              "</table>\n",
              "<p>18940 rows × 1 columns</p>\n",
              "</div><br><label><b>dtype:</b> int64</label>"
            ]
          },
          "metadata": {},
          "execution_count": 306
        }
      ]
    },
    {
      "cell_type": "code",
      "source": [
        "# xoá ký tự \"_\" không hợp lệ:\n",
        "df1[\"Annual_Income\"] = df1[\"Annual_Income\"].str.strip(\"_\")\n",
        "\n",
        "# chuyển str về int:\n",
        "df1[\"Annual_Income\"] = pd.to_numeric(df1[\"Annual_Income\"], downcast=\"integer\")\n",
        "df1[\"Annual_Income\"].dtype"
      ],
      "metadata": {
        "colab": {
          "base_uri": "https://localhost:8080/"
        },
        "id": "_chKrK5OhEFG",
        "outputId": "af1a2b2c-6b88-4be6-eadd-a832da7abf94"
      },
      "id": "_chKrK5OhEFG",
      "execution_count": 307,
      "outputs": [
        {
          "output_type": "execute_result",
          "data": {
            "text/plain": [
              "dtype('float64')"
            ]
          },
          "metadata": {},
          "execution_count": 307
        }
      ]
    },
    {
      "cell_type": "markdown",
      "source": [
        "# Payment_Behaviour"
      ],
      "metadata": {
        "id": "UDxcCotb3WGw"
      },
      "id": "UDxcCotb3WGw"
    },
    {
      "cell_type": "code",
      "source": [
        "df1.Payment_Behaviour.value_counts()"
      ],
      "metadata": {
        "colab": {
          "base_uri": "https://localhost:8080/",
          "height": 335
        },
        "id": "VLIy8geH2mPB",
        "outputId": "ba9d282a-6780-498a-a9e4-bf5f19f38731"
      },
      "id": "VLIy8geH2mPB",
      "execution_count": 308,
      "outputs": [
        {
          "output_type": "execute_result",
          "data": {
            "text/plain": [
              "Payment_Behaviour\n",
              "Low_spent_Small_value_payments      25513\n",
              "High_spent_Medium_value_payments    17540\n",
              "Low_spent_Medium_value_payments     13861\n",
              "High_spent_Large_value_payments     13721\n",
              "High_spent_Small_value_payments     11340\n",
              "Low_spent_Large_value_payments      10425\n",
              "!@9#%8                               7600\n",
              "Name: count, dtype: int64"
            ],
            "text/html": [
              "<div>\n",
              "<style scoped>\n",
              "    .dataframe tbody tr th:only-of-type {\n",
              "        vertical-align: middle;\n",
              "    }\n",
              "\n",
              "    .dataframe tbody tr th {\n",
              "        vertical-align: top;\n",
              "    }\n",
              "\n",
              "    .dataframe thead th {\n",
              "        text-align: right;\n",
              "    }\n",
              "</style>\n",
              "<table border=\"1\" class=\"dataframe\">\n",
              "  <thead>\n",
              "    <tr style=\"text-align: right;\">\n",
              "      <th></th>\n",
              "      <th>count</th>\n",
              "    </tr>\n",
              "    <tr>\n",
              "      <th>Payment_Behaviour</th>\n",
              "      <th></th>\n",
              "    </tr>\n",
              "  </thead>\n",
              "  <tbody>\n",
              "    <tr>\n",
              "      <th>Low_spent_Small_value_payments</th>\n",
              "      <td>25513</td>\n",
              "    </tr>\n",
              "    <tr>\n",
              "      <th>High_spent_Medium_value_payments</th>\n",
              "      <td>17540</td>\n",
              "    </tr>\n",
              "    <tr>\n",
              "      <th>Low_spent_Medium_value_payments</th>\n",
              "      <td>13861</td>\n",
              "    </tr>\n",
              "    <tr>\n",
              "      <th>High_spent_Large_value_payments</th>\n",
              "      <td>13721</td>\n",
              "    </tr>\n",
              "    <tr>\n",
              "      <th>High_spent_Small_value_payments</th>\n",
              "      <td>11340</td>\n",
              "    </tr>\n",
              "    <tr>\n",
              "      <th>Low_spent_Large_value_payments</th>\n",
              "      <td>10425</td>\n",
              "    </tr>\n",
              "    <tr>\n",
              "      <th>!@9#%8</th>\n",
              "      <td>7600</td>\n",
              "    </tr>\n",
              "  </tbody>\n",
              "</table>\n",
              "</div><br><label><b>dtype:</b> int64</label>"
            ]
          },
          "metadata": {},
          "execution_count": 308
        }
      ]
    },
    {
      "cell_type": "code",
      "source": [
        "# điền giá trị ko hợp lệ bằng nan\n",
        "df1.loc[(df1[\"Payment_Behaviour\"] == \"!@9#%8\"), \"Payment_Behaviour\"] = np.nan"
      ],
      "metadata": {
        "id": "UdF3fMxo2mLl"
      },
      "id": "UdF3fMxo2mLl",
      "execution_count": 309,
      "outputs": []
    },
    {
      "cell_type": "markdown",
      "source": [
        "# Monthly_Balance"
      ],
      "metadata": {
        "id": "nPodI8s1kTsN"
      },
      "id": "nPodI8s1kTsN"
    },
    {
      "cell_type": "code",
      "source": [
        "df1[\"Monthly_Balance\"].unique()"
      ],
      "metadata": {
        "colab": {
          "base_uri": "https://localhost:8080/"
        },
        "id": "C1G7YQ1Sj-sc",
        "outputId": "0f70e66c-d374-4eb2-ab2b-22f48a95a94c"
      },
      "id": "C1G7YQ1Sj-sc",
      "execution_count": 310,
      "outputs": [
        {
          "output_type": "execute_result",
          "data": {
            "text/plain": [
              "array(['312.49408867943663', '284.62916249607184', '331.2098628537912',\n",
              "       ..., 516.8090832742814, 319.1649785257098, 393.6736955618808],\n",
              "      dtype=object)"
            ]
          },
          "metadata": {},
          "execution_count": 310
        }
      ]
    },
    {
      "cell_type": "code",
      "source": [
        "# đếm số lần xuất hiện của các giá trị duy nhất của cột Monthly_Balance:\n",
        "df1.Monthly_Balance.value_counts(dropna=False)"
      ],
      "metadata": {
        "colab": {
          "base_uri": "https://localhost:8080/",
          "height": 490
        },
        "id": "jZIYPidPk5lP",
        "outputId": "c1a001a7-0c40-47e9-ce86-ac3727d45826"
      },
      "id": "jZIYPidPk5lP",
      "execution_count": 311,
      "outputs": [
        {
          "output_type": "execute_result",
          "data": {
            "text/plain": [
              "Monthly_Balance\n",
              "NaN                                 1200\n",
              "__-333333333333333333333333333__       9\n",
              "254.9709216273975                      1\n",
              "250.0931678204641                      1\n",
              "289.7550752754317                      1\n",
              "                                    ... \n",
              "278.8720257394474                      1\n",
              "376.7024623690405                      1\n",
              "321.2336043357731                      1\n",
              "373.29270287694055                     1\n",
              "336.6371802877606                      1\n",
              "Name: count, Length: 98793, dtype: int64"
            ],
            "text/html": [
              "<div>\n",
              "<style scoped>\n",
              "    .dataframe tbody tr th:only-of-type {\n",
              "        vertical-align: middle;\n",
              "    }\n",
              "\n",
              "    .dataframe tbody tr th {\n",
              "        vertical-align: top;\n",
              "    }\n",
              "\n",
              "    .dataframe thead th {\n",
              "        text-align: right;\n",
              "    }\n",
              "</style>\n",
              "<table border=\"1\" class=\"dataframe\">\n",
              "  <thead>\n",
              "    <tr style=\"text-align: right;\">\n",
              "      <th></th>\n",
              "      <th>count</th>\n",
              "    </tr>\n",
              "    <tr>\n",
              "      <th>Monthly_Balance</th>\n",
              "      <th></th>\n",
              "    </tr>\n",
              "  </thead>\n",
              "  <tbody>\n",
              "    <tr>\n",
              "      <th>NaN</th>\n",
              "      <td>1200</td>\n",
              "    </tr>\n",
              "    <tr>\n",
              "      <th>__-333333333333333333333333333__</th>\n",
              "      <td>9</td>\n",
              "    </tr>\n",
              "    <tr>\n",
              "      <th>254.9709216273975</th>\n",
              "      <td>1</td>\n",
              "    </tr>\n",
              "    <tr>\n",
              "      <th>250.0931678204641</th>\n",
              "      <td>1</td>\n",
              "    </tr>\n",
              "    <tr>\n",
              "      <th>289.7550752754317</th>\n",
              "      <td>1</td>\n",
              "    </tr>\n",
              "    <tr>\n",
              "      <th>...</th>\n",
              "      <td>...</td>\n",
              "    </tr>\n",
              "    <tr>\n",
              "      <th>278.8720257394474</th>\n",
              "      <td>1</td>\n",
              "    </tr>\n",
              "    <tr>\n",
              "      <th>376.7024623690405</th>\n",
              "      <td>1</td>\n",
              "    </tr>\n",
              "    <tr>\n",
              "      <th>321.2336043357731</th>\n",
              "      <td>1</td>\n",
              "    </tr>\n",
              "    <tr>\n",
              "      <th>373.29270287694055</th>\n",
              "      <td>1</td>\n",
              "    </tr>\n",
              "    <tr>\n",
              "      <th>336.6371802877606</th>\n",
              "      <td>1</td>\n",
              "    </tr>\n",
              "  </tbody>\n",
              "</table>\n",
              "<p>98793 rows × 1 columns</p>\n",
              "</div><br><label><b>dtype:</b> int64</label>"
            ]
          },
          "metadata": {},
          "execution_count": 311
        }
      ]
    },
    {
      "cell_type": "code",
      "source": [
        "# đếm giá trị ko hợp lệ:\n",
        "df1[pd.to_numeric(\n",
        "    df1[\"Monthly_Balance\"],\n",
        "    errors=\"coerce\").isna()][\"Monthly_Balance\"].value_counts(dropna=False)"
      ],
      "metadata": {
        "colab": {
          "base_uri": "https://localhost:8080/",
          "height": 178
        },
        "id": "Kf1X2dPAj5yi",
        "outputId": "e43bf6fa-d5e3-4595-cdb5-a998ca640b5e"
      },
      "id": "Kf1X2dPAj5yi",
      "execution_count": 312,
      "outputs": [
        {
          "output_type": "execute_result",
          "data": {
            "text/plain": [
              "Monthly_Balance\n",
              "NaN                                 1200\n",
              "__-333333333333333333333333333__       9\n",
              "Name: count, dtype: int64"
            ],
            "text/html": [
              "<div>\n",
              "<style scoped>\n",
              "    .dataframe tbody tr th:only-of-type {\n",
              "        vertical-align: middle;\n",
              "    }\n",
              "\n",
              "    .dataframe tbody tr th {\n",
              "        vertical-align: top;\n",
              "    }\n",
              "\n",
              "    .dataframe thead th {\n",
              "        text-align: right;\n",
              "    }\n",
              "</style>\n",
              "<table border=\"1\" class=\"dataframe\">\n",
              "  <thead>\n",
              "    <tr style=\"text-align: right;\">\n",
              "      <th></th>\n",
              "      <th>count</th>\n",
              "    </tr>\n",
              "    <tr>\n",
              "      <th>Monthly_Balance</th>\n",
              "      <th></th>\n",
              "    </tr>\n",
              "  </thead>\n",
              "  <tbody>\n",
              "    <tr>\n",
              "      <th>NaN</th>\n",
              "      <td>1200</td>\n",
              "    </tr>\n",
              "    <tr>\n",
              "      <th>__-333333333333333333333333333__</th>\n",
              "      <td>9</td>\n",
              "    </tr>\n",
              "  </tbody>\n",
              "</table>\n",
              "</div><br><label><b>dtype:</b> int64</label>"
            ]
          },
          "metadata": {},
          "execution_count": 312
        }
      ]
    },
    {
      "cell_type": "code",
      "source": [
        "# thay giá trị không hợp lệ bằng null:\n",
        "df1[\"Monthly_Balance\"] = df1[\"Monthly_Balance\"].replace('__-333333333333333333333333333__', np.nan)"
      ],
      "metadata": {
        "id": "1N0xUSf1nuph"
      },
      "id": "1N0xUSf1nuph",
      "execution_count": 313,
      "outputs": []
    },
    {
      "cell_type": "code",
      "source": [
        "# # loại bỏ ký tự không hợp lệ:\n",
        "# df1['Monthly_Balance'] = df1['Monthly_Balance'].apply(\n",
        "#     lambda x: x.replace('_', '').replace('-', '') if isinstance(x, str) else x)\n",
        "\n",
        "# chuyển về kiểu float:\n",
        "df1[\"Monthly_Balance\"] = df1[\"Monthly_Balance\"].astype('float')\n",
        "\n",
        "# Check kiểu dữ liệu:\n",
        "df1[\"Monthly_Balance\"].dtype"
      ],
      "metadata": {
        "colab": {
          "base_uri": "https://localhost:8080/"
        },
        "id": "fuv6WetooJXm",
        "outputId": "fe6af17e-33e4-4901-b049-2428033739d6"
      },
      "id": "fuv6WetooJXm",
      "execution_count": 314,
      "outputs": [
        {
          "output_type": "execute_result",
          "data": {
            "text/plain": [
              "dtype('float64')"
            ]
          },
          "metadata": {},
          "execution_count": 314
        }
      ]
    },
    {
      "cell_type": "code",
      "source": [
        "# df1[\"Monthly_Balance\"].hist(bins=10)"
      ],
      "metadata": {
        "id": "90dVfbfFC6WF"
      },
      "id": "90dVfbfFC6WF",
      "execution_count": 315,
      "outputs": []
    },
    {
      "cell_type": "code",
      "source": [
        "# df1[\"Monthly_Balance\"].isna().sum()"
      ],
      "metadata": {
        "id": "kDBoZ9dpDDZ_"
      },
      "id": "kDBoZ9dpDDZ_",
      "execution_count": 316,
      "outputs": []
    },
    {
      "cell_type": "markdown",
      "source": [
        "# Credit_Mix"
      ],
      "metadata": {
        "id": "eG5K-VX3tg5-"
      },
      "id": "eG5K-VX3tg5-"
    },
    {
      "cell_type": "code",
      "source": [
        "df1[\"Credit_Mix\"].unique()"
      ],
      "metadata": {
        "id": "rH5z1BaXhD-2",
        "colab": {
          "base_uri": "https://localhost:8080/"
        },
        "outputId": "28116c4b-9a30-47cb-fdfb-0538c19c5613"
      },
      "id": "rH5z1BaXhD-2",
      "execution_count": 317,
      "outputs": [
        {
          "output_type": "execute_result",
          "data": {
            "text/plain": [
              "array(['_', 'Good', 'Standard', 'Bad'], dtype=object)"
            ]
          },
          "metadata": {},
          "execution_count": 317
        }
      ]
    },
    {
      "cell_type": "code",
      "source": [
        "df1.Credit_Mix.value_counts()"
      ],
      "metadata": {
        "colab": {
          "base_uri": "https://localhost:8080/",
          "height": 241
        },
        "id": "TSJryu43numH",
        "outputId": "d625e3e0-d507-4da2-9d9e-388e1b9e8bbb"
      },
      "id": "TSJryu43numH",
      "execution_count": 318,
      "outputs": [
        {
          "output_type": "execute_result",
          "data": {
            "text/plain": [
              "Credit_Mix\n",
              "Standard    36479\n",
              "Good        24337\n",
              "_           20195\n",
              "Bad         18989\n",
              "Name: count, dtype: int64"
            ],
            "text/html": [
              "<div>\n",
              "<style scoped>\n",
              "    .dataframe tbody tr th:only-of-type {\n",
              "        vertical-align: middle;\n",
              "    }\n",
              "\n",
              "    .dataframe tbody tr th {\n",
              "        vertical-align: top;\n",
              "    }\n",
              "\n",
              "    .dataframe thead th {\n",
              "        text-align: right;\n",
              "    }\n",
              "</style>\n",
              "<table border=\"1\" class=\"dataframe\">\n",
              "  <thead>\n",
              "    <tr style=\"text-align: right;\">\n",
              "      <th></th>\n",
              "      <th>count</th>\n",
              "    </tr>\n",
              "    <tr>\n",
              "      <th>Credit_Mix</th>\n",
              "      <th></th>\n",
              "    </tr>\n",
              "  </thead>\n",
              "  <tbody>\n",
              "    <tr>\n",
              "      <th>Standard</th>\n",
              "      <td>36479</td>\n",
              "    </tr>\n",
              "    <tr>\n",
              "      <th>Good</th>\n",
              "      <td>24337</td>\n",
              "    </tr>\n",
              "    <tr>\n",
              "      <th>_</th>\n",
              "      <td>20195</td>\n",
              "    </tr>\n",
              "    <tr>\n",
              "      <th>Bad</th>\n",
              "      <td>18989</td>\n",
              "    </tr>\n",
              "  </tbody>\n",
              "</table>\n",
              "</div><br><label><b>dtype:</b> int64</label>"
            ]
          },
          "metadata": {},
          "execution_count": 318
        }
      ]
    },
    {
      "cell_type": "code",
      "source": [
        "# chuyển \"_\" bằng null\n",
        "df1.loc[df1[\"Credit_Mix\"] == \"_\", \"Credit_Mix\"] = pd.NA"
      ],
      "metadata": {
        "id": "S9Z_Kz-dnuip"
      },
      "id": "S9Z_Kz-dnuip",
      "execution_count": 319,
      "outputs": []
    },
    {
      "cell_type": "code",
      "source": [
        "df1[\"Credit_Mix\"].isna().sum()"
      ],
      "metadata": {
        "colab": {
          "base_uri": "https://localhost:8080/"
        },
        "id": "y2vaPaLCnufU",
        "outputId": "2a8767de-fcb3-40b1-b353-c6fdbd305c16"
      },
      "id": "y2vaPaLCnufU",
      "execution_count": 320,
      "outputs": [
        {
          "output_type": "execute_result",
          "data": {
            "text/plain": [
              "np.int64(20195)"
            ]
          },
          "metadata": {},
          "execution_count": 320
        }
      ]
    },
    {
      "cell_type": "markdown",
      "source": [
        "# Outstanding_Debt"
      ],
      "metadata": {
        "id": "1HZn2G6TwXQh"
      },
      "id": "1HZn2G6TwXQh"
    },
    {
      "cell_type": "code",
      "source": [
        "df1.Outstanding_Debt.value_counts().sample(10)\n"
      ],
      "metadata": {
        "colab": {
          "base_uri": "https://localhost:8080/",
          "height": 429
        },
        "id": "gNP28hq-wQnh",
        "outputId": "79e4e908-9d1c-4e37-adee-6bbffaf08398"
      },
      "id": "gNP28hq-wQnh",
      "execution_count": 321,
      "outputs": [
        {
          "output_type": "execute_result",
          "data": {
            "text/plain": [
              "Outstanding_Debt\n",
              "1669.88    8\n",
              "531.86     8\n",
              "2156.34    8\n",
              "1010.56    8\n",
              "800.89     8\n",
              "3566.21    8\n",
              "1428.58    8\n",
              "3651.35    7\n",
              "4265.64    8\n",
              "1084.02    8\n",
              "Name: count, dtype: int64"
            ],
            "text/html": [
              "<div>\n",
              "<style scoped>\n",
              "    .dataframe tbody tr th:only-of-type {\n",
              "        vertical-align: middle;\n",
              "    }\n",
              "\n",
              "    .dataframe tbody tr th {\n",
              "        vertical-align: top;\n",
              "    }\n",
              "\n",
              "    .dataframe thead th {\n",
              "        text-align: right;\n",
              "    }\n",
              "</style>\n",
              "<table border=\"1\" class=\"dataframe\">\n",
              "  <thead>\n",
              "    <tr style=\"text-align: right;\">\n",
              "      <th></th>\n",
              "      <th>count</th>\n",
              "    </tr>\n",
              "    <tr>\n",
              "      <th>Outstanding_Debt</th>\n",
              "      <th></th>\n",
              "    </tr>\n",
              "  </thead>\n",
              "  <tbody>\n",
              "    <tr>\n",
              "      <th>1669.88</th>\n",
              "      <td>8</td>\n",
              "    </tr>\n",
              "    <tr>\n",
              "      <th>531.86</th>\n",
              "      <td>8</td>\n",
              "    </tr>\n",
              "    <tr>\n",
              "      <th>2156.34</th>\n",
              "      <td>8</td>\n",
              "    </tr>\n",
              "    <tr>\n",
              "      <th>1010.56</th>\n",
              "      <td>8</td>\n",
              "    </tr>\n",
              "    <tr>\n",
              "      <th>800.89</th>\n",
              "      <td>8</td>\n",
              "    </tr>\n",
              "    <tr>\n",
              "      <th>3566.21</th>\n",
              "      <td>8</td>\n",
              "    </tr>\n",
              "    <tr>\n",
              "      <th>1428.58</th>\n",
              "      <td>8</td>\n",
              "    </tr>\n",
              "    <tr>\n",
              "      <th>3651.35</th>\n",
              "      <td>7</td>\n",
              "    </tr>\n",
              "    <tr>\n",
              "      <th>4265.64</th>\n",
              "      <td>8</td>\n",
              "    </tr>\n",
              "    <tr>\n",
              "      <th>1084.02</th>\n",
              "      <td>8</td>\n",
              "    </tr>\n",
              "  </tbody>\n",
              "</table>\n",
              "</div><br><label><b>dtype:</b> int64</label>"
            ]
          },
          "metadata": {},
          "execution_count": 321
        }
      ]
    },
    {
      "cell_type": "code",
      "source": [
        "df1[pd.to_numeric(df1[\"Outstanding_Debt\"], errors=\"coerce\").isna()][\"Outstanding_Debt\"].head(20)"
      ],
      "metadata": {
        "colab": {
          "base_uri": "https://localhost:8080/",
          "height": 711
        },
        "id": "RNYuHgT4wfi5",
        "outputId": "027762ed-f36f-44cb-c310-1361c8720102"
      },
      "id": "RNYuHgT4wfi5",
      "execution_count": 322,
      "outputs": [
        {
          "output_type": "execute_result",
          "data": {
            "text/plain": [
              "87      1328.93_\n",
              "142     1283.37_\n",
              "368     2797.17_\n",
              "632     3818.57_\n",
              "703      343.84_\n",
              "731      363.51_\n",
              "782      404.51_\n",
              "819     1755.81_\n",
              "835     2593.44_\n",
              "992       89.62_\n",
              "1147    1054.86_\n",
              "1148    1054.86_\n",
              "1162    1374.23_\n",
              "1243    1166.47_\n",
              "1339     457.81_\n",
              "1369    1684.06_\n",
              "1486    1126.35_\n",
              "1542    2098.83_\n",
              "1573     761.18_\n",
              "1633    1343.01_\n",
              "Name: Outstanding_Debt, dtype: object"
            ],
            "text/html": [
              "<div>\n",
              "<style scoped>\n",
              "    .dataframe tbody tr th:only-of-type {\n",
              "        vertical-align: middle;\n",
              "    }\n",
              "\n",
              "    .dataframe tbody tr th {\n",
              "        vertical-align: top;\n",
              "    }\n",
              "\n",
              "    .dataframe thead th {\n",
              "        text-align: right;\n",
              "    }\n",
              "</style>\n",
              "<table border=\"1\" class=\"dataframe\">\n",
              "  <thead>\n",
              "    <tr style=\"text-align: right;\">\n",
              "      <th></th>\n",
              "      <th>Outstanding_Debt</th>\n",
              "    </tr>\n",
              "  </thead>\n",
              "  <tbody>\n",
              "    <tr>\n",
              "      <th>87</th>\n",
              "      <td>1328.93_</td>\n",
              "    </tr>\n",
              "    <tr>\n",
              "      <th>142</th>\n",
              "      <td>1283.37_</td>\n",
              "    </tr>\n",
              "    <tr>\n",
              "      <th>368</th>\n",
              "      <td>2797.17_</td>\n",
              "    </tr>\n",
              "    <tr>\n",
              "      <th>632</th>\n",
              "      <td>3818.57_</td>\n",
              "    </tr>\n",
              "    <tr>\n",
              "      <th>703</th>\n",
              "      <td>343.84_</td>\n",
              "    </tr>\n",
              "    <tr>\n",
              "      <th>731</th>\n",
              "      <td>363.51_</td>\n",
              "    </tr>\n",
              "    <tr>\n",
              "      <th>782</th>\n",
              "      <td>404.51_</td>\n",
              "    </tr>\n",
              "    <tr>\n",
              "      <th>819</th>\n",
              "      <td>1755.81_</td>\n",
              "    </tr>\n",
              "    <tr>\n",
              "      <th>835</th>\n",
              "      <td>2593.44_</td>\n",
              "    </tr>\n",
              "    <tr>\n",
              "      <th>992</th>\n",
              "      <td>89.62_</td>\n",
              "    </tr>\n",
              "    <tr>\n",
              "      <th>1147</th>\n",
              "      <td>1054.86_</td>\n",
              "    </tr>\n",
              "    <tr>\n",
              "      <th>1148</th>\n",
              "      <td>1054.86_</td>\n",
              "    </tr>\n",
              "    <tr>\n",
              "      <th>1162</th>\n",
              "      <td>1374.23_</td>\n",
              "    </tr>\n",
              "    <tr>\n",
              "      <th>1243</th>\n",
              "      <td>1166.47_</td>\n",
              "    </tr>\n",
              "    <tr>\n",
              "      <th>1339</th>\n",
              "      <td>457.81_</td>\n",
              "    </tr>\n",
              "    <tr>\n",
              "      <th>1369</th>\n",
              "      <td>1684.06_</td>\n",
              "    </tr>\n",
              "    <tr>\n",
              "      <th>1486</th>\n",
              "      <td>1126.35_</td>\n",
              "    </tr>\n",
              "    <tr>\n",
              "      <th>1542</th>\n",
              "      <td>2098.83_</td>\n",
              "    </tr>\n",
              "    <tr>\n",
              "      <th>1573</th>\n",
              "      <td>761.18_</td>\n",
              "    </tr>\n",
              "    <tr>\n",
              "      <th>1633</th>\n",
              "      <td>1343.01_</td>\n",
              "    </tr>\n",
              "  </tbody>\n",
              "</table>\n",
              "</div><br><label><b>dtype:</b> object</label>"
            ]
          },
          "metadata": {},
          "execution_count": 322
        }
      ]
    },
    {
      "cell_type": "code",
      "source": [
        "df1[\"Outstanding_Debt\"] = df1[\"Outstanding_Debt\"].str.strip(\"_\")\n",
        "\n",
        "df1[\"Outstanding_Debt\"] = pd.to_numeric(df1[\"Outstanding_Debt\"], downcast=\"float\")\n",
        "\n",
        "df1[\"Outstanding_Debt\"].dtype"
      ],
      "metadata": {
        "colab": {
          "base_uri": "https://localhost:8080/"
        },
        "id": "TnrUh7nFwrWZ",
        "outputId": "911065e5-ce87-4e19-eac5-719c3f02e185"
      },
      "id": "TnrUh7nFwrWZ",
      "execution_count": 323,
      "outputs": [
        {
          "output_type": "execute_result",
          "data": {
            "text/plain": [
              "dtype('float32')"
            ]
          },
          "metadata": {},
          "execution_count": 323
        }
      ]
    },
    {
      "cell_type": "markdown",
      "source": [
        "# Num_of_Loan"
      ],
      "metadata": {
        "id": "2Ub38Ccayecc"
      },
      "id": "2Ub38Ccayecc"
    },
    {
      "cell_type": "code",
      "source": [
        "df1[\"Num_of_Loan\"].unique()"
      ],
      "metadata": {
        "colab": {
          "base_uri": "https://localhost:8080/"
        },
        "collapsed": true,
        "id": "CaHnwwD3xG8w",
        "outputId": "4f3c363b-476c-494d-dd68-927c25d7de70"
      },
      "id": "CaHnwwD3xG8w",
      "execution_count": 324,
      "outputs": [
        {
          "output_type": "execute_result",
          "data": {
            "text/plain": [
              "array(['4', '1', '3', '967', '-100', '0', '0_', '2', '3_', '2_', '7', '5',\n",
              "       '5_', '6', '8', '8_', '9', '9_', '4_', '7_', '1_', '1464', '6_',\n",
              "       '622', '352', '472', '1017', '945', '146', '563', '341', '444',\n",
              "       '720', '1485', '49', '737', '1106', '466', '728', '313', '843',\n",
              "       '597_', '617', '119', '663', '640', '92_', '1019', '501', '1302',\n",
              "       '39', '716', '848', '931', '1214', '186', '424', '1001', '1110',\n",
              "       '1152', '457', '1433', '1187', '52', '1480', '1047', '1035',\n",
              "       '1347_', '33', '193', '699', '329', '1451', '484', '132', '649',\n",
              "       '995', '545', '684', '1135', '1094', '1204', '654', '58', '348',\n",
              "       '614', '1363', '323', '1406', '1348', '430', '153', '1461', '905',\n",
              "       '1312', '1424', '1154', '95', '1353', '1228', '819', '1006', '795',\n",
              "       '359', '1209', '590', '696', '1185_', '1465', '911', '1181', '70',\n",
              "       '816', '1369', '143', '1416', '455', '55', '1096', '1474', '420',\n",
              "       '1131', '904', '89', '1259', '527', '1241', '449', '983', '418',\n",
              "       '319', '23', '238', '638', '138', '235_', '280', '1070', '1484',\n",
              "       '274', '494', '1459_', '404', '1354', '1495', '1391', '601',\n",
              "       '1313', '1319', '898', '231', '752', '174', '961', '1046', '834',\n",
              "       '284', '438', '288', '1463', '1151', '719', '198', '1015', '855',\n",
              "       '841', '392', '1444', '103', '1320_', '745', '172', '252', '630_',\n",
              "       '241', '31', '405', '1217', '1030', '1257', '137', '157', '164',\n",
              "       '1088', '1236', '777', '1048', '613', '330', '1439', '321', '661',\n",
              "       '952', '939', '562', '1202', '302', '943', '394', '955', '1318',\n",
              "       '936', '781', '100', '1329', '1365', '860', '217', '191', '32',\n",
              "       '282', '351', '1387', '757', '416', '833', '359_', '292', '1225_',\n",
              "       '1227', '639', '859', '243', '267', '510', '332', '996', '597',\n",
              "       '311', '492', '820', '336', '123', '540', '131_', '1311_', '1441',\n",
              "       '895', '891', '50', '940', '935', '596', '29', '1182', '1129_',\n",
              "       '1014', '251', '365', '291', '1447', '742', '1085', '148', '462',\n",
              "       '832', '881', '1225', '1412', '785_', '1127', '910', '538', '999',\n",
              "       '733', '101', '237', '87', '659', '633', '387', '447', '629',\n",
              "       '831', '1384', '773', '621', '1419', '289', '143_', '285', '1393',\n",
              "       '1131_', '27_', '1359', '1482', '1189', '1294', '201', '579',\n",
              "       '814', '141', '1320', '581', '1171_', '295', '290', '433', '679',\n",
              "       '1040', '1054', '1430', '1023', '1077', '1457', '1150', '701',\n",
              "       '1382', '889', '437', '372', '1222', '126', '1159', '868', '19',\n",
              "       '1297', '227_', '190', '809', '1216', '1074', '571', '520', '1274',\n",
              "       '1340', '991', '316', '697', '926', '873', '1002', '378_', '65',\n",
              "       '875', '867', '548', '652', '1372', '606', '1036', '1300', '17',\n",
              "       '1178', '802', '1219_', '1271', '1137', '1496', '439', '196',\n",
              "       '636', '192', '228', '1053', '229', '753', '1296', '1371', '254',\n",
              "       '863', '464', '515', '838', '1160', '1289', '1298', '799', '182',\n",
              "       '574', '527_', '242', '415', '869', '958', '54', '1265', '656',\n",
              "       '275', '778', '208', '147', '350', '507', '463', '497', '1129',\n",
              "       '927', '653', '662', '529', '635', '1027_', '897', '1039', '227',\n",
              "       '1345', '924', '696_', '1279', '546', '1112', '1210', '526', '300',\n",
              "       '1103', '504', '136', '1400', '78', '686', '1091', '344', '215',\n",
              "       '84', '628', '1470', '968', '1478', '83', '1196', '1307', '1132_',\n",
              "       '1008', '917', '657', '56', '18', '41', '801', '978', '216', '349',\n",
              "       '966'], dtype=object)"
            ]
          },
          "metadata": {},
          "execution_count": 324
        }
      ]
    },
    {
      "cell_type": "code",
      "source": [
        "df1[pd.to_numeric(df1[\"Num_of_Loan\"], errors=\"coerce\").isna()][\"Num_of_Loan\"].head(20)\n"
      ],
      "metadata": {
        "colab": {
          "base_uri": "https://localhost:8080/",
          "height": 711
        },
        "collapsed": true,
        "id": "5bvVF-T7ye3w",
        "outputId": "c070c467-7169-49e0-fd64-572290865ec7"
      },
      "id": "5bvVF-T7ye3w",
      "execution_count": 325,
      "outputs": [
        {
          "output_type": "execute_result",
          "data": {
            "text/plain": [
              "37     0_\n",
              "80     3_\n",
              "84     3_\n",
              "94     2_\n",
              "119    5_\n",
              "125    2_\n",
              "131    0_\n",
              "144    0_\n",
              "158    5_\n",
              "256    2_\n",
              "360    8_\n",
              "366    8_\n",
              "377    2_\n",
              "382    2_\n",
              "391    9_\n",
              "410    5_\n",
              "442    4_\n",
              "481    7_\n",
              "483    7_\n",
              "486    7_\n",
              "Name: Num_of_Loan, dtype: object"
            ],
            "text/html": [
              "<div>\n",
              "<style scoped>\n",
              "    .dataframe tbody tr th:only-of-type {\n",
              "        vertical-align: middle;\n",
              "    }\n",
              "\n",
              "    .dataframe tbody tr th {\n",
              "        vertical-align: top;\n",
              "    }\n",
              "\n",
              "    .dataframe thead th {\n",
              "        text-align: right;\n",
              "    }\n",
              "</style>\n",
              "<table border=\"1\" class=\"dataframe\">\n",
              "  <thead>\n",
              "    <tr style=\"text-align: right;\">\n",
              "      <th></th>\n",
              "      <th>Num_of_Loan</th>\n",
              "    </tr>\n",
              "  </thead>\n",
              "  <tbody>\n",
              "    <tr>\n",
              "      <th>37</th>\n",
              "      <td>0_</td>\n",
              "    </tr>\n",
              "    <tr>\n",
              "      <th>80</th>\n",
              "      <td>3_</td>\n",
              "    </tr>\n",
              "    <tr>\n",
              "      <th>84</th>\n",
              "      <td>3_</td>\n",
              "    </tr>\n",
              "    <tr>\n",
              "      <th>94</th>\n",
              "      <td>2_</td>\n",
              "    </tr>\n",
              "    <tr>\n",
              "      <th>119</th>\n",
              "      <td>5_</td>\n",
              "    </tr>\n",
              "    <tr>\n",
              "      <th>125</th>\n",
              "      <td>2_</td>\n",
              "    </tr>\n",
              "    <tr>\n",
              "      <th>131</th>\n",
              "      <td>0_</td>\n",
              "    </tr>\n",
              "    <tr>\n",
              "      <th>144</th>\n",
              "      <td>0_</td>\n",
              "    </tr>\n",
              "    <tr>\n",
              "      <th>158</th>\n",
              "      <td>5_</td>\n",
              "    </tr>\n",
              "    <tr>\n",
              "      <th>256</th>\n",
              "      <td>2_</td>\n",
              "    </tr>\n",
              "    <tr>\n",
              "      <th>360</th>\n",
              "      <td>8_</td>\n",
              "    </tr>\n",
              "    <tr>\n",
              "      <th>366</th>\n",
              "      <td>8_</td>\n",
              "    </tr>\n",
              "    <tr>\n",
              "      <th>377</th>\n",
              "      <td>2_</td>\n",
              "    </tr>\n",
              "    <tr>\n",
              "      <th>382</th>\n",
              "      <td>2_</td>\n",
              "    </tr>\n",
              "    <tr>\n",
              "      <th>391</th>\n",
              "      <td>9_</td>\n",
              "    </tr>\n",
              "    <tr>\n",
              "      <th>410</th>\n",
              "      <td>5_</td>\n",
              "    </tr>\n",
              "    <tr>\n",
              "      <th>442</th>\n",
              "      <td>4_</td>\n",
              "    </tr>\n",
              "    <tr>\n",
              "      <th>481</th>\n",
              "      <td>7_</td>\n",
              "    </tr>\n",
              "    <tr>\n",
              "      <th>483</th>\n",
              "      <td>7_</td>\n",
              "    </tr>\n",
              "    <tr>\n",
              "      <th>486</th>\n",
              "      <td>7_</td>\n",
              "    </tr>\n",
              "  </tbody>\n",
              "</table>\n",
              "</div><br><label><b>dtype:</b> object</label>"
            ]
          },
          "metadata": {},
          "execution_count": 325
        }
      ]
    },
    {
      "cell_type": "code",
      "source": [
        "df1[\"Num_of_Loan\"] = df1[\"Num_of_Loan\"].str.strip(\"_\")\n",
        "df1[\"Num_of_Loan\"] = pd.to_numeric(df1[\"Num_of_Loan\"], downcast=\"integer\")\n",
        "\n",
        "df1[\"Num_of_Loan\"].dtype"
      ],
      "metadata": {
        "colab": {
          "base_uri": "https://localhost:8080/"
        },
        "id": "PTkTraWaytn8",
        "outputId": "57aea8d3-ec77-46b0-8030-2175e5a24402"
      },
      "id": "PTkTraWaytn8",
      "execution_count": 326,
      "outputs": [
        {
          "output_type": "execute_result",
          "data": {
            "text/plain": [
              "dtype('int16')"
            ]
          },
          "metadata": {},
          "execution_count": 326
        }
      ]
    },
    {
      "cell_type": "markdown",
      "source": [
        "# Num_of_Delayed_Payment"
      ],
      "metadata": {
        "id": "x5XJdevbzZHp"
      },
      "id": "x5XJdevbzZHp"
    },
    {
      "cell_type": "code",
      "source": [
        "df1[\"Num_of_Delayed_Payment\"].unique()"
      ],
      "metadata": {
        "colab": {
          "base_uri": "https://localhost:8080/"
        },
        "collapsed": true,
        "id": "VRXvJxVIytgo",
        "outputId": "387c809d-f8db-4ab6-8661-4a9a00e5aa92"
      },
      "id": "VRXvJxVIytgo",
      "execution_count": 327,
      "outputs": [
        {
          "output_type": "execute_result",
          "data": {
            "text/plain": [
              "array(['7', nan, '4', '8_', '6', '1', '-1', '3_', '0', '8', '5', '3', '9',\n",
              "       '12', '15', '17', '10', '2', '2_', '11', '14', '20', '22', '13',\n",
              "       '13_', '14_', '16', '12_', '18', '19', '23', '24', '21', '3318',\n",
              "       '3083', '22_', '1338', '4_', '26', '11_', '3104', '21_', '25',\n",
              "       '10_', '183_', '9_', '1106', '834', '19_', '24_', '17_', '23_',\n",
              "       '2672', '20_', '2008', '-3', '538', '6_', '1_', '16_', '27', '-2',\n",
              "       '3478', '2420', '15_', '707', '708', '26_', '18_', '3815', '28',\n",
              "       '5_', '1867', '2250', '1463', '25_', '7_', '4126', '2882', '1941',\n",
              "       '2655', '2628', '132', '3069', '306', '0_', '3539', '3684', '1823',\n",
              "       '4128', '1946', '827', '2297', '2566', '904', '182', '929', '3568',\n",
              "       '2503', '1552', '2812', '1697', '3764', '851', '3905', '923', '88',\n",
              "       '1668', '3253', '808', '2689', '3858', '642', '3457', '1402',\n",
              "       '1732', '3154', '847', '3037', '2204', '3103', '1063', '2056',\n",
              "       '1282', '1841', '2569_', '211', '793', '3484', '411', '3491',\n",
              "       '2072', '3050', '1049', '2162', '3402', '2753', '27_', '1718',\n",
              "       '1014', '3260', '3855', '84', '2311', '3251', '1832', '4069',\n",
              "       '3010', '733', '4241', '166', '2461', '1749', '3200', '663_',\n",
              "       '2185', '4161', '3009', '359', '2015', '1523', '594', '1079',\n",
              "       '1199', '186', '1015', '1989', '281', '559', '2165', '1509',\n",
              "       '3545', '779', '192', '4311', '-2_', '2323', '1471', '1538',\n",
              "       '3529', '439', '3456', '3040', '2697', '3179', '1332', '3175',\n",
              "       '3112', '829', '4022', '3870', '4023', '531', '1511', '3092',\n",
              "       '3191', '2400', '3621', '3536', '544', '1864', '28_', '142',\n",
              "       '2300', '264', '72', '497', '398', '2222', '3960', '1473', '3043',\n",
              "       '4216', '2903', '2658', '-1_', '4042', '1323_', '2184', '921',\n",
              "       '1328', '3404', '2438', '809', '47', '1996', '4164', '1370',\n",
              "       '1204', '2167', '4011', '2590', '2594', '2533', '1663', '1018',\n",
              "       '2919', '3458', '3316', '2589', '2801', '3355', '2529', '2488',\n",
              "       '4266', '1243', '739', '845', '4107', '1884', '337', '2660', '290',\n",
              "       '674', '2450', '3738', '1792', '2823', '2570', '775', '960', '482',\n",
              "       '1706', '2493', '3623', '3031', '2794_', '2219_', '758_', '1849',\n",
              "       '3559', '4096', '3726', '1953', '2657', '4043', '2938', '4384',\n",
              "       '1647', '2694', '3533', '519', '2677', '2413', '-3_', '4139',\n",
              "       '2609', '4326', '4211', '823', '3011', '1608', '2860', '4219',\n",
              "       '4047', '1531', '742', '52', '4024', '1673', '49', '2243', '1685',\n",
              "       '1869', '2587', '3489', '749', '1164', '2616', '848_', '4134',\n",
              "       '1530', '1502', '4075', '3845', '1060', '2573', '2128', '328',\n",
              "       '640', '2585', '2230', '1795', '1180', '1534', '3739', '3313',\n",
              "       '4191', '996', '372', '3340', '3177', '602', '787', '4135', '3878',\n",
              "       '4059', '1218', '4051', '1766', '1359', '3107', '585', '1263',\n",
              "       '2511', '709', '3632', '4077', '2943', '2793', '3245', '2317',\n",
              "       '1640', '2237_', '3819', '252', '3978', '1498', '1833', '2737',\n",
              "       '1192', '1481', '700', '271', '2286', '273', '1215', '3944',\n",
              "       '2070', '1478', '3749', '871', '2508', '2959', '130', '294',\n",
              "       '3097_', '3511', '415', '2196', '2138', '2149', '1874', '1553',\n",
              "       '3847', '3222', '1222', '2907', '3051', '98', '1598', '416',\n",
              "       '2314', '2955', '1691', '1450', '2021', '1636', '80', '3708',\n",
              "       '195', '320', '2945', '1911', '3416', '3796', '4159', '2255',\n",
              "       '938', '4397', '3776', '2148', '1994', '853', '1178', '1633',\n",
              "       '196', '3864', '714', '1687', '1034', '468', '1337', '2044',\n",
              "       '1541', '3661', '1211', '2645', '2007', '102', '1891', '3162',\n",
              "       '3142', '2566_', '2766', '3881', '2728', '2671', '1952', '3580',\n",
              "       '2705', '4251', '3840_', '972', '3119', '3502', '4185', '2954',\n",
              "       '683', '1614', '1572', '4302', '3447', '1852', '2131', '1900',\n",
              "       '1699', '133', '2018', '2127', '508', '210', '577', '1664', '2604',\n",
              "       '1411', '2351', '867', '1371', '2352', '1191', '905', '4053',\n",
              "       '3869', '933', '3660', '3300', '3629', '3208', '2142', '2521',\n",
              "       '450', '583', '876', '121', '3919', '2560', '2578', '2060', '813',\n",
              "       '1236', '1489', '4360', '1154', '2544', '4172', '2924', '426',\n",
              "       '4270', '2768', '3909', '3951', '2712', '2498', '3171', '1750',\n",
              "       '197', '2569', '265', '4293', '887', '2707', '2397', '4337',\n",
              "       '4249', '2751', '2950', '1859', '107', '2348', '2506', '2810',\n",
              "       '2873', '1301', '2262', '1890', '3078', '3865', '3268', '2777',\n",
              "       '3105', '1278', '3793', '2276', '2879', '4298', '2141', '223',\n",
              "       '2239', '846', '1862', '2756', '1181', '1184', '2617', '3972',\n",
              "       '2334', '3900', '2759', '4169', '2280', '2492', '2729', '3750',\n",
              "       '1825', '309', '2431', '3099', '2080', '2279', '2666', '3722',\n",
              "       '1976', '529', '1985', '3060', '4278', '3212', '46', '3148',\n",
              "       '3467', '4231', '3790', '473', '1536', '3955', '2324', '2381',\n",
              "       '1177', '371', '2896', '3880', '2991', '4319', '1061', '662',\n",
              "       '4144', '693', '2006', '3115', '2278_', '3751', '1861', '4262',\n",
              "       '2913', '2615', '3492', '800', '3766', '384', '3407', '1087',\n",
              "       '3329', '1086', '2216', '1087_', '2457', '3522', '3274', '3488',\n",
              "       '2854', '238', '351', '3706', '4280', '4095', '2926', '1329',\n",
              "       '3370', '283', '1392', '1743', '2429', '974', '3156', '1133',\n",
              "       '4388', '3243', '4282', '2523', '4281', '3415', '2001', '441',\n",
              "       '94', '3499', '969', '3368', '106', '1004', '2638', '3946', '2956',\n",
              "       '4324', '85', '4113', '819', '615', '1172', '2553', '1765', '3495',\n",
              "       '2820', '4239', '4340', '1295_', '2636', '4295', '1653', '1325',\n",
              "       '1879', '1096', '1735', '3584', '1073', '1975', '3827', '2552',\n",
              "       '3754', '2378', '532', '926', '2376', '3636', '3763', '778',\n",
              "       '2621', '804', '754', '2418', '4019', '3926', '3861_', '3574',\n",
              "       '175', '162', '2834', '3765', '2354', '523', '2274', '1606',\n",
              "       '1443', '1354', '2142_', '1422', '2278', '1045', '4106', '3155',\n",
              "       '666', '659', '3229', '1216', '2076', '1473_', '2384', '1954',\n",
              "       '719', '2534', '4002', '541', '2875', '4344', '2081', '3894',\n",
              "       '1256', '676', '4178', '399', '86', '1571', '4037', '1967', '4005',\n",
              "       '3216', '1150', '2591', '1801', '3721', '1775', '2260', '3707',\n",
              "       '4292', '1820', '145', '1480', '1850', '430', '217', '3920_',\n",
              "       '1389', '1579', '3391', '2385', '3336', '3392', '3688', '221',\n",
              "       '2047'], dtype=object)"
            ]
          },
          "metadata": {},
          "execution_count": 327
        }
      ]
    },
    {
      "cell_type": "code",
      "source": [
        "df1[\"Num_of_Delayed_Payment\"] = df1[\"Num_of_Delayed_Payment\"].str.strip(\"_\")\n",
        "\n",
        "df1[\"Num_of_Delayed_Payment\"] = pd.to_numeric(df1[\"Num_of_Delayed_Payment\"],\n",
        "                                              downcast=\"integer\")\n",
        "\n",
        "df1[\"Num_of_Delayed_Payment\"].dtype"
      ],
      "metadata": {
        "colab": {
          "base_uri": "https://localhost:8080/"
        },
        "id": "eBKSryZVytc3",
        "outputId": "bf31f716-7ddb-4430-be2a-10876e6fb759"
      },
      "id": "eBKSryZVytc3",
      "execution_count": 328,
      "outputs": [
        {
          "output_type": "execute_result",
          "data": {
            "text/plain": [
              "dtype('float64')"
            ]
          },
          "metadata": {},
          "execution_count": 328
        }
      ]
    },
    {
      "cell_type": "markdown",
      "source": [
        "# Amount_invested_monthly"
      ],
      "metadata": {
        "id": "h-fMyrH22FhR"
      },
      "id": "h-fMyrH22FhR"
    },
    {
      "cell_type": "code",
      "source": [
        "df1.Amount_invested_monthly.value_counts()"
      ],
      "metadata": {
        "colab": {
          "base_uri": "https://localhost:8080/",
          "height": 490
        },
        "id": "MXTXUMf4nuWn",
        "outputId": "fa0747ae-fd9c-4df0-fee4-40a25d774baa"
      },
      "id": "MXTXUMf4nuWn",
      "execution_count": 329,
      "outputs": [
        {
          "output_type": "execute_result",
          "data": {
            "text/plain": [
              "Amount_invested_monthly\n",
              "__10000__             4305\n",
              "0.0                    169\n",
              "59.93725850034815        1\n",
              "165.180659491917         1\n",
              "62.030802602004044       1\n",
              "                      ... \n",
              "109.296681189146         1\n",
              "33.6098814431885         1\n",
              "76.87001005130772        1\n",
              "908.6939096189257        1\n",
              "401.35900899207513       1\n",
              "Name: count, Length: 91049, dtype: int64"
            ],
            "text/html": [
              "<div>\n",
              "<style scoped>\n",
              "    .dataframe tbody tr th:only-of-type {\n",
              "        vertical-align: middle;\n",
              "    }\n",
              "\n",
              "    .dataframe tbody tr th {\n",
              "        vertical-align: top;\n",
              "    }\n",
              "\n",
              "    .dataframe thead th {\n",
              "        text-align: right;\n",
              "    }\n",
              "</style>\n",
              "<table border=\"1\" class=\"dataframe\">\n",
              "  <thead>\n",
              "    <tr style=\"text-align: right;\">\n",
              "      <th></th>\n",
              "      <th>count</th>\n",
              "    </tr>\n",
              "    <tr>\n",
              "      <th>Amount_invested_monthly</th>\n",
              "      <th></th>\n",
              "    </tr>\n",
              "  </thead>\n",
              "  <tbody>\n",
              "    <tr>\n",
              "      <th>__10000__</th>\n",
              "      <td>4305</td>\n",
              "    </tr>\n",
              "    <tr>\n",
              "      <th>0.0</th>\n",
              "      <td>169</td>\n",
              "    </tr>\n",
              "    <tr>\n",
              "      <th>59.93725850034815</th>\n",
              "      <td>1</td>\n",
              "    </tr>\n",
              "    <tr>\n",
              "      <th>165.180659491917</th>\n",
              "      <td>1</td>\n",
              "    </tr>\n",
              "    <tr>\n",
              "      <th>62.030802602004044</th>\n",
              "      <td>1</td>\n",
              "    </tr>\n",
              "    <tr>\n",
              "      <th>...</th>\n",
              "      <td>...</td>\n",
              "    </tr>\n",
              "    <tr>\n",
              "      <th>109.296681189146</th>\n",
              "      <td>1</td>\n",
              "    </tr>\n",
              "    <tr>\n",
              "      <th>33.6098814431885</th>\n",
              "      <td>1</td>\n",
              "    </tr>\n",
              "    <tr>\n",
              "      <th>76.87001005130772</th>\n",
              "      <td>1</td>\n",
              "    </tr>\n",
              "    <tr>\n",
              "      <th>908.6939096189257</th>\n",
              "      <td>1</td>\n",
              "    </tr>\n",
              "    <tr>\n",
              "      <th>401.35900899207513</th>\n",
              "      <td>1</td>\n",
              "    </tr>\n",
              "  </tbody>\n",
              "</table>\n",
              "<p>91049 rows × 1 columns</p>\n",
              "</div><br><label><b>dtype:</b> int64</label>"
            ]
          },
          "metadata": {},
          "execution_count": 329
        }
      ]
    },
    {
      "cell_type": "code",
      "source": [
        "df1[pd.to_numeric(df1[\"Amount_invested_monthly\"], errors=\"coerce\").isna()][\"Amount_invested_monthly\"].value_counts(dropna=False)\n"
      ],
      "metadata": {
        "colab": {
          "base_uri": "https://localhost:8080/",
          "height": 178
        },
        "id": "Qpz3xVzzhD1d",
        "outputId": "f9eebd2b-832d-47e8-df2b-d2ca4c09b0f8"
      },
      "id": "Qpz3xVzzhD1d",
      "execution_count": 330,
      "outputs": [
        {
          "output_type": "execute_result",
          "data": {
            "text/plain": [
              "Amount_invested_monthly\n",
              "NaN          4479\n",
              "__10000__    4305\n",
              "Name: count, dtype: int64"
            ],
            "text/html": [
              "<div>\n",
              "<style scoped>\n",
              "    .dataframe tbody tr th:only-of-type {\n",
              "        vertical-align: middle;\n",
              "    }\n",
              "\n",
              "    .dataframe tbody tr th {\n",
              "        vertical-align: top;\n",
              "    }\n",
              "\n",
              "    .dataframe thead th {\n",
              "        text-align: right;\n",
              "    }\n",
              "</style>\n",
              "<table border=\"1\" class=\"dataframe\">\n",
              "  <thead>\n",
              "    <tr style=\"text-align: right;\">\n",
              "      <th></th>\n",
              "      <th>count</th>\n",
              "    </tr>\n",
              "    <tr>\n",
              "      <th>Amount_invested_monthly</th>\n",
              "      <th></th>\n",
              "    </tr>\n",
              "  </thead>\n",
              "  <tbody>\n",
              "    <tr>\n",
              "      <th>NaN</th>\n",
              "      <td>4479</td>\n",
              "    </tr>\n",
              "    <tr>\n",
              "      <th>__10000__</th>\n",
              "      <td>4305</td>\n",
              "    </tr>\n",
              "  </tbody>\n",
              "</table>\n",
              "</div><br><label><b>dtype:</b> int64</label>"
            ]
          },
          "metadata": {},
          "execution_count": 330
        }
      ]
    },
    {
      "cell_type": "code",
      "source": [
        "df1[\"Amount_invested_monthly\"] = df1[\"Amount_invested_monthly\"].str.strip(\"_\")\n",
        "\n",
        "df1[\"Amount_invested_monthly\"] = pd.to_numeric(df1[\"Amount_invested_monthly\"],\n",
        "                                               downcast=\"float\")\n",
        "\n",
        "df1[\"Amount_invested_monthly\"].dtype"
      ],
      "metadata": {
        "colab": {
          "base_uri": "https://localhost:8080/"
        },
        "id": "7jmxXxwDhDxu",
        "outputId": "0377d4eb-c05f-4d3b-e8a4-b44057811a2c"
      },
      "id": "7jmxXxwDhDxu",
      "execution_count": 331,
      "outputs": [
        {
          "output_type": "execute_result",
          "data": {
            "text/plain": [
              "dtype('float32')"
            ]
          },
          "metadata": {},
          "execution_count": 331
        }
      ]
    },
    {
      "cell_type": "markdown",
      "source": [
        "# Credit_History_Age"
      ],
      "metadata": {
        "id": "_HFIl97C4Tlr"
      },
      "id": "_HFIl97C4Tlr"
    },
    {
      "cell_type": "code",
      "source": [
        "# Tách số năm và số tháng\n",
        "years = df1['Credit_History_Age'].str.extract(r'(\\d+)\\s+Years')[0]\n",
        "months = df1['Credit_History_Age'].str.extract(r'(\\d+)\\s+Months')[0]\n",
        "\n",
        "# Chuyển sang float, xử lý NaN\n",
        "years = pd.to_numeric(years, errors='coerce')\n",
        "months = pd.to_numeric(months, errors='coerce')\n",
        "\n",
        "# Tính tổng số tháng và giữ nguyên giá trị NaN\n",
        "df1['Credit_History_Age_Months'] = (years * 12 + months).round()\n",
        "\n",
        "# Không ép kiểu sang Int64 để tránh lỗi với NaN\n",
        "df1['Credit_History_Age_Months'] = df1['Credit_History_Age_Months'].astype('Int64')\n",
        "\n",
        "# Xem kết quả\n",
        "df1[['Credit_History_Age', 'Credit_History_Age_Months']].head()\n"
      ],
      "metadata": {
        "colab": {
          "base_uri": "https://localhost:8080/",
          "height": 206
        },
        "id": "QEkbbQE64EDN",
        "outputId": "f9b78ef2-eec5-4e43-cada-16e06ec3fa1f"
      },
      "id": "QEkbbQE64EDN",
      "execution_count": 332,
      "outputs": [
        {
          "output_type": "execute_result",
          "data": {
            "text/plain": [
              "      Credit_History_Age  Credit_History_Age_Months\n",
              "0  22 Years and 1 Months                        265\n",
              "1                    NaN                       <NA>\n",
              "2  22 Years and 3 Months                        267\n",
              "3  22 Years and 4 Months                        268\n",
              "4  22 Years and 5 Months                        269"
            ],
            "text/html": [
              "\n",
              "  <div id=\"df-591fed5d-ca17-4c03-b150-6f89358cc31b\" class=\"colab-df-container\">\n",
              "    <div>\n",
              "<style scoped>\n",
              "    .dataframe tbody tr th:only-of-type {\n",
              "        vertical-align: middle;\n",
              "    }\n",
              "\n",
              "    .dataframe tbody tr th {\n",
              "        vertical-align: top;\n",
              "    }\n",
              "\n",
              "    .dataframe thead th {\n",
              "        text-align: right;\n",
              "    }\n",
              "</style>\n",
              "<table border=\"1\" class=\"dataframe\">\n",
              "  <thead>\n",
              "    <tr style=\"text-align: right;\">\n",
              "      <th></th>\n",
              "      <th>Credit_History_Age</th>\n",
              "      <th>Credit_History_Age_Months</th>\n",
              "    </tr>\n",
              "  </thead>\n",
              "  <tbody>\n",
              "    <tr>\n",
              "      <th>0</th>\n",
              "      <td>22 Years and 1 Months</td>\n",
              "      <td>265</td>\n",
              "    </tr>\n",
              "    <tr>\n",
              "      <th>1</th>\n",
              "      <td>NaN</td>\n",
              "      <td>&lt;NA&gt;</td>\n",
              "    </tr>\n",
              "    <tr>\n",
              "      <th>2</th>\n",
              "      <td>22 Years and 3 Months</td>\n",
              "      <td>267</td>\n",
              "    </tr>\n",
              "    <tr>\n",
              "      <th>3</th>\n",
              "      <td>22 Years and 4 Months</td>\n",
              "      <td>268</td>\n",
              "    </tr>\n",
              "    <tr>\n",
              "      <th>4</th>\n",
              "      <td>22 Years and 5 Months</td>\n",
              "      <td>269</td>\n",
              "    </tr>\n",
              "  </tbody>\n",
              "</table>\n",
              "</div>\n",
              "    <div class=\"colab-df-buttons\">\n",
              "\n",
              "  <div class=\"colab-df-container\">\n",
              "    <button class=\"colab-df-convert\" onclick=\"convertToInteractive('df-591fed5d-ca17-4c03-b150-6f89358cc31b')\"\n",
              "            title=\"Convert this dataframe to an interactive table.\"\n",
              "            style=\"display:none;\">\n",
              "\n",
              "  <svg xmlns=\"http://www.w3.org/2000/svg\" height=\"24px\" viewBox=\"0 -960 960 960\">\n",
              "    <path d=\"M120-120v-720h720v720H120Zm60-500h600v-160H180v160Zm220 220h160v-160H400v160Zm0 220h160v-160H400v160ZM180-400h160v-160H180v160Zm440 0h160v-160H620v160ZM180-180h160v-160H180v160Zm440 0h160v-160H620v160Z\"/>\n",
              "  </svg>\n",
              "    </button>\n",
              "\n",
              "  <style>\n",
              "    .colab-df-container {\n",
              "      display:flex;\n",
              "      gap: 12px;\n",
              "    }\n",
              "\n",
              "    .colab-df-convert {\n",
              "      background-color: #E8F0FE;\n",
              "      border: none;\n",
              "      border-radius: 50%;\n",
              "      cursor: pointer;\n",
              "      display: none;\n",
              "      fill: #1967D2;\n",
              "      height: 32px;\n",
              "      padding: 0 0 0 0;\n",
              "      width: 32px;\n",
              "    }\n",
              "\n",
              "    .colab-df-convert:hover {\n",
              "      background-color: #E2EBFA;\n",
              "      box-shadow: 0px 1px 2px rgba(60, 64, 67, 0.3), 0px 1px 3px 1px rgba(60, 64, 67, 0.15);\n",
              "      fill: #174EA6;\n",
              "    }\n",
              "\n",
              "    .colab-df-buttons div {\n",
              "      margin-bottom: 4px;\n",
              "    }\n",
              "\n",
              "    [theme=dark] .colab-df-convert {\n",
              "      background-color: #3B4455;\n",
              "      fill: #D2E3FC;\n",
              "    }\n",
              "\n",
              "    [theme=dark] .colab-df-convert:hover {\n",
              "      background-color: #434B5C;\n",
              "      box-shadow: 0px 1px 3px 1px rgba(0, 0, 0, 0.15);\n",
              "      filter: drop-shadow(0px 1px 2px rgba(0, 0, 0, 0.3));\n",
              "      fill: #FFFFFF;\n",
              "    }\n",
              "  </style>\n",
              "\n",
              "    <script>\n",
              "      const buttonEl =\n",
              "        document.querySelector('#df-591fed5d-ca17-4c03-b150-6f89358cc31b button.colab-df-convert');\n",
              "      buttonEl.style.display =\n",
              "        google.colab.kernel.accessAllowed ? 'block' : 'none';\n",
              "\n",
              "      async function convertToInteractive(key) {\n",
              "        const element = document.querySelector('#df-591fed5d-ca17-4c03-b150-6f89358cc31b');\n",
              "        const dataTable =\n",
              "          await google.colab.kernel.invokeFunction('convertToInteractive',\n",
              "                                                    [key], {});\n",
              "        if (!dataTable) return;\n",
              "\n",
              "        const docLinkHtml = 'Like what you see? Visit the ' +\n",
              "          '<a target=\"_blank\" href=https://colab.research.google.com/notebooks/data_table.ipynb>data table notebook</a>'\n",
              "          + ' to learn more about interactive tables.';\n",
              "        element.innerHTML = '';\n",
              "        dataTable['output_type'] = 'display_data';\n",
              "        await google.colab.output.renderOutput(dataTable, element);\n",
              "        const docLink = document.createElement('div');\n",
              "        docLink.innerHTML = docLinkHtml;\n",
              "        element.appendChild(docLink);\n",
              "      }\n",
              "    </script>\n",
              "  </div>\n",
              "\n",
              "\n",
              "    <div id=\"df-a09e8ac5-6da2-4991-861f-9b3a61f57194\">\n",
              "      <button class=\"colab-df-quickchart\" onclick=\"quickchart('df-a09e8ac5-6da2-4991-861f-9b3a61f57194')\"\n",
              "                title=\"Suggest charts\"\n",
              "                style=\"display:none;\">\n",
              "\n",
              "<svg xmlns=\"http://www.w3.org/2000/svg\" height=\"24px\"viewBox=\"0 0 24 24\"\n",
              "     width=\"24px\">\n",
              "    <g>\n",
              "        <path d=\"M19 3H5c-1.1 0-2 .9-2 2v14c0 1.1.9 2 2 2h14c1.1 0 2-.9 2-2V5c0-1.1-.9-2-2-2zM9 17H7v-7h2v7zm4 0h-2V7h2v10zm4 0h-2v-4h2v4z\"/>\n",
              "    </g>\n",
              "</svg>\n",
              "      </button>\n",
              "\n",
              "<style>\n",
              "  .colab-df-quickchart {\n",
              "      --bg-color: #E8F0FE;\n",
              "      --fill-color: #1967D2;\n",
              "      --hover-bg-color: #E2EBFA;\n",
              "      --hover-fill-color: #174EA6;\n",
              "      --disabled-fill-color: #AAA;\n",
              "      --disabled-bg-color: #DDD;\n",
              "  }\n",
              "\n",
              "  [theme=dark] .colab-df-quickchart {\n",
              "      --bg-color: #3B4455;\n",
              "      --fill-color: #D2E3FC;\n",
              "      --hover-bg-color: #434B5C;\n",
              "      --hover-fill-color: #FFFFFF;\n",
              "      --disabled-bg-color: #3B4455;\n",
              "      --disabled-fill-color: #666;\n",
              "  }\n",
              "\n",
              "  .colab-df-quickchart {\n",
              "    background-color: var(--bg-color);\n",
              "    border: none;\n",
              "    border-radius: 50%;\n",
              "    cursor: pointer;\n",
              "    display: none;\n",
              "    fill: var(--fill-color);\n",
              "    height: 32px;\n",
              "    padding: 0;\n",
              "    width: 32px;\n",
              "  }\n",
              "\n",
              "  .colab-df-quickchart:hover {\n",
              "    background-color: var(--hover-bg-color);\n",
              "    box-shadow: 0 1px 2px rgba(60, 64, 67, 0.3), 0 1px 3px 1px rgba(60, 64, 67, 0.15);\n",
              "    fill: var(--button-hover-fill-color);\n",
              "  }\n",
              "\n",
              "  .colab-df-quickchart-complete:disabled,\n",
              "  .colab-df-quickchart-complete:disabled:hover {\n",
              "    background-color: var(--disabled-bg-color);\n",
              "    fill: var(--disabled-fill-color);\n",
              "    box-shadow: none;\n",
              "  }\n",
              "\n",
              "  .colab-df-spinner {\n",
              "    border: 2px solid var(--fill-color);\n",
              "    border-color: transparent;\n",
              "    border-bottom-color: var(--fill-color);\n",
              "    animation:\n",
              "      spin 1s steps(1) infinite;\n",
              "  }\n",
              "\n",
              "  @keyframes spin {\n",
              "    0% {\n",
              "      border-color: transparent;\n",
              "      border-bottom-color: var(--fill-color);\n",
              "      border-left-color: var(--fill-color);\n",
              "    }\n",
              "    20% {\n",
              "      border-color: transparent;\n",
              "      border-left-color: var(--fill-color);\n",
              "      border-top-color: var(--fill-color);\n",
              "    }\n",
              "    30% {\n",
              "      border-color: transparent;\n",
              "      border-left-color: var(--fill-color);\n",
              "      border-top-color: var(--fill-color);\n",
              "      border-right-color: var(--fill-color);\n",
              "    }\n",
              "    40% {\n",
              "      border-color: transparent;\n",
              "      border-right-color: var(--fill-color);\n",
              "      border-top-color: var(--fill-color);\n",
              "    }\n",
              "    60% {\n",
              "      border-color: transparent;\n",
              "      border-right-color: var(--fill-color);\n",
              "    }\n",
              "    80% {\n",
              "      border-color: transparent;\n",
              "      border-right-color: var(--fill-color);\n",
              "      border-bottom-color: var(--fill-color);\n",
              "    }\n",
              "    90% {\n",
              "      border-color: transparent;\n",
              "      border-bottom-color: var(--fill-color);\n",
              "    }\n",
              "  }\n",
              "</style>\n",
              "\n",
              "      <script>\n",
              "        async function quickchart(key) {\n",
              "          const quickchartButtonEl =\n",
              "            document.querySelector('#' + key + ' button');\n",
              "          quickchartButtonEl.disabled = true;  // To prevent multiple clicks.\n",
              "          quickchartButtonEl.classList.add('colab-df-spinner');\n",
              "          try {\n",
              "            const charts = await google.colab.kernel.invokeFunction(\n",
              "                'suggestCharts', [key], {});\n",
              "          } catch (error) {\n",
              "            console.error('Error during call to suggestCharts:', error);\n",
              "          }\n",
              "          quickchartButtonEl.classList.remove('colab-df-spinner');\n",
              "          quickchartButtonEl.classList.add('colab-df-quickchart-complete');\n",
              "        }\n",
              "        (() => {\n",
              "          let quickchartButtonEl =\n",
              "            document.querySelector('#df-a09e8ac5-6da2-4991-861f-9b3a61f57194 button');\n",
              "          quickchartButtonEl.style.display =\n",
              "            google.colab.kernel.accessAllowed ? 'block' : 'none';\n",
              "        })();\n",
              "      </script>\n",
              "    </div>\n",
              "\n",
              "    </div>\n",
              "  </div>\n"
            ],
            "application/vnd.google.colaboratory.intrinsic+json": {
              "type": "dataframe",
              "summary": "{\n  \"name\": \"df1[['Credit_History_Age', 'Credit_History_Age_Months']]\",\n  \"rows\": 5,\n  \"fields\": [\n    {\n      \"column\": \"Credit_History_Age\",\n      \"properties\": {\n        \"dtype\": \"string\",\n        \"num_unique_values\": 4,\n        \"samples\": [\n          \"22 Years and 3 Months\",\n          \"22 Years and 5 Months\",\n          \"22 Years and 1 Months\"\n        ],\n        \"semantic_type\": \"\",\n        \"description\": \"\"\n      }\n    },\n    {\n      \"column\": \"Credit_History_Age_Months\",\n      \"properties\": {\n        \"dtype\": \"Int64\",\n        \"num_unique_values\": 4,\n        \"samples\": [\n          267,\n          269,\n          265\n        ],\n        \"semantic_type\": \"\",\n        \"description\": \"\"\n      }\n    }\n  ]\n}"
            }
          },
          "metadata": {},
          "execution_count": 332
        }
      ]
    },
    {
      "cell_type": "code",
      "source": [
        "df1['Credit_History_Age_Months']"
      ],
      "metadata": {
        "colab": {
          "base_uri": "https://localhost:8080/",
          "height": 458
        },
        "id": "81RK47Hd_VqQ",
        "outputId": "15a52c95-71c7-4eb3-fd2f-aa1702a4d763"
      },
      "id": "81RK47Hd_VqQ",
      "execution_count": 333,
      "outputs": [
        {
          "output_type": "execute_result",
          "data": {
            "text/plain": [
              "0         265\n",
              "1        <NA>\n",
              "2         267\n",
              "3         268\n",
              "4         269\n",
              "         ... \n",
              "99995     378\n",
              "99996     379\n",
              "99997     380\n",
              "99998     381\n",
              "99999     382\n",
              "Name: Credit_History_Age_Months, Length: 100000, dtype: Int64"
            ],
            "text/html": [
              "<div>\n",
              "<style scoped>\n",
              "    .dataframe tbody tr th:only-of-type {\n",
              "        vertical-align: middle;\n",
              "    }\n",
              "\n",
              "    .dataframe tbody tr th {\n",
              "        vertical-align: top;\n",
              "    }\n",
              "\n",
              "    .dataframe thead th {\n",
              "        text-align: right;\n",
              "    }\n",
              "</style>\n",
              "<table border=\"1\" class=\"dataframe\">\n",
              "  <thead>\n",
              "    <tr style=\"text-align: right;\">\n",
              "      <th></th>\n",
              "      <th>Credit_History_Age_Months</th>\n",
              "    </tr>\n",
              "  </thead>\n",
              "  <tbody>\n",
              "    <tr>\n",
              "      <th>0</th>\n",
              "      <td>265</td>\n",
              "    </tr>\n",
              "    <tr>\n",
              "      <th>1</th>\n",
              "      <td>&lt;NA&gt;</td>\n",
              "    </tr>\n",
              "    <tr>\n",
              "      <th>2</th>\n",
              "      <td>267</td>\n",
              "    </tr>\n",
              "    <tr>\n",
              "      <th>3</th>\n",
              "      <td>268</td>\n",
              "    </tr>\n",
              "    <tr>\n",
              "      <th>4</th>\n",
              "      <td>269</td>\n",
              "    </tr>\n",
              "    <tr>\n",
              "      <th>...</th>\n",
              "      <td>...</td>\n",
              "    </tr>\n",
              "    <tr>\n",
              "      <th>99995</th>\n",
              "      <td>378</td>\n",
              "    </tr>\n",
              "    <tr>\n",
              "      <th>99996</th>\n",
              "      <td>379</td>\n",
              "    </tr>\n",
              "    <tr>\n",
              "      <th>99997</th>\n",
              "      <td>380</td>\n",
              "    </tr>\n",
              "    <tr>\n",
              "      <th>99998</th>\n",
              "      <td>381</td>\n",
              "    </tr>\n",
              "    <tr>\n",
              "      <th>99999</th>\n",
              "      <td>382</td>\n",
              "    </tr>\n",
              "  </tbody>\n",
              "</table>\n",
              "<p>100000 rows × 1 columns</p>\n",
              "</div><br><label><b>dtype:</b> Int64</label>"
            ]
          },
          "metadata": {},
          "execution_count": 333
        }
      ]
    },
    {
      "cell_type": "code",
      "source": [
        "# df1.head()"
      ],
      "metadata": {
        "id": "EowoEKLYg94l"
      },
      "id": "EowoEKLYg94l",
      "execution_count": 334,
      "outputs": []
    },
    {
      "cell_type": "markdown",
      "source": [
        "# Kiểm tra dữ liệu thiếu"
      ],
      "metadata": {
        "id": "USe6SkrXV0bF"
      },
      "id": "USe6SkrXV0bF"
    },
    {
      "cell_type": "code",
      "source": [
        "df2 = df1"
      ],
      "metadata": {
        "id": "B7hFmQk3Ejsq"
      },
      "id": "B7hFmQk3Ejsq",
      "execution_count": 335,
      "outputs": []
    },
    {
      "cell_type": "code",
      "source": [
        "# in ra các cột có số lượng null >0\n",
        "df2.isnull().sum()[df2.isnull().sum() > 0]"
      ],
      "metadata": {
        "colab": {
          "base_uri": "https://localhost:8080/",
          "height": 492
        },
        "id": "iBZFNknqEqLe",
        "outputId": "089503c5-a929-40b4-8ee3-2b74c2f48ac0"
      },
      "id": "iBZFNknqEqLe",
      "execution_count": 336,
      "outputs": [
        {
          "output_type": "execute_result",
          "data": {
            "text/plain": [
              "Name                          9985\n",
              "SSN                           5572\n",
              "Occupation                    7062\n",
              "Monthly_Inhand_Salary        15002\n",
              "Type_of_Loan                 11408\n",
              "Num_of_Delayed_Payment        7002\n",
              "Num_Credit_Inquiries          1965\n",
              "Credit_Mix                   20195\n",
              "Credit_History_Age            9030\n",
              "Amount_invested_monthly       4479\n",
              "Payment_Behaviour             7600\n",
              "Monthly_Balance               1209\n",
              "Credit_History_Age_Months     9030\n",
              "dtype: int64"
            ],
            "text/html": [
              "<div>\n",
              "<style scoped>\n",
              "    .dataframe tbody tr th:only-of-type {\n",
              "        vertical-align: middle;\n",
              "    }\n",
              "\n",
              "    .dataframe tbody tr th {\n",
              "        vertical-align: top;\n",
              "    }\n",
              "\n",
              "    .dataframe thead th {\n",
              "        text-align: right;\n",
              "    }\n",
              "</style>\n",
              "<table border=\"1\" class=\"dataframe\">\n",
              "  <thead>\n",
              "    <tr style=\"text-align: right;\">\n",
              "      <th></th>\n",
              "      <th>0</th>\n",
              "    </tr>\n",
              "  </thead>\n",
              "  <tbody>\n",
              "    <tr>\n",
              "      <th>Name</th>\n",
              "      <td>9985</td>\n",
              "    </tr>\n",
              "    <tr>\n",
              "      <th>SSN</th>\n",
              "      <td>5572</td>\n",
              "    </tr>\n",
              "    <tr>\n",
              "      <th>Occupation</th>\n",
              "      <td>7062</td>\n",
              "    </tr>\n",
              "    <tr>\n",
              "      <th>Monthly_Inhand_Salary</th>\n",
              "      <td>15002</td>\n",
              "    </tr>\n",
              "    <tr>\n",
              "      <th>Type_of_Loan</th>\n",
              "      <td>11408</td>\n",
              "    </tr>\n",
              "    <tr>\n",
              "      <th>Num_of_Delayed_Payment</th>\n",
              "      <td>7002</td>\n",
              "    </tr>\n",
              "    <tr>\n",
              "      <th>Num_Credit_Inquiries</th>\n",
              "      <td>1965</td>\n",
              "    </tr>\n",
              "    <tr>\n",
              "      <th>Credit_Mix</th>\n",
              "      <td>20195</td>\n",
              "    </tr>\n",
              "    <tr>\n",
              "      <th>Credit_History_Age</th>\n",
              "      <td>9030</td>\n",
              "    </tr>\n",
              "    <tr>\n",
              "      <th>Amount_invested_monthly</th>\n",
              "      <td>4479</td>\n",
              "    </tr>\n",
              "    <tr>\n",
              "      <th>Payment_Behaviour</th>\n",
              "      <td>7600</td>\n",
              "    </tr>\n",
              "    <tr>\n",
              "      <th>Monthly_Balance</th>\n",
              "      <td>1209</td>\n",
              "    </tr>\n",
              "    <tr>\n",
              "      <th>Credit_History_Age_Months</th>\n",
              "      <td>9030</td>\n",
              "    </tr>\n",
              "  </tbody>\n",
              "</table>\n",
              "</div><br><label><b>dtype:</b> int64</label>"
            ]
          },
          "metadata": {},
          "execution_count": 336
        }
      ]
    },
    {
      "cell_type": "code",
      "source": [
        "# df2.info()"
      ],
      "metadata": {
        "id": "boz5z-GSHf0C"
      },
      "id": "boz5z-GSHf0C",
      "execution_count": 337,
      "outputs": []
    },
    {
      "cell_type": "code",
      "source": [
        "def show_missing_data(df):\n",
        "  missing_data = data.isnull().sum()\n",
        "  missing_data = missing_data[missing_data > 0]\n",
        "  missing_percentage = (missing_data / len(data)) * 100\n",
        "  missing_table = pd.DataFrame({'Missing Values': missing_data,\n",
        "                                 'Percentage (%)': missing_percentage})\n",
        "  print(\"Cột có giá trị null và tỷ lệ phần trăm missing:\")\n",
        "  print(missing_table.sort_values(by='Percentage (%)', ascending=False))\n",
        "\n",
        "\n",
        "show_missing_data(df2)"
      ],
      "metadata": {
        "colab": {
          "base_uri": "https://localhost:8080/"
        },
        "id": "yt7UL5-g5R25",
        "outputId": "ec17e2eb-2532-40ef-ba63-d1c39871ee24"
      },
      "id": "yt7UL5-g5R25",
      "execution_count": 338,
      "outputs": [
        {
          "output_type": "stream",
          "name": "stdout",
          "text": [
            "Cột có giá trị null và tỷ lệ phần trăm missing:\n",
            "                         Missing Values  Percentage (%)\n",
            "Monthly_Inhand_Salary             15002          15.002\n",
            "Type_of_Loan                      11408          11.408\n",
            "Name                               9985           9.985\n",
            "Credit_History_Age                 9030           9.030\n",
            "Num_of_Delayed_Payment             7002           7.002\n",
            "Amount_invested_monthly            4479           4.479\n",
            "Num_Credit_Inquiries               1965           1.965\n",
            "Monthly_Balance                    1200           1.200\n"
          ]
        }
      ]
    },
    {
      "cell_type": "markdown",
      "source": [
        "- Name: có những khách hàng chưa được thêm thông tin tuy nhiên tại cột Custormer_ID đủ thông tin nên ta điền thông tin Name dựa vào cột Custormer_ID tương ứng\n",
        "- Monthly_Inhand_Salary: có thể thêm mức lương dựa vào cột lương trung bình hàng năm(Annual_Income)\n",
        "- SSN(mã số an sinh xã hội): vì mỗi khách hàng có mỗi mã SSN khác nhau nên ta dựa vào cột Custormer_ID để điền thông tin\n",
        "-\n"
      ],
      "metadata": {
        "id": "jz2zEMMi9AxB"
      },
      "id": "jz2zEMMi9AxB"
    },
    {
      "cell_type": "markdown",
      "source": [
        "# Xử lý dữ liệu thiếu"
      ],
      "metadata": {
        "id": "SekHRAM-N3Rf"
      },
      "id": "SekHRAM-N3Rf"
    },
    {
      "cell_type": "markdown",
      "source": [
        "1. Name"
      ],
      "metadata": {
        "id": "hMuuhsfBIfy1"
      },
      "id": "hMuuhsfBIfy1"
    },
    {
      "cell_type": "code",
      "source": [
        "#2. Convert into lower and check shape\n",
        "df2.columns = [x.lower() for x in df2.columns]\n",
        "# print(df2.columns)\n",
        "# print(f'Số hàng và số cột của data: {data.shape}')"
      ],
      "metadata": {
        "id": "AyeeHqHIG14V"
      },
      "id": "AyeeHqHIG14V",
      "execution_count": 339,
      "outputs": []
    },
    {
      "cell_type": "code",
      "source": [
        "# Is the number of occurrences for each customer_id the same?\n",
        "(df2[\"customer_id\"].value_counts() == 8).all()"
      ],
      "metadata": {
        "colab": {
          "base_uri": "https://localhost:8080/"
        },
        "id": "S8co9CX8GYLZ",
        "outputId": "0b381794-260d-43ef-9651-f790433f2adc"
      },
      "id": "S8co9CX8GYLZ",
      "execution_count": 340,
      "outputs": [
        {
          "output_type": "execute_result",
          "data": {
            "text/plain": [
              "np.True_"
            ]
          },
          "metadata": {},
          "execution_count": 340
        }
      ]
    },
    {
      "cell_type": "code",
      "source": [
        "# Fill missing values in the \"name\" column with the mode of each customer group.\n",
        "df2[\"name\"] = df2.groupby(\"customer_id\")[\"name\"].transform(\n",
        "    lambda x: x.fillna(x.mode()[0]))\n",
        "\n",
        "# Check if each customer group in \"name\" has exactly 8 observations.\n",
        "(df2.groupby(\"customer_id\")[\"name\"].count() == 8).all()"
      ],
      "metadata": {
        "colab": {
          "base_uri": "https://localhost:8080/"
        },
        "id": "VJhrZ5s0GYJn",
        "outputId": "4f601cf3-0f61-4de7-ee67-6da9a76e0e48"
      },
      "id": "VJhrZ5s0GYJn",
      "execution_count": 341,
      "outputs": [
        {
          "output_type": "execute_result",
          "data": {
            "text/plain": [
              "np.True_"
            ]
          },
          "metadata": {},
          "execution_count": 341
        }
      ]
    },
    {
      "cell_type": "code",
      "source": [
        "# df1.groupby(\"customer_id\")[\"name\"].count()"
      ],
      "metadata": {
        "id": "NDF4NO_WGYG2"
      },
      "id": "NDF4NO_WGYG2",
      "execution_count": 342,
      "outputs": []
    },
    {
      "cell_type": "markdown",
      "source": [
        "2. SSN\n"
      ],
      "metadata": {
        "id": "JOdURqYNIjIK"
      },
      "id": "JOdURqYNIjIK"
    },
    {
      "cell_type": "code",
      "source": [
        "# Group by \"customer_id\" and fill missing SSNs with the most frequent value within each group\n",
        "df2['ssn'] = df2.groupby('customer_id')['ssn'].transform(lambda x: x.fillna(x.mode()[0]) if not x.mode().empty else x)\n"
      ],
      "metadata": {
        "id": "nOhw9oH7KGRz"
      },
      "id": "nOhw9oH7KGRz",
      "execution_count": 343,
      "outputs": []
    },
    {
      "cell_type": "code",
      "source": [
        "df2.ssn.value_counts()"
      ],
      "metadata": {
        "colab": {
          "base_uri": "https://localhost:8080/",
          "height": 490
        },
        "id": "fgl_k-7CLYIk",
        "outputId": "c28fe3ad-b162-4690-8b2d-653b2f26edb4"
      },
      "id": "fgl_k-7CLYIk",
      "execution_count": 344,
      "outputs": [
        {
          "output_type": "execute_result",
          "data": {
            "text/plain": [
              "ssn\n",
              "078-73-5990    8\n",
              "821-00-0265    8\n",
              "004-07-5839    8\n",
              "486-85-3974    8\n",
              "061-64-3430    8\n",
              "              ..\n",
              "070-19-1622    8\n",
              "500-92-6408    8\n",
              "411-51-0676    8\n",
              "612-70-8987    8\n",
              "615-06-7821    8\n",
              "Name: count, Length: 12500, dtype: int64"
            ],
            "text/html": [
              "<div>\n",
              "<style scoped>\n",
              "    .dataframe tbody tr th:only-of-type {\n",
              "        vertical-align: middle;\n",
              "    }\n",
              "\n",
              "    .dataframe tbody tr th {\n",
              "        vertical-align: top;\n",
              "    }\n",
              "\n",
              "    .dataframe thead th {\n",
              "        text-align: right;\n",
              "    }\n",
              "</style>\n",
              "<table border=\"1\" class=\"dataframe\">\n",
              "  <thead>\n",
              "    <tr style=\"text-align: right;\">\n",
              "      <th></th>\n",
              "      <th>count</th>\n",
              "    </tr>\n",
              "    <tr>\n",
              "      <th>ssn</th>\n",
              "      <th></th>\n",
              "    </tr>\n",
              "  </thead>\n",
              "  <tbody>\n",
              "    <tr>\n",
              "      <th>078-73-5990</th>\n",
              "      <td>8</td>\n",
              "    </tr>\n",
              "    <tr>\n",
              "      <th>821-00-0265</th>\n",
              "      <td>8</td>\n",
              "    </tr>\n",
              "    <tr>\n",
              "      <th>004-07-5839</th>\n",
              "      <td>8</td>\n",
              "    </tr>\n",
              "    <tr>\n",
              "      <th>486-85-3974</th>\n",
              "      <td>8</td>\n",
              "    </tr>\n",
              "    <tr>\n",
              "      <th>061-64-3430</th>\n",
              "      <td>8</td>\n",
              "    </tr>\n",
              "    <tr>\n",
              "      <th>...</th>\n",
              "      <td>...</td>\n",
              "    </tr>\n",
              "    <tr>\n",
              "      <th>070-19-1622</th>\n",
              "      <td>8</td>\n",
              "    </tr>\n",
              "    <tr>\n",
              "      <th>500-92-6408</th>\n",
              "      <td>8</td>\n",
              "    </tr>\n",
              "    <tr>\n",
              "      <th>411-51-0676</th>\n",
              "      <td>8</td>\n",
              "    </tr>\n",
              "    <tr>\n",
              "      <th>612-70-8987</th>\n",
              "      <td>8</td>\n",
              "    </tr>\n",
              "    <tr>\n",
              "      <th>615-06-7821</th>\n",
              "      <td>8</td>\n",
              "    </tr>\n",
              "  </tbody>\n",
              "</table>\n",
              "<p>12500 rows × 1 columns</p>\n",
              "</div><br><label><b>dtype:</b> int64</label>"
            ]
          },
          "metadata": {},
          "execution_count": 344
        }
      ]
    },
    {
      "cell_type": "markdown",
      "source": [
        "3. Occupation"
      ],
      "metadata": {
        "id": "zPSYtu5-Iu2D"
      },
      "id": "zPSYtu5-Iu2D"
    },
    {
      "cell_type": "code",
      "source": [
        "df2[\"occupation\"] = df2.groupby(\"customer_id\")[\"occupation\"].transform(\n",
        "    lambda x: x.fillna(x.mode()[0]) if not x.mode().empty else x)\n"
      ],
      "metadata": {
        "id": "i7p-lDjcMDac"
      },
      "id": "i7p-lDjcMDac",
      "execution_count": 345,
      "outputs": []
    },
    {
      "cell_type": "code",
      "source": [
        "# Count the number of customers with only one unique occupation\n",
        "(df2.groupby(\"customer_id\")[\"occupation\"].nunique() == 1).sum()  # 12500X8 = 100000"
      ],
      "metadata": {
        "colab": {
          "base_uri": "https://localhost:8080/"
        },
        "id": "49hCpZ-mLusv",
        "outputId": "ca10af2c-62c0-49be-f25b-f109086b0f3c"
      },
      "id": "49hCpZ-mLusv",
      "execution_count": 346,
      "outputs": [
        {
          "output_type": "execute_result",
          "data": {
            "text/plain": [
              "np.int64(12500)"
            ]
          },
          "metadata": {},
          "execution_count": 346
        }
      ]
    },
    {
      "cell_type": "markdown",
      "source": [
        "4. Monthly_Inhand_Salary"
      ],
      "metadata": {
        "id": "6W36H5E0Iz_P"
      },
      "id": "6W36H5E0Iz_P"
    },
    {
      "cell_type": "code",
      "source": [
        "# df2.month"
      ],
      "metadata": {
        "id": "HRHul9IjPRqs"
      },
      "id": "HRHul9IjPRqs",
      "execution_count": 347,
      "outputs": []
    },
    {
      "cell_type": "markdown",
      "source": [
        "lambda x: x.fillna(method=\"ffill\").fillna(method=\"bfill\"):\n",
        "\n",
        "fillna(method=\"ffill\"): Forward fill — điền giá trị thiếu bằng giá trị phía trước trong cùng nhóm customer_id.\n",
        "\n",
        "Sau đó tiếp tục .fillna(method=\"bfill\"): nếu vẫn còn NaN ở đầu chuỗi (không có giá trị phía trước), thì dùng backward fill — lấy giá trị phía sau để điền."
      ],
      "metadata": {
        "id": "DrNExf0NRLFy"
      },
      "id": "DrNExf0NRLFy"
    },
    {
      "cell_type": "code",
      "source": [
        "# Sắp xếp dữ liệu theo customer_id và month\n",
        "# df2 = df2.sort_values(by=[\"customer_id\", \"month\"])\n",
        "\n",
        "# Điền giá trị thiếu trong cột monthly_inhand_salary theo nhóm customer_id\n",
        "df2[\"monthly_inhand_salary\"] = df2.groupby(\"customer_id\")[\"monthly_inhand_salary\"]\\\n",
        "    .transform(lambda x: x.fillna(method=\"ffill\").fillna(method=\"bfill\"))\n",
        "\n"
      ],
      "metadata": {
        "id": "YYpvbA5jPK9C"
      },
      "id": "YYpvbA5jPK9C",
      "execution_count": 348,
      "outputs": []
    },
    {
      "cell_type": "code",
      "source": [
        "# Check the maximum difference between unique monthly_inhand_salary values for each customer\n",
        "filtered_df = df2.groupby(\"customer_id\")[\"monthly_inhand_salary\"].unique()\n",
        "filtered_df"
      ],
      "metadata": {
        "colab": {
          "base_uri": "https://localhost:8080/",
          "height": 490
        },
        "id": "5NraRFFqPv4-",
        "outputId": "898d1b7a-067e-48ac-d613-6b2081569589"
      },
      "id": "5NraRFFqPv4-",
      "execution_count": 349,
      "outputs": [
        {
          "output_type": "execute_result",
          "data": {
            "text/plain": [
              "customer_id\n",
              "CUS_0x1000    [2706.1616666666664]\n",
              "CUS_0x1009               [4250.39]\n",
              "CUS_0x100b             [9549.7825]\n",
              "CUS_0x1011             [5208.8725]\n",
              "CUS_0x1013     [7962.415000000001]\n",
              "                      ...         \n",
              "CUS_0xff3             [1176.39875]\n",
              "CUS_0xff4               [2415.855]\n",
              "CUS_0xff6      [9727.326666666666]\n",
              "CUS_0xffc              [5218.0975]\n",
              "CUS_0xffd                [3749.87]\n",
              "Name: monthly_inhand_salary, Length: 12500, dtype: object"
            ],
            "text/html": [
              "<div>\n",
              "<style scoped>\n",
              "    .dataframe tbody tr th:only-of-type {\n",
              "        vertical-align: middle;\n",
              "    }\n",
              "\n",
              "    .dataframe tbody tr th {\n",
              "        vertical-align: top;\n",
              "    }\n",
              "\n",
              "    .dataframe thead th {\n",
              "        text-align: right;\n",
              "    }\n",
              "</style>\n",
              "<table border=\"1\" class=\"dataframe\">\n",
              "  <thead>\n",
              "    <tr style=\"text-align: right;\">\n",
              "      <th></th>\n",
              "      <th>monthly_inhand_salary</th>\n",
              "    </tr>\n",
              "    <tr>\n",
              "      <th>customer_id</th>\n",
              "      <th></th>\n",
              "    </tr>\n",
              "  </thead>\n",
              "  <tbody>\n",
              "    <tr>\n",
              "      <th>CUS_0x1000</th>\n",
              "      <td>[2706.1616666666664]</td>\n",
              "    </tr>\n",
              "    <tr>\n",
              "      <th>CUS_0x1009</th>\n",
              "      <td>[4250.39]</td>\n",
              "    </tr>\n",
              "    <tr>\n",
              "      <th>CUS_0x100b</th>\n",
              "      <td>[9549.7825]</td>\n",
              "    </tr>\n",
              "    <tr>\n",
              "      <th>CUS_0x1011</th>\n",
              "      <td>[5208.8725]</td>\n",
              "    </tr>\n",
              "    <tr>\n",
              "      <th>CUS_0x1013</th>\n",
              "      <td>[7962.415000000001]</td>\n",
              "    </tr>\n",
              "    <tr>\n",
              "      <th>...</th>\n",
              "      <td>...</td>\n",
              "    </tr>\n",
              "    <tr>\n",
              "      <th>CUS_0xff3</th>\n",
              "      <td>[1176.39875]</td>\n",
              "    </tr>\n",
              "    <tr>\n",
              "      <th>CUS_0xff4</th>\n",
              "      <td>[2415.855]</td>\n",
              "    </tr>\n",
              "    <tr>\n",
              "      <th>CUS_0xff6</th>\n",
              "      <td>[9727.326666666666]</td>\n",
              "    </tr>\n",
              "    <tr>\n",
              "      <th>CUS_0xffc</th>\n",
              "      <td>[5218.0975]</td>\n",
              "    </tr>\n",
              "    <tr>\n",
              "      <th>CUS_0xffd</th>\n",
              "      <td>[3749.87]</td>\n",
              "    </tr>\n",
              "  </tbody>\n",
              "</table>\n",
              "<p>12500 rows × 1 columns</p>\n",
              "</div><br><label><b>dtype:</b> object</label>"
            ]
          },
          "metadata": {},
          "execution_count": 349
        }
      ]
    },
    {
      "cell_type": "code",
      "source": [
        "# thêm một cột là số lượng số lương vào filtered_df\n",
        "filtered_df = filtered_df.apply(lambda x: len(x))\n",
        "filtered_df.unique()\n"
      ],
      "metadata": {
        "colab": {
          "base_uri": "https://localhost:8080/"
        },
        "id": "iqgk1-bcP59c",
        "outputId": "cf382374-d866-4cd6-8067-ebd9fd407a2c"
      },
      "id": "iqgk1-bcP59c",
      "execution_count": 350,
      "outputs": [
        {
          "output_type": "execute_result",
          "data": {
            "text/plain": [
              "array([1, 2])"
            ]
          },
          "metadata": {},
          "execution_count": 350
        }
      ]
    },
    {
      "cell_type": "markdown",
      "source": [
        "5. Type_of_Loan"
      ],
      "metadata": {
        "id": "Q9sbg4t3I36O"
      },
      "id": "Q9sbg4t3I36O"
    },
    {
      "cell_type": "code",
      "source": [
        "# Groups the data by 'customer_id', counts the occurrences of each 'type_of_loan' for each customer,\n",
        "# and then randomly samples 20 rows from the result\n",
        "df2.groupby(\"customer_id\")[\"type_of_loan\"].value_counts().sample(10)"
      ],
      "metadata": {
        "colab": {
          "base_uri": "https://localhost:8080/",
          "height": 429
        },
        "id": "aFugFd8zzdKm",
        "outputId": "9ab24aa1-b989-4638-bc34-f5ca8c5560b9"
      },
      "id": "aFugFd8zzdKm",
      "execution_count": 351,
      "outputs": [
        {
          "output_type": "execute_result",
          "data": {
            "text/plain": [
              "customer_id  type_of_loan                                                                                                                        \n",
              "CUS_0x76fc   Payday Loan, Mortgage Loan, Personal Loan, and Debt Consolidation Loan                                                                  8\n",
              "CUS_0x20f3   Not Specified, and Mortgage Loan                                                                                                        8\n",
              "CUS_0x51ff   Payday Loan                                                                                                                             8\n",
              "CUS_0x1e84   Payday Loan, and Auto Loan                                                                                                              8\n",
              "CUS_0x407c   Student Loan, Student Loan, Personal Loan, and Auto Loan                                                                                8\n",
              "CUS_0x4c59   Debt Consolidation Loan, Credit-Builder Loan, Home Equity Loan, Personal Loan, Payday Loan, Payday Loan, and Debt Consolidation Loan    8\n",
              "CUS_0x88c    Credit-Builder Loan, Payday Loan, Auto Loan, Student Loan, Home Equity Loan, and Mortgage Loan                                          8\n",
              "CUS_0x3cc8   Student Loan, and Student Loan                                                                                                          8\n",
              "CUS_0x456f   Mortgage Loan, Student Loan, and Not Specified                                                                                          8\n",
              "CUS_0x7d48   Student Loan, Debt Consolidation Loan, Not Specified, Debt Consolidation Loan, Personal Loan, Home Equity Loan, and Payday Loan         8\n",
              "Name: count, dtype: int64"
            ],
            "text/html": [
              "<div>\n",
              "<style scoped>\n",
              "    .dataframe tbody tr th:only-of-type {\n",
              "        vertical-align: middle;\n",
              "    }\n",
              "\n",
              "    .dataframe tbody tr th {\n",
              "        vertical-align: top;\n",
              "    }\n",
              "\n",
              "    .dataframe thead th {\n",
              "        text-align: right;\n",
              "    }\n",
              "</style>\n",
              "<table border=\"1\" class=\"dataframe\">\n",
              "  <thead>\n",
              "    <tr style=\"text-align: right;\">\n",
              "      <th></th>\n",
              "      <th></th>\n",
              "      <th>count</th>\n",
              "    </tr>\n",
              "    <tr>\n",
              "      <th>customer_id</th>\n",
              "      <th>type_of_loan</th>\n",
              "      <th></th>\n",
              "    </tr>\n",
              "  </thead>\n",
              "  <tbody>\n",
              "    <tr>\n",
              "      <th>CUS_0x76fc</th>\n",
              "      <th>Payday Loan, Mortgage Loan, Personal Loan, and Debt Consolidation Loan</th>\n",
              "      <td>8</td>\n",
              "    </tr>\n",
              "    <tr>\n",
              "      <th>CUS_0x20f3</th>\n",
              "      <th>Not Specified, and Mortgage Loan</th>\n",
              "      <td>8</td>\n",
              "    </tr>\n",
              "    <tr>\n",
              "      <th>CUS_0x51ff</th>\n",
              "      <th>Payday Loan</th>\n",
              "      <td>8</td>\n",
              "    </tr>\n",
              "    <tr>\n",
              "      <th>CUS_0x1e84</th>\n",
              "      <th>Payday Loan, and Auto Loan</th>\n",
              "      <td>8</td>\n",
              "    </tr>\n",
              "    <tr>\n",
              "      <th>CUS_0x407c</th>\n",
              "      <th>Student Loan, Student Loan, Personal Loan, and Auto Loan</th>\n",
              "      <td>8</td>\n",
              "    </tr>\n",
              "    <tr>\n",
              "      <th>CUS_0x4c59</th>\n",
              "      <th>Debt Consolidation Loan, Credit-Builder Loan, Home Equity Loan, Personal Loan, Payday Loan, Payday Loan, and Debt Consolidation Loan</th>\n",
              "      <td>8</td>\n",
              "    </tr>\n",
              "    <tr>\n",
              "      <th>CUS_0x88c</th>\n",
              "      <th>Credit-Builder Loan, Payday Loan, Auto Loan, Student Loan, Home Equity Loan, and Mortgage Loan</th>\n",
              "      <td>8</td>\n",
              "    </tr>\n",
              "    <tr>\n",
              "      <th>CUS_0x3cc8</th>\n",
              "      <th>Student Loan, and Student Loan</th>\n",
              "      <td>8</td>\n",
              "    </tr>\n",
              "    <tr>\n",
              "      <th>CUS_0x456f</th>\n",
              "      <th>Mortgage Loan, Student Loan, and Not Specified</th>\n",
              "      <td>8</td>\n",
              "    </tr>\n",
              "    <tr>\n",
              "      <th>CUS_0x7d48</th>\n",
              "      <th>Student Loan, Debt Consolidation Loan, Not Specified, Debt Consolidation Loan, Personal Loan, Home Equity Loan, and Payday Loan</th>\n",
              "      <td>8</td>\n",
              "    </tr>\n",
              "  </tbody>\n",
              "</table>\n",
              "</div><br><label><b>dtype:</b> int64</label>"
            ]
          },
          "metadata": {},
          "execution_count": 351
        }
      ]
    },
    {
      "cell_type": "code",
      "source": [
        "# Groups the data by 'customer_id' and 'type_of_loan', counts the occurrences of each loan type per customer,\n",
        "# then counts how many times each unique count of loan types appears across customers.\n",
        "df2.groupby(\"customer_id\")[\"type_of_loan\"].value_counts().value_counts()"
      ],
      "metadata": {
        "colab": {
          "base_uri": "https://localhost:8080/",
          "height": 147
        },
        "id": "yfz8VlGBztKi",
        "outputId": "bf68bc77-1508-426d-dcef-b47576ce0cc4"
      },
      "id": "yfz8VlGBztKi",
      "execution_count": 352,
      "outputs": [
        {
          "output_type": "execute_result",
          "data": {
            "text/plain": [
              "count\n",
              "8    11074\n",
              "Name: count, dtype: int64"
            ],
            "text/html": [
              "<div>\n",
              "<style scoped>\n",
              "    .dataframe tbody tr th:only-of-type {\n",
              "        vertical-align: middle;\n",
              "    }\n",
              "\n",
              "    .dataframe tbody tr th {\n",
              "        vertical-align: top;\n",
              "    }\n",
              "\n",
              "    .dataframe thead th {\n",
              "        text-align: right;\n",
              "    }\n",
              "</style>\n",
              "<table border=\"1\" class=\"dataframe\">\n",
              "  <thead>\n",
              "    <tr style=\"text-align: right;\">\n",
              "      <th></th>\n",
              "      <th>count</th>\n",
              "    </tr>\n",
              "    <tr>\n",
              "      <th>count</th>\n",
              "      <th></th>\n",
              "    </tr>\n",
              "  </thead>\n",
              "  <tbody>\n",
              "    <tr>\n",
              "      <th>8</th>\n",
              "      <td>11074</td>\n",
              "    </tr>\n",
              "  </tbody>\n",
              "</table>\n",
              "</div><br><label><b>dtype:</b> int64</label>"
            ]
          },
          "metadata": {},
          "execution_count": 352
        }
      ]
    },
    {
      "cell_type": "code",
      "source": [
        "# Counts the number of customers where the 'type_of_loan' is missing (NaN).\n",
        "df2[df2[\"type_of_loan\"].isna()][\"customer_id\"].count()"
      ],
      "metadata": {
        "colab": {
          "base_uri": "https://localhost:8080/"
        },
        "id": "5g9BXpskz_-4",
        "outputId": "3b5331e7-bba0-44d7-9691-45140b69a670"
      },
      "id": "5g9BXpskz_-4",
      "execution_count": 353,
      "outputs": [
        {
          "output_type": "execute_result",
          "data": {
            "text/plain": [
              "np.int64(11408)"
            ]
          },
          "metadata": {},
          "execution_count": 353
        }
      ]
    },
    {
      "cell_type": "code",
      "source": [
        "# Updates the 'type_of_loan' column to \"No Loan\" for customers who have 0 loans.\n",
        "df2.loc[df2[\"num_of_loan\"] == 0, \"type_of_loan\"] = \"No Loan\""
      ],
      "metadata": {
        "id": "38PLbW8-z3dW"
      },
      "id": "38PLbW8-z3dW",
      "execution_count": 354,
      "outputs": []
    },
    {
      "cell_type": "code",
      "source": [
        "df2.groupby(\"customer_id\")[\"type_of_loan\"].value_counts().value_counts()"
      ],
      "metadata": {
        "colab": {
          "base_uri": "https://localhost:8080/",
          "height": 241
        },
        "id": "ZiY-AeJ21Bnb",
        "outputId": "3208efbe-ad17-41f7-8d10-a1707510419d"
      },
      "id": "ZiY-AeJ21Bnb",
      "execution_count": 355,
      "outputs": [
        {
          "output_type": "execute_result",
          "data": {
            "text/plain": [
              "count\n",
              "8    12082\n",
              "7      361\n",
              "6       54\n",
              "5        3\n",
              "Name: count, dtype: int64"
            ],
            "text/html": [
              "<div>\n",
              "<style scoped>\n",
              "    .dataframe tbody tr th:only-of-type {\n",
              "        vertical-align: middle;\n",
              "    }\n",
              "\n",
              "    .dataframe tbody tr th {\n",
              "        vertical-align: top;\n",
              "    }\n",
              "\n",
              "    .dataframe thead th {\n",
              "        text-align: right;\n",
              "    }\n",
              "</style>\n",
              "<table border=\"1\" class=\"dataframe\">\n",
              "  <thead>\n",
              "    <tr style=\"text-align: right;\">\n",
              "      <th></th>\n",
              "      <th>count</th>\n",
              "    </tr>\n",
              "    <tr>\n",
              "      <th>count</th>\n",
              "      <th></th>\n",
              "    </tr>\n",
              "  </thead>\n",
              "  <tbody>\n",
              "    <tr>\n",
              "      <th>8</th>\n",
              "      <td>12082</td>\n",
              "    </tr>\n",
              "    <tr>\n",
              "      <th>7</th>\n",
              "      <td>361</td>\n",
              "    </tr>\n",
              "    <tr>\n",
              "      <th>6</th>\n",
              "      <td>54</td>\n",
              "    </tr>\n",
              "    <tr>\n",
              "      <th>5</th>\n",
              "      <td>3</td>\n",
              "    </tr>\n",
              "  </tbody>\n",
              "</table>\n",
              "</div><br><label><b>dtype:</b> int64</label>"
            ]
          },
          "metadata": {},
          "execution_count": 355
        }
      ]
    },
    {
      "cell_type": "code",
      "source": [
        "df2[df2[\"type_of_loan\"].isna()][\"customer_id\"].count()"
      ],
      "metadata": {
        "colab": {
          "base_uri": "https://localhost:8080/"
        },
        "id": "ZeEHhff41yd0",
        "outputId": "dcf267e9-7445-4037-d3ab-9f6c086e980a"
      },
      "id": "ZeEHhff41yd0",
      "execution_count": 356,
      "outputs": [
        {
          "output_type": "execute_result",
          "data": {
            "text/plain": [
              "np.int64(478)"
            ]
          },
          "metadata": {},
          "execution_count": 356
        }
      ]
    },
    {
      "cell_type": "code",
      "source": [
        "df2[\"type_of_loan\"].isna().sum()"
      ],
      "metadata": {
        "colab": {
          "base_uri": "https://localhost:8080/"
        },
        "id": "qOcceZdi2Krd",
        "outputId": "8aa5f2fc-e141-48ae-b6b1-c2ee54b4bc7b"
      },
      "id": "qOcceZdi2Krd",
      "execution_count": 357,
      "outputs": [
        {
          "output_type": "execute_result",
          "data": {
            "text/plain": [
              "np.int64(478)"
            ]
          },
          "metadata": {},
          "execution_count": 357
        }
      ]
    },
    {
      "cell_type": "code",
      "source": [
        "# # Removes the string \" and\" from the 'type_of_loan' column without using regular expressions.\n",
        "# df2[\"type_of_loan\"] = df2[\"type_of_loan\"].str.replace(\" and\", \"\", regex=False)\n",
        "\n",
        "# # Splits the 'type_of_loan' column by \", \" to create a list of loan types for each row.\n",
        "# df2[\"type_of_loan\"] = df2[\"type_of_loan\"].str.split(\", \")"
      ],
      "metadata": {
        "id": "9dnbMDQE0JiE"
      },
      "id": "9dnbMDQE0JiE",
      "execution_count": 358,
      "outputs": []
    },
    {
      "cell_type": "code",
      "source": [
        "# df2[\"type_of_loan\"].value_counts().sample(10)"
      ],
      "metadata": {
        "id": "Xdpfp6IM0Vk2"
      },
      "id": "Xdpfp6IM0Vk2",
      "execution_count": 359,
      "outputs": []
    },
    {
      "cell_type": "code",
      "source": [],
      "metadata": {
        "id": "t2J7Wy4x05RF"
      },
      "id": "t2J7Wy4x05RF",
      "execution_count": 359,
      "outputs": []
    },
    {
      "cell_type": "markdown",
      "source": [
        "6. Num_of_Delayed_Payment"
      ],
      "metadata": {
        "id": "2MoV5WMsI4lt"
      },
      "id": "2MoV5WMsI4lt"
    },
    {
      "cell_type": "code",
      "source": [
        "# Counting the number of missing ('NaN') values in 'num_of_delayed_payment' for each 'customer_id'\n",
        "df2[df2[\"num_of_delayed_payment\"].isna()].groupby(\"customer_id\").size()"
      ],
      "metadata": {
        "colab": {
          "base_uri": "https://localhost:8080/",
          "height": 490
        },
        "id": "hkTdPbPX3Dfd",
        "outputId": "6c0cb0e6-735a-4184-e777-77ad9ae7a9fb"
      },
      "id": "hkTdPbPX3Dfd",
      "execution_count": 360,
      "outputs": [
        {
          "output_type": "execute_result",
          "data": {
            "text/plain": [
              "customer_id\n",
              "CUS_0x1011    2\n",
              "CUS_0x1013    1\n",
              "CUS_0x1018    1\n",
              "CUS_0x102d    1\n",
              "CUS_0x102e    1\n",
              "             ..\n",
              "CUS_0xfdd     1\n",
              "CUS_0xfe3     3\n",
              "CUS_0xfe4     2\n",
              "CUS_0xff6     1\n",
              "CUS_0xffd     1\n",
              "Length: 5465, dtype: int64"
            ],
            "text/html": [
              "<div>\n",
              "<style scoped>\n",
              "    .dataframe tbody tr th:only-of-type {\n",
              "        vertical-align: middle;\n",
              "    }\n",
              "\n",
              "    .dataframe tbody tr th {\n",
              "        vertical-align: top;\n",
              "    }\n",
              "\n",
              "    .dataframe thead th {\n",
              "        text-align: right;\n",
              "    }\n",
              "</style>\n",
              "<table border=\"1\" class=\"dataframe\">\n",
              "  <thead>\n",
              "    <tr style=\"text-align: right;\">\n",
              "      <th></th>\n",
              "      <th>0</th>\n",
              "    </tr>\n",
              "    <tr>\n",
              "      <th>customer_id</th>\n",
              "      <th></th>\n",
              "    </tr>\n",
              "  </thead>\n",
              "  <tbody>\n",
              "    <tr>\n",
              "      <th>CUS_0x1011</th>\n",
              "      <td>2</td>\n",
              "    </tr>\n",
              "    <tr>\n",
              "      <th>CUS_0x1013</th>\n",
              "      <td>1</td>\n",
              "    </tr>\n",
              "    <tr>\n",
              "      <th>CUS_0x1018</th>\n",
              "      <td>1</td>\n",
              "    </tr>\n",
              "    <tr>\n",
              "      <th>CUS_0x102d</th>\n",
              "      <td>1</td>\n",
              "    </tr>\n",
              "    <tr>\n",
              "      <th>CUS_0x102e</th>\n",
              "      <td>1</td>\n",
              "    </tr>\n",
              "    <tr>\n",
              "      <th>...</th>\n",
              "      <td>...</td>\n",
              "    </tr>\n",
              "    <tr>\n",
              "      <th>CUS_0xfdd</th>\n",
              "      <td>1</td>\n",
              "    </tr>\n",
              "    <tr>\n",
              "      <th>CUS_0xfe3</th>\n",
              "      <td>3</td>\n",
              "    </tr>\n",
              "    <tr>\n",
              "      <th>CUS_0xfe4</th>\n",
              "      <td>2</td>\n",
              "    </tr>\n",
              "    <tr>\n",
              "      <th>CUS_0xff6</th>\n",
              "      <td>1</td>\n",
              "    </tr>\n",
              "    <tr>\n",
              "      <th>CUS_0xffd</th>\n",
              "      <td>1</td>\n",
              "    </tr>\n",
              "  </tbody>\n",
              "</table>\n",
              "<p>5465 rows × 1 columns</p>\n",
              "</div><br><label><b>dtype:</b> int64</label>"
            ]
          },
          "metadata": {},
          "execution_count": 360
        }
      ]
    },
    {
      "cell_type": "code",
      "source": [
        "# Counting the frequency of each unique value in 'num_of_delayed_payment' and sorting by index\n",
        "df2[\"num_of_delayed_payment\"].value_counts().sort_index().head(50)"
      ],
      "metadata": {
        "colab": {
          "base_uri": "https://localhost:8080/",
          "height": 1000
        },
        "id": "erQs9_zR3Sbh",
        "outputId": "1358bd20-e370-41ad-8836-80b18d0546bd"
      },
      "id": "erQs9_zR3Sbh",
      "execution_count": 361,
      "outputs": [
        {
          "output_type": "execute_result",
          "data": {
            "text/plain": [
              "num_of_delayed_payment\n",
              "-3.0        94\n",
              "-2.0       234\n",
              "-1.0       316\n",
              " 0.0      1609\n",
              " 1.0      1636\n",
              " 2.0      1810\n",
              " 3.0      1931\n",
              " 4.0      1838\n",
              " 5.0      2091\n",
              " 6.0      2321\n",
              " 7.0      2385\n",
              " 8.0      4873\n",
              " 9.0      4981\n",
              " 10.0     5309\n",
              " 11.0     4810\n",
              " 12.0     5059\n",
              " 13.0     4036\n",
              " 14.0     4193\n",
              " 15.0     5237\n",
              " 16.0     5312\n",
              " 17.0     5412\n",
              " 18.0     5216\n",
              " 19.0     5481\n",
              " 20.0     5089\n",
              " 21.0     2553\n",
              " 22.0     2339\n",
              " 23.0     2028\n",
              " 24.0     1701\n",
              " 25.0     1665\n",
              " 26.0      322\n",
              " 27.0      250\n",
              " 28.0      131\n",
              " 46.0        1\n",
              " 47.0        1\n",
              " 49.0        1\n",
              " 52.0        1\n",
              " 72.0        1\n",
              " 80.0        1\n",
              " 84.0        1\n",
              " 85.0        1\n",
              " 86.0        1\n",
              " 88.0        1\n",
              " 94.0        1\n",
              " 98.0        1\n",
              " 102.0       1\n",
              " 106.0       1\n",
              " 107.0       1\n",
              " 121.0       1\n",
              " 130.0       1\n",
              " 132.0       1\n",
              "Name: count, dtype: int64"
            ],
            "text/html": [
              "<div>\n",
              "<style scoped>\n",
              "    .dataframe tbody tr th:only-of-type {\n",
              "        vertical-align: middle;\n",
              "    }\n",
              "\n",
              "    .dataframe tbody tr th {\n",
              "        vertical-align: top;\n",
              "    }\n",
              "\n",
              "    .dataframe thead th {\n",
              "        text-align: right;\n",
              "    }\n",
              "</style>\n",
              "<table border=\"1\" class=\"dataframe\">\n",
              "  <thead>\n",
              "    <tr style=\"text-align: right;\">\n",
              "      <th></th>\n",
              "      <th>count</th>\n",
              "    </tr>\n",
              "    <tr>\n",
              "      <th>num_of_delayed_payment</th>\n",
              "      <th></th>\n",
              "    </tr>\n",
              "  </thead>\n",
              "  <tbody>\n",
              "    <tr>\n",
              "      <th>-3.0</th>\n",
              "      <td>94</td>\n",
              "    </tr>\n",
              "    <tr>\n",
              "      <th>-2.0</th>\n",
              "      <td>234</td>\n",
              "    </tr>\n",
              "    <tr>\n",
              "      <th>-1.0</th>\n",
              "      <td>316</td>\n",
              "    </tr>\n",
              "    <tr>\n",
              "      <th>0.0</th>\n",
              "      <td>1609</td>\n",
              "    </tr>\n",
              "    <tr>\n",
              "      <th>1.0</th>\n",
              "      <td>1636</td>\n",
              "    </tr>\n",
              "    <tr>\n",
              "      <th>2.0</th>\n",
              "      <td>1810</td>\n",
              "    </tr>\n",
              "    <tr>\n",
              "      <th>3.0</th>\n",
              "      <td>1931</td>\n",
              "    </tr>\n",
              "    <tr>\n",
              "      <th>4.0</th>\n",
              "      <td>1838</td>\n",
              "    </tr>\n",
              "    <tr>\n",
              "      <th>5.0</th>\n",
              "      <td>2091</td>\n",
              "    </tr>\n",
              "    <tr>\n",
              "      <th>6.0</th>\n",
              "      <td>2321</td>\n",
              "    </tr>\n",
              "    <tr>\n",
              "      <th>7.0</th>\n",
              "      <td>2385</td>\n",
              "    </tr>\n",
              "    <tr>\n",
              "      <th>8.0</th>\n",
              "      <td>4873</td>\n",
              "    </tr>\n",
              "    <tr>\n",
              "      <th>9.0</th>\n",
              "      <td>4981</td>\n",
              "    </tr>\n",
              "    <tr>\n",
              "      <th>10.0</th>\n",
              "      <td>5309</td>\n",
              "    </tr>\n",
              "    <tr>\n",
              "      <th>11.0</th>\n",
              "      <td>4810</td>\n",
              "    </tr>\n",
              "    <tr>\n",
              "      <th>12.0</th>\n",
              "      <td>5059</td>\n",
              "    </tr>\n",
              "    <tr>\n",
              "      <th>13.0</th>\n",
              "      <td>4036</td>\n",
              "    </tr>\n",
              "    <tr>\n",
              "      <th>14.0</th>\n",
              "      <td>4193</td>\n",
              "    </tr>\n",
              "    <tr>\n",
              "      <th>15.0</th>\n",
              "      <td>5237</td>\n",
              "    </tr>\n",
              "    <tr>\n",
              "      <th>16.0</th>\n",
              "      <td>5312</td>\n",
              "    </tr>\n",
              "    <tr>\n",
              "      <th>17.0</th>\n",
              "      <td>5412</td>\n",
              "    </tr>\n",
              "    <tr>\n",
              "      <th>18.0</th>\n",
              "      <td>5216</td>\n",
              "    </tr>\n",
              "    <tr>\n",
              "      <th>19.0</th>\n",
              "      <td>5481</td>\n",
              "    </tr>\n",
              "    <tr>\n",
              "      <th>20.0</th>\n",
              "      <td>5089</td>\n",
              "    </tr>\n",
              "    <tr>\n",
              "      <th>21.0</th>\n",
              "      <td>2553</td>\n",
              "    </tr>\n",
              "    <tr>\n",
              "      <th>22.0</th>\n",
              "      <td>2339</td>\n",
              "    </tr>\n",
              "    <tr>\n",
              "      <th>23.0</th>\n",
              "      <td>2028</td>\n",
              "    </tr>\n",
              "    <tr>\n",
              "      <th>24.0</th>\n",
              "      <td>1701</td>\n",
              "    </tr>\n",
              "    <tr>\n",
              "      <th>25.0</th>\n",
              "      <td>1665</td>\n",
              "    </tr>\n",
              "    <tr>\n",
              "      <th>26.0</th>\n",
              "      <td>322</td>\n",
              "    </tr>\n",
              "    <tr>\n",
              "      <th>27.0</th>\n",
              "      <td>250</td>\n",
              "    </tr>\n",
              "    <tr>\n",
              "      <th>28.0</th>\n",
              "      <td>131</td>\n",
              "    </tr>\n",
              "    <tr>\n",
              "      <th>46.0</th>\n",
              "      <td>1</td>\n",
              "    </tr>\n",
              "    <tr>\n",
              "      <th>47.0</th>\n",
              "      <td>1</td>\n",
              "    </tr>\n",
              "    <tr>\n",
              "      <th>49.0</th>\n",
              "      <td>1</td>\n",
              "    </tr>\n",
              "    <tr>\n",
              "      <th>52.0</th>\n",
              "      <td>1</td>\n",
              "    </tr>\n",
              "    <tr>\n",
              "      <th>72.0</th>\n",
              "      <td>1</td>\n",
              "    </tr>\n",
              "    <tr>\n",
              "      <th>80.0</th>\n",
              "      <td>1</td>\n",
              "    </tr>\n",
              "    <tr>\n",
              "      <th>84.0</th>\n",
              "      <td>1</td>\n",
              "    </tr>\n",
              "    <tr>\n",
              "      <th>85.0</th>\n",
              "      <td>1</td>\n",
              "    </tr>\n",
              "    <tr>\n",
              "      <th>86.0</th>\n",
              "      <td>1</td>\n",
              "    </tr>\n",
              "    <tr>\n",
              "      <th>88.0</th>\n",
              "      <td>1</td>\n",
              "    </tr>\n",
              "    <tr>\n",
              "      <th>94.0</th>\n",
              "      <td>1</td>\n",
              "    </tr>\n",
              "    <tr>\n",
              "      <th>98.0</th>\n",
              "      <td>1</td>\n",
              "    </tr>\n",
              "    <tr>\n",
              "      <th>102.0</th>\n",
              "      <td>1</td>\n",
              "    </tr>\n",
              "    <tr>\n",
              "      <th>106.0</th>\n",
              "      <td>1</td>\n",
              "    </tr>\n",
              "    <tr>\n",
              "      <th>107.0</th>\n",
              "      <td>1</td>\n",
              "    </tr>\n",
              "    <tr>\n",
              "      <th>121.0</th>\n",
              "      <td>1</td>\n",
              "    </tr>\n",
              "    <tr>\n",
              "      <th>130.0</th>\n",
              "      <td>1</td>\n",
              "    </tr>\n",
              "    <tr>\n",
              "      <th>132.0</th>\n",
              "      <td>1</td>\n",
              "    </tr>\n",
              "  </tbody>\n",
              "</table>\n",
              "</div><br><label><b>dtype:</b> int64</label>"
            ]
          },
          "metadata": {},
          "execution_count": 361
        }
      ]
    },
    {
      "cell_type": "code",
      "source": [
        "# Handling out-of-range values for 'num_of_delayed_payment'\n",
        "df2.loc[(df2[\"num_of_delayed_payment\"] < 0) | (df2[\"num_of_delayed_payment\"] > 28), \"num_of_delayed_payment\"] = np.nan\n",
        "\n",
        "# Filling missing values (NaN) within each 'customer_id' group using forward and backward fill\n",
        "df2[\"num_of_delayed_payment\"] = df2.groupby(\"customer_id\")[\"num_of_delayed_payment\"].transform(\n",
        "    lambda x: x.fillna(method=\"ffill\").fillna(method=\"bfill\"))\n",
        "\n",
        "# Checking the total number of missing values after filling\n",
        "df2[\"num_of_delayed_payment\"].isna().sum()"
      ],
      "metadata": {
        "colab": {
          "base_uri": "https://localhost:8080/"
        },
        "id": "iC9EbwxF3u5r",
        "outputId": "910fe859-2f28-4d65-f944-fac803760cb1"
      },
      "id": "iC9EbwxF3u5r",
      "execution_count": 362,
      "outputs": [
        {
          "output_type": "execute_result",
          "data": {
            "text/plain": [
              "np.int64(0)"
            ]
          },
          "metadata": {},
          "execution_count": 362
        }
      ]
    },
    {
      "cell_type": "markdown",
      "source": [
        "7. Num_Credit_Inquiries"
      ],
      "metadata": {
        "id": "SOLqlDu8Je4p"
      },
      "id": "SOLqlDu8Je4p"
    },
    {
      "cell_type": "code",
      "source": [
        "# Group by 'customer_id' and get unique values in the 'num_credit_inquiries' column for each customer\n",
        "df2.groupby(\"customer_id\")[\"num_credit_inquiries\"].unique()"
      ],
      "metadata": {
        "colab": {
          "base_uri": "https://localhost:8080/",
          "height": 490
        },
        "id": "86NYm9144JPx",
        "outputId": "d1dcfa19-24fb-4411-b45e-ad15e8fae354"
      },
      "id": "86NYm9144JPx",
      "execution_count": 363,
      "outputs": [
        {
          "output_type": "execute_result",
          "data": {
            "text/plain": [
              "customer_id\n",
              "CUS_0x1000          [10.0, 11.0]\n",
              "CUS_0x1009            [2.0, 4.0]\n",
              "CUS_0x100b    [1.0, 2271.0, 4.0]\n",
              "CUS_0x1011         [7.0, 1965.0]\n",
              "CUS_0x1013                 [3.0]\n",
              "                     ...        \n",
              "CUS_0xff3             [3.0, 5.0]\n",
              "CUS_0xff4             [5.0, nan]\n",
              "CUS_0xff6             [nan, 2.0]\n",
              "CUS_0xffc            [8.0, 13.0]\n",
              "CUS_0xffd     [1801.0, nan, 7.0]\n",
              "Name: num_credit_inquiries, Length: 12500, dtype: object"
            ],
            "text/html": [
              "<div>\n",
              "<style scoped>\n",
              "    .dataframe tbody tr th:only-of-type {\n",
              "        vertical-align: middle;\n",
              "    }\n",
              "\n",
              "    .dataframe tbody tr th {\n",
              "        vertical-align: top;\n",
              "    }\n",
              "\n",
              "    .dataframe thead th {\n",
              "        text-align: right;\n",
              "    }\n",
              "</style>\n",
              "<table border=\"1\" class=\"dataframe\">\n",
              "  <thead>\n",
              "    <tr style=\"text-align: right;\">\n",
              "      <th></th>\n",
              "      <th>num_credit_inquiries</th>\n",
              "    </tr>\n",
              "    <tr>\n",
              "      <th>customer_id</th>\n",
              "      <th></th>\n",
              "    </tr>\n",
              "  </thead>\n",
              "  <tbody>\n",
              "    <tr>\n",
              "      <th>CUS_0x1000</th>\n",
              "      <td>[10.0, 11.0]</td>\n",
              "    </tr>\n",
              "    <tr>\n",
              "      <th>CUS_0x1009</th>\n",
              "      <td>[2.0, 4.0]</td>\n",
              "    </tr>\n",
              "    <tr>\n",
              "      <th>CUS_0x100b</th>\n",
              "      <td>[1.0, 2271.0, 4.0]</td>\n",
              "    </tr>\n",
              "    <tr>\n",
              "      <th>CUS_0x1011</th>\n",
              "      <td>[7.0, 1965.0]</td>\n",
              "    </tr>\n",
              "    <tr>\n",
              "      <th>CUS_0x1013</th>\n",
              "      <td>[3.0]</td>\n",
              "    </tr>\n",
              "    <tr>\n",
              "      <th>...</th>\n",
              "      <td>...</td>\n",
              "    </tr>\n",
              "    <tr>\n",
              "      <th>CUS_0xff3</th>\n",
              "      <td>[3.0, 5.0]</td>\n",
              "    </tr>\n",
              "    <tr>\n",
              "      <th>CUS_0xff4</th>\n",
              "      <td>[5.0, nan]</td>\n",
              "    </tr>\n",
              "    <tr>\n",
              "      <th>CUS_0xff6</th>\n",
              "      <td>[nan, 2.0]</td>\n",
              "    </tr>\n",
              "    <tr>\n",
              "      <th>CUS_0xffc</th>\n",
              "      <td>[8.0, 13.0]</td>\n",
              "    </tr>\n",
              "    <tr>\n",
              "      <th>CUS_0xffd</th>\n",
              "      <td>[1801.0, nan, 7.0]</td>\n",
              "    </tr>\n",
              "  </tbody>\n",
              "</table>\n",
              "<p>12500 rows × 1 columns</p>\n",
              "</div><br><label><b>dtype:</b> object</label>"
            ]
          },
          "metadata": {},
          "execution_count": 363
        }
      ]
    },
    {
      "cell_type": "code",
      "source": [
        "# Get the value counts of 'num_credit_inquiries', including NaN values, and display the top 30\n",
        "df2[\"num_credit_inquiries\"].value_counts(dropna=False).head(30)"
      ],
      "metadata": {
        "colab": {
          "base_uri": "https://localhost:8080/",
          "height": 1000
        },
        "id": "dfdtnOG54Urw",
        "outputId": "fb4e05ed-d6ca-43cc-8321-13c767bb7b48"
      },
      "id": "dfdtnOG54Urw",
      "execution_count": 364,
      "outputs": [
        {
          "output_type": "execute_result",
          "data": {
            "text/plain": [
              "num_credit_inquiries\n",
              "4.0       11271\n",
              "3.0        8890\n",
              "6.0        8111\n",
              "7.0        8058\n",
              "2.0        8028\n",
              "8.0        7866\n",
              "1.0        7588\n",
              "0.0        6972\n",
              "5.0        5693\n",
              "9.0        5283\n",
              "11.0       5051\n",
              "10.0       4936\n",
              "12.0       4571\n",
              "NaN        1965\n",
              "13.0       1480\n",
              "14.0       1039\n",
              "15.0        808\n",
              "16.0        456\n",
              "17.0        284\n",
              "1460.0        4\n",
              "53.0          4\n",
              "318.0         4\n",
              "1786.0        4\n",
              "31.0          4\n",
              "1244.0        4\n",
              "2297.0        4\n",
              "2310.0        4\n",
              "285.0         4\n",
              "1114.0        4\n",
              "1768.0        4\n",
              "Name: count, dtype: int64"
            ],
            "text/html": [
              "<div>\n",
              "<style scoped>\n",
              "    .dataframe tbody tr th:only-of-type {\n",
              "        vertical-align: middle;\n",
              "    }\n",
              "\n",
              "    .dataframe tbody tr th {\n",
              "        vertical-align: top;\n",
              "    }\n",
              "\n",
              "    .dataframe thead th {\n",
              "        text-align: right;\n",
              "    }\n",
              "</style>\n",
              "<table border=\"1\" class=\"dataframe\">\n",
              "  <thead>\n",
              "    <tr style=\"text-align: right;\">\n",
              "      <th></th>\n",
              "      <th>count</th>\n",
              "    </tr>\n",
              "    <tr>\n",
              "      <th>num_credit_inquiries</th>\n",
              "      <th></th>\n",
              "    </tr>\n",
              "  </thead>\n",
              "  <tbody>\n",
              "    <tr>\n",
              "      <th>4.0</th>\n",
              "      <td>11271</td>\n",
              "    </tr>\n",
              "    <tr>\n",
              "      <th>3.0</th>\n",
              "      <td>8890</td>\n",
              "    </tr>\n",
              "    <tr>\n",
              "      <th>6.0</th>\n",
              "      <td>8111</td>\n",
              "    </tr>\n",
              "    <tr>\n",
              "      <th>7.0</th>\n",
              "      <td>8058</td>\n",
              "    </tr>\n",
              "    <tr>\n",
              "      <th>2.0</th>\n",
              "      <td>8028</td>\n",
              "    </tr>\n",
              "    <tr>\n",
              "      <th>8.0</th>\n",
              "      <td>7866</td>\n",
              "    </tr>\n",
              "    <tr>\n",
              "      <th>1.0</th>\n",
              "      <td>7588</td>\n",
              "    </tr>\n",
              "    <tr>\n",
              "      <th>0.0</th>\n",
              "      <td>6972</td>\n",
              "    </tr>\n",
              "    <tr>\n",
              "      <th>5.0</th>\n",
              "      <td>5693</td>\n",
              "    </tr>\n",
              "    <tr>\n",
              "      <th>9.0</th>\n",
              "      <td>5283</td>\n",
              "    </tr>\n",
              "    <tr>\n",
              "      <th>11.0</th>\n",
              "      <td>5051</td>\n",
              "    </tr>\n",
              "    <tr>\n",
              "      <th>10.0</th>\n",
              "      <td>4936</td>\n",
              "    </tr>\n",
              "    <tr>\n",
              "      <th>12.0</th>\n",
              "      <td>4571</td>\n",
              "    </tr>\n",
              "    <tr>\n",
              "      <th>NaN</th>\n",
              "      <td>1965</td>\n",
              "    </tr>\n",
              "    <tr>\n",
              "      <th>13.0</th>\n",
              "      <td>1480</td>\n",
              "    </tr>\n",
              "    <tr>\n",
              "      <th>14.0</th>\n",
              "      <td>1039</td>\n",
              "    </tr>\n",
              "    <tr>\n",
              "      <th>15.0</th>\n",
              "      <td>808</td>\n",
              "    </tr>\n",
              "    <tr>\n",
              "      <th>16.0</th>\n",
              "      <td>456</td>\n",
              "    </tr>\n",
              "    <tr>\n",
              "      <th>17.0</th>\n",
              "      <td>284</td>\n",
              "    </tr>\n",
              "    <tr>\n",
              "      <th>1460.0</th>\n",
              "      <td>4</td>\n",
              "    </tr>\n",
              "    <tr>\n",
              "      <th>53.0</th>\n",
              "      <td>4</td>\n",
              "    </tr>\n",
              "    <tr>\n",
              "      <th>318.0</th>\n",
              "      <td>4</td>\n",
              "    </tr>\n",
              "    <tr>\n",
              "      <th>1786.0</th>\n",
              "      <td>4</td>\n",
              "    </tr>\n",
              "    <tr>\n",
              "      <th>31.0</th>\n",
              "      <td>4</td>\n",
              "    </tr>\n",
              "    <tr>\n",
              "      <th>1244.0</th>\n",
              "      <td>4</td>\n",
              "    </tr>\n",
              "    <tr>\n",
              "      <th>2297.0</th>\n",
              "      <td>4</td>\n",
              "    </tr>\n",
              "    <tr>\n",
              "      <th>2310.0</th>\n",
              "      <td>4</td>\n",
              "    </tr>\n",
              "    <tr>\n",
              "      <th>285.0</th>\n",
              "      <td>4</td>\n",
              "    </tr>\n",
              "    <tr>\n",
              "      <th>1114.0</th>\n",
              "      <td>4</td>\n",
              "    </tr>\n",
              "    <tr>\n",
              "      <th>1768.0</th>\n",
              "      <td>4</td>\n",
              "    </tr>\n",
              "  </tbody>\n",
              "</table>\n",
              "</div><br><label><b>dtype:</b> int64</label>"
            ]
          },
          "metadata": {},
          "execution_count": 364
        }
      ]
    },
    {
      "cell_type": "code",
      "source": [
        "# The data is inconsistent;\n",
        "#But while the 'Num of Loans' value is recorded over a 6-year period,\n",
        "#the 'num_credit_inquiries' value is only recorded for 2 years\n",
        "df2[df2[\"num_credit_inquiries\"] == 0][[\"num_credit_inquiries\", \"num_of_loan\"]]"
      ],
      "metadata": {
        "colab": {
          "base_uri": "https://localhost:8080/",
          "height": 424
        },
        "id": "wWatibUX5KWu",
        "outputId": "32966acf-15f8-41ee-e081-e0dfa56dd12a"
      },
      "id": "wWatibUX5KWu",
      "execution_count": 365,
      "outputs": [
        {
          "output_type": "execute_result",
          "data": {
            "text/plain": [
              "       num_credit_inquiries  num_of_loan\n",
              "120                     0.0            2\n",
              "121                     0.0            2\n",
              "128                     0.0            0\n",
              "176                     0.0            0\n",
              "177                     0.0            0\n",
              "...                     ...          ...\n",
              "99795                   0.0            1\n",
              "99796                   0.0            1\n",
              "99797                   0.0            1\n",
              "99798                   0.0            1\n",
              "99799                   0.0            1\n",
              "\n",
              "[6972 rows x 2 columns]"
            ],
            "text/html": [
              "\n",
              "  <div id=\"df-1401e42c-3d71-453e-bd1f-5827936289d7\" class=\"colab-df-container\">\n",
              "    <div>\n",
              "<style scoped>\n",
              "    .dataframe tbody tr th:only-of-type {\n",
              "        vertical-align: middle;\n",
              "    }\n",
              "\n",
              "    .dataframe tbody tr th {\n",
              "        vertical-align: top;\n",
              "    }\n",
              "\n",
              "    .dataframe thead th {\n",
              "        text-align: right;\n",
              "    }\n",
              "</style>\n",
              "<table border=\"1\" class=\"dataframe\">\n",
              "  <thead>\n",
              "    <tr style=\"text-align: right;\">\n",
              "      <th></th>\n",
              "      <th>num_credit_inquiries</th>\n",
              "      <th>num_of_loan</th>\n",
              "    </tr>\n",
              "  </thead>\n",
              "  <tbody>\n",
              "    <tr>\n",
              "      <th>120</th>\n",
              "      <td>0.0</td>\n",
              "      <td>2</td>\n",
              "    </tr>\n",
              "    <tr>\n",
              "      <th>121</th>\n",
              "      <td>0.0</td>\n",
              "      <td>2</td>\n",
              "    </tr>\n",
              "    <tr>\n",
              "      <th>128</th>\n",
              "      <td>0.0</td>\n",
              "      <td>0</td>\n",
              "    </tr>\n",
              "    <tr>\n",
              "      <th>176</th>\n",
              "      <td>0.0</td>\n",
              "      <td>0</td>\n",
              "    </tr>\n",
              "    <tr>\n",
              "      <th>177</th>\n",
              "      <td>0.0</td>\n",
              "      <td>0</td>\n",
              "    </tr>\n",
              "    <tr>\n",
              "      <th>...</th>\n",
              "      <td>...</td>\n",
              "      <td>...</td>\n",
              "    </tr>\n",
              "    <tr>\n",
              "      <th>99795</th>\n",
              "      <td>0.0</td>\n",
              "      <td>1</td>\n",
              "    </tr>\n",
              "    <tr>\n",
              "      <th>99796</th>\n",
              "      <td>0.0</td>\n",
              "      <td>1</td>\n",
              "    </tr>\n",
              "    <tr>\n",
              "      <th>99797</th>\n",
              "      <td>0.0</td>\n",
              "      <td>1</td>\n",
              "    </tr>\n",
              "    <tr>\n",
              "      <th>99798</th>\n",
              "      <td>0.0</td>\n",
              "      <td>1</td>\n",
              "    </tr>\n",
              "    <tr>\n",
              "      <th>99799</th>\n",
              "      <td>0.0</td>\n",
              "      <td>1</td>\n",
              "    </tr>\n",
              "  </tbody>\n",
              "</table>\n",
              "<p>6972 rows × 2 columns</p>\n",
              "</div>\n",
              "    <div class=\"colab-df-buttons\">\n",
              "\n",
              "  <div class=\"colab-df-container\">\n",
              "    <button class=\"colab-df-convert\" onclick=\"convertToInteractive('df-1401e42c-3d71-453e-bd1f-5827936289d7')\"\n",
              "            title=\"Convert this dataframe to an interactive table.\"\n",
              "            style=\"display:none;\">\n",
              "\n",
              "  <svg xmlns=\"http://www.w3.org/2000/svg\" height=\"24px\" viewBox=\"0 -960 960 960\">\n",
              "    <path d=\"M120-120v-720h720v720H120Zm60-500h600v-160H180v160Zm220 220h160v-160H400v160Zm0 220h160v-160H400v160ZM180-400h160v-160H180v160Zm440 0h160v-160H620v160ZM180-180h160v-160H180v160Zm440 0h160v-160H620v160Z\"/>\n",
              "  </svg>\n",
              "    </button>\n",
              "\n",
              "  <style>\n",
              "    .colab-df-container {\n",
              "      display:flex;\n",
              "      gap: 12px;\n",
              "    }\n",
              "\n",
              "    .colab-df-convert {\n",
              "      background-color: #E8F0FE;\n",
              "      border: none;\n",
              "      border-radius: 50%;\n",
              "      cursor: pointer;\n",
              "      display: none;\n",
              "      fill: #1967D2;\n",
              "      height: 32px;\n",
              "      padding: 0 0 0 0;\n",
              "      width: 32px;\n",
              "    }\n",
              "\n",
              "    .colab-df-convert:hover {\n",
              "      background-color: #E2EBFA;\n",
              "      box-shadow: 0px 1px 2px rgba(60, 64, 67, 0.3), 0px 1px 3px 1px rgba(60, 64, 67, 0.15);\n",
              "      fill: #174EA6;\n",
              "    }\n",
              "\n",
              "    .colab-df-buttons div {\n",
              "      margin-bottom: 4px;\n",
              "    }\n",
              "\n",
              "    [theme=dark] .colab-df-convert {\n",
              "      background-color: #3B4455;\n",
              "      fill: #D2E3FC;\n",
              "    }\n",
              "\n",
              "    [theme=dark] .colab-df-convert:hover {\n",
              "      background-color: #434B5C;\n",
              "      box-shadow: 0px 1px 3px 1px rgba(0, 0, 0, 0.15);\n",
              "      filter: drop-shadow(0px 1px 2px rgba(0, 0, 0, 0.3));\n",
              "      fill: #FFFFFF;\n",
              "    }\n",
              "  </style>\n",
              "\n",
              "    <script>\n",
              "      const buttonEl =\n",
              "        document.querySelector('#df-1401e42c-3d71-453e-bd1f-5827936289d7 button.colab-df-convert');\n",
              "      buttonEl.style.display =\n",
              "        google.colab.kernel.accessAllowed ? 'block' : 'none';\n",
              "\n",
              "      async function convertToInteractive(key) {\n",
              "        const element = document.querySelector('#df-1401e42c-3d71-453e-bd1f-5827936289d7');\n",
              "        const dataTable =\n",
              "          await google.colab.kernel.invokeFunction('convertToInteractive',\n",
              "                                                    [key], {});\n",
              "        if (!dataTable) return;\n",
              "\n",
              "        const docLinkHtml = 'Like what you see? Visit the ' +\n",
              "          '<a target=\"_blank\" href=https://colab.research.google.com/notebooks/data_table.ipynb>data table notebook</a>'\n",
              "          + ' to learn more about interactive tables.';\n",
              "        element.innerHTML = '';\n",
              "        dataTable['output_type'] = 'display_data';\n",
              "        await google.colab.output.renderOutput(dataTable, element);\n",
              "        const docLink = document.createElement('div');\n",
              "        docLink.innerHTML = docLinkHtml;\n",
              "        element.appendChild(docLink);\n",
              "      }\n",
              "    </script>\n",
              "  </div>\n",
              "\n",
              "\n",
              "    <div id=\"df-6b1cb646-399e-4d06-abef-4cce854ca59d\">\n",
              "      <button class=\"colab-df-quickchart\" onclick=\"quickchart('df-6b1cb646-399e-4d06-abef-4cce854ca59d')\"\n",
              "                title=\"Suggest charts\"\n",
              "                style=\"display:none;\">\n",
              "\n",
              "<svg xmlns=\"http://www.w3.org/2000/svg\" height=\"24px\"viewBox=\"0 0 24 24\"\n",
              "     width=\"24px\">\n",
              "    <g>\n",
              "        <path d=\"M19 3H5c-1.1 0-2 .9-2 2v14c0 1.1.9 2 2 2h14c1.1 0 2-.9 2-2V5c0-1.1-.9-2-2-2zM9 17H7v-7h2v7zm4 0h-2V7h2v10zm4 0h-2v-4h2v4z\"/>\n",
              "    </g>\n",
              "</svg>\n",
              "      </button>\n",
              "\n",
              "<style>\n",
              "  .colab-df-quickchart {\n",
              "      --bg-color: #E8F0FE;\n",
              "      --fill-color: #1967D2;\n",
              "      --hover-bg-color: #E2EBFA;\n",
              "      --hover-fill-color: #174EA6;\n",
              "      --disabled-fill-color: #AAA;\n",
              "      --disabled-bg-color: #DDD;\n",
              "  }\n",
              "\n",
              "  [theme=dark] .colab-df-quickchart {\n",
              "      --bg-color: #3B4455;\n",
              "      --fill-color: #D2E3FC;\n",
              "      --hover-bg-color: #434B5C;\n",
              "      --hover-fill-color: #FFFFFF;\n",
              "      --disabled-bg-color: #3B4455;\n",
              "      --disabled-fill-color: #666;\n",
              "  }\n",
              "\n",
              "  .colab-df-quickchart {\n",
              "    background-color: var(--bg-color);\n",
              "    border: none;\n",
              "    border-radius: 50%;\n",
              "    cursor: pointer;\n",
              "    display: none;\n",
              "    fill: var(--fill-color);\n",
              "    height: 32px;\n",
              "    padding: 0;\n",
              "    width: 32px;\n",
              "  }\n",
              "\n",
              "  .colab-df-quickchart:hover {\n",
              "    background-color: var(--hover-bg-color);\n",
              "    box-shadow: 0 1px 2px rgba(60, 64, 67, 0.3), 0 1px 3px 1px rgba(60, 64, 67, 0.15);\n",
              "    fill: var(--button-hover-fill-color);\n",
              "  }\n",
              "\n",
              "  .colab-df-quickchart-complete:disabled,\n",
              "  .colab-df-quickchart-complete:disabled:hover {\n",
              "    background-color: var(--disabled-bg-color);\n",
              "    fill: var(--disabled-fill-color);\n",
              "    box-shadow: none;\n",
              "  }\n",
              "\n",
              "  .colab-df-spinner {\n",
              "    border: 2px solid var(--fill-color);\n",
              "    border-color: transparent;\n",
              "    border-bottom-color: var(--fill-color);\n",
              "    animation:\n",
              "      spin 1s steps(1) infinite;\n",
              "  }\n",
              "\n",
              "  @keyframes spin {\n",
              "    0% {\n",
              "      border-color: transparent;\n",
              "      border-bottom-color: var(--fill-color);\n",
              "      border-left-color: var(--fill-color);\n",
              "    }\n",
              "    20% {\n",
              "      border-color: transparent;\n",
              "      border-left-color: var(--fill-color);\n",
              "      border-top-color: var(--fill-color);\n",
              "    }\n",
              "    30% {\n",
              "      border-color: transparent;\n",
              "      border-left-color: var(--fill-color);\n",
              "      border-top-color: var(--fill-color);\n",
              "      border-right-color: var(--fill-color);\n",
              "    }\n",
              "    40% {\n",
              "      border-color: transparent;\n",
              "      border-right-color: var(--fill-color);\n",
              "      border-top-color: var(--fill-color);\n",
              "    }\n",
              "    60% {\n",
              "      border-color: transparent;\n",
              "      border-right-color: var(--fill-color);\n",
              "    }\n",
              "    80% {\n",
              "      border-color: transparent;\n",
              "      border-right-color: var(--fill-color);\n",
              "      border-bottom-color: var(--fill-color);\n",
              "    }\n",
              "    90% {\n",
              "      border-color: transparent;\n",
              "      border-bottom-color: var(--fill-color);\n",
              "    }\n",
              "  }\n",
              "</style>\n",
              "\n",
              "      <script>\n",
              "        async function quickchart(key) {\n",
              "          const quickchartButtonEl =\n",
              "            document.querySelector('#' + key + ' button');\n",
              "          quickchartButtonEl.disabled = true;  // To prevent multiple clicks.\n",
              "          quickchartButtonEl.classList.add('colab-df-spinner');\n",
              "          try {\n",
              "            const charts = await google.colab.kernel.invokeFunction(\n",
              "                'suggestCharts', [key], {});\n",
              "          } catch (error) {\n",
              "            console.error('Error during call to suggestCharts:', error);\n",
              "          }\n",
              "          quickchartButtonEl.classList.remove('colab-df-spinner');\n",
              "          quickchartButtonEl.classList.add('colab-df-quickchart-complete');\n",
              "        }\n",
              "        (() => {\n",
              "          let quickchartButtonEl =\n",
              "            document.querySelector('#df-6b1cb646-399e-4d06-abef-4cce854ca59d button');\n",
              "          quickchartButtonEl.style.display =\n",
              "            google.colab.kernel.accessAllowed ? 'block' : 'none';\n",
              "        })();\n",
              "      </script>\n",
              "    </div>\n",
              "\n",
              "    </div>\n",
              "  </div>\n"
            ],
            "application/vnd.google.colaboratory.intrinsic+json": {
              "type": "dataframe",
              "summary": "{\n  \"name\": \"df2[df2[\\\"num_credit_inquiries\\\"] == 0][[\\\"num_credit_inquiries\\\", \\\"num_of_loan\\\"]]\",\n  \"rows\": 6972,\n  \"fields\": [\n    {\n      \"column\": \"num_credit_inquiries\",\n      \"properties\": {\n        \"dtype\": \"number\",\n        \"std\": 0.0,\n        \"min\": 0.0,\n        \"max\": 0.0,\n        \"num_unique_values\": 1,\n        \"samples\": [\n          0.0\n        ],\n        \"semantic_type\": \"\",\n        \"description\": \"\"\n      }\n    },\n    {\n      \"column\": \"num_of_loan\",\n      \"properties\": {\n        \"dtype\": \"int16\",\n        \"num_unique_values\": 42,\n        \"samples\": [\n          1382\n        ],\n        \"semantic_type\": \"\",\n        \"description\": \"\"\n      }\n    }\n  ]\n}"
            }
          },
          "metadata": {},
          "execution_count": 365
        }
      ]
    },
    {
      "cell_type": "code",
      "source": [
        "# Fill NaN values using forward fill and backward fill within each customer_id group\n",
        "df2[\"num_credit_inquiries\"] = df2.groupby(\"customer_id\")[\"num_credit_inquiries\"].transform(\n",
        "    lambda x: x.fillna(method=\"ffill\").fillna(method=\"bfill\"))\n",
        "\n",
        "# Check how many NaN values are left in 'num_credit_inquiries'\n",
        "df2[\"num_credit_inquiries\"].isna().sum()"
      ],
      "metadata": {
        "colab": {
          "base_uri": "https://localhost:8080/"
        },
        "id": "hz5x7wgg5tLe",
        "outputId": "cbe0d945-c75d-4896-c1b5-68bb35eab927"
      },
      "id": "hz5x7wgg5tLe",
      "execution_count": 366,
      "outputs": [
        {
          "output_type": "execute_result",
          "data": {
            "text/plain": [
              "np.int64(0)"
            ]
          },
          "metadata": {},
          "execution_count": 366
        }
      ]
    },
    {
      "cell_type": "markdown",
      "source": [
        "8. Credit_Mix"
      ],
      "metadata": {
        "id": "zGw3bC7_JiFj"
      },
      "id": "zGw3bC7_JiFj"
    },
    {
      "cell_type": "code",
      "source": [
        "df2.credit_mix.value_counts()"
      ],
      "metadata": {
        "colab": {
          "base_uri": "https://localhost:8080/",
          "height": 210
        },
        "id": "tzwjMuFN6HNx",
        "outputId": "1288ddca-0900-4a63-b618-376495541e2b"
      },
      "id": "tzwjMuFN6HNx",
      "execution_count": 367,
      "outputs": [
        {
          "output_type": "execute_result",
          "data": {
            "text/plain": [
              "credit_mix\n",
              "Standard    36479\n",
              "Good        24337\n",
              "Bad         18989\n",
              "Name: count, dtype: int64"
            ],
            "text/html": [
              "<div>\n",
              "<style scoped>\n",
              "    .dataframe tbody tr th:only-of-type {\n",
              "        vertical-align: middle;\n",
              "    }\n",
              "\n",
              "    .dataframe tbody tr th {\n",
              "        vertical-align: top;\n",
              "    }\n",
              "\n",
              "    .dataframe thead th {\n",
              "        text-align: right;\n",
              "    }\n",
              "</style>\n",
              "<table border=\"1\" class=\"dataframe\">\n",
              "  <thead>\n",
              "    <tr style=\"text-align: right;\">\n",
              "      <th></th>\n",
              "      <th>count</th>\n",
              "    </tr>\n",
              "    <tr>\n",
              "      <th>credit_mix</th>\n",
              "      <th></th>\n",
              "    </tr>\n",
              "  </thead>\n",
              "  <tbody>\n",
              "    <tr>\n",
              "      <th>Standard</th>\n",
              "      <td>36479</td>\n",
              "    </tr>\n",
              "    <tr>\n",
              "      <th>Good</th>\n",
              "      <td>24337</td>\n",
              "    </tr>\n",
              "    <tr>\n",
              "      <th>Bad</th>\n",
              "      <td>18989</td>\n",
              "    </tr>\n",
              "  </tbody>\n",
              "</table>\n",
              "</div><br><label><b>dtype:</b> int64</label>"
            ]
          },
          "metadata": {},
          "execution_count": 367
        }
      ]
    },
    {
      "cell_type": "code",
      "source": [
        "# Group by customer_id and count unique values in credit_mix, then display the first 20\n",
        "df2.groupby(\"customer_id\")[\"credit_mix\"].value_counts().head(20)"
      ],
      "metadata": {
        "colab": {
          "base_uri": "https://localhost:8080/",
          "height": 743
        },
        "id": "aRvgsLjh6NfC",
        "outputId": "81d7f521-0e16-4e55-f487-f3237330ceb7"
      },
      "id": "aRvgsLjh6NfC",
      "execution_count": 389,
      "outputs": [
        {
          "output_type": "execute_result",
          "data": {
            "text/plain": [
              "customer_id  credit_mix\n",
              "CUS_0x1000   Bad           8\n",
              "CUS_0x1009   Standard      8\n",
              "CUS_0x100b   Good          8\n",
              "CUS_0x1011   Standard      8\n",
              "CUS_0x1013   Good          8\n",
              "CUS_0x1015   Standard      8\n",
              "CUS_0x1018   Bad           8\n",
              "CUS_0x1026   Good          8\n",
              "CUS_0x102d   Good          8\n",
              "CUS_0x102e   Standard      8\n",
              "CUS_0x1032   Standard      8\n",
              "CUS_0x1037   Good          8\n",
              "CUS_0x1038   Standard      8\n",
              "CUS_0x103e   Good          8\n",
              "CUS_0x1041   Bad           8\n",
              "CUS_0x1044   Good          8\n",
              "CUS_0x1048   Standard      8\n",
              "CUS_0x104a   Good          8\n",
              "CUS_0x104e   Standard      8\n",
              "CUS_0x104f   Standard      8\n",
              "Name: count, dtype: int64"
            ],
            "text/html": [
              "<div>\n",
              "<style scoped>\n",
              "    .dataframe tbody tr th:only-of-type {\n",
              "        vertical-align: middle;\n",
              "    }\n",
              "\n",
              "    .dataframe tbody tr th {\n",
              "        vertical-align: top;\n",
              "    }\n",
              "\n",
              "    .dataframe thead th {\n",
              "        text-align: right;\n",
              "    }\n",
              "</style>\n",
              "<table border=\"1\" class=\"dataframe\">\n",
              "  <thead>\n",
              "    <tr style=\"text-align: right;\">\n",
              "      <th></th>\n",
              "      <th></th>\n",
              "      <th>count</th>\n",
              "    </tr>\n",
              "    <tr>\n",
              "      <th>customer_id</th>\n",
              "      <th>credit_mix</th>\n",
              "      <th></th>\n",
              "    </tr>\n",
              "  </thead>\n",
              "  <tbody>\n",
              "    <tr>\n",
              "      <th>CUS_0x1000</th>\n",
              "      <th>Bad</th>\n",
              "      <td>8</td>\n",
              "    </tr>\n",
              "    <tr>\n",
              "      <th>CUS_0x1009</th>\n",
              "      <th>Standard</th>\n",
              "      <td>8</td>\n",
              "    </tr>\n",
              "    <tr>\n",
              "      <th>CUS_0x100b</th>\n",
              "      <th>Good</th>\n",
              "      <td>8</td>\n",
              "    </tr>\n",
              "    <tr>\n",
              "      <th>CUS_0x1011</th>\n",
              "      <th>Standard</th>\n",
              "      <td>8</td>\n",
              "    </tr>\n",
              "    <tr>\n",
              "      <th>CUS_0x1013</th>\n",
              "      <th>Good</th>\n",
              "      <td>8</td>\n",
              "    </tr>\n",
              "    <tr>\n",
              "      <th>CUS_0x1015</th>\n",
              "      <th>Standard</th>\n",
              "      <td>8</td>\n",
              "    </tr>\n",
              "    <tr>\n",
              "      <th>CUS_0x1018</th>\n",
              "      <th>Bad</th>\n",
              "      <td>8</td>\n",
              "    </tr>\n",
              "    <tr>\n",
              "      <th>CUS_0x1026</th>\n",
              "      <th>Good</th>\n",
              "      <td>8</td>\n",
              "    </tr>\n",
              "    <tr>\n",
              "      <th>CUS_0x102d</th>\n",
              "      <th>Good</th>\n",
              "      <td>8</td>\n",
              "    </tr>\n",
              "    <tr>\n",
              "      <th>CUS_0x102e</th>\n",
              "      <th>Standard</th>\n",
              "      <td>8</td>\n",
              "    </tr>\n",
              "    <tr>\n",
              "      <th>CUS_0x1032</th>\n",
              "      <th>Standard</th>\n",
              "      <td>8</td>\n",
              "    </tr>\n",
              "    <tr>\n",
              "      <th>CUS_0x1037</th>\n",
              "      <th>Good</th>\n",
              "      <td>8</td>\n",
              "    </tr>\n",
              "    <tr>\n",
              "      <th>CUS_0x1038</th>\n",
              "      <th>Standard</th>\n",
              "      <td>8</td>\n",
              "    </tr>\n",
              "    <tr>\n",
              "      <th>CUS_0x103e</th>\n",
              "      <th>Good</th>\n",
              "      <td>8</td>\n",
              "    </tr>\n",
              "    <tr>\n",
              "      <th>CUS_0x1041</th>\n",
              "      <th>Bad</th>\n",
              "      <td>8</td>\n",
              "    </tr>\n",
              "    <tr>\n",
              "      <th>CUS_0x1044</th>\n",
              "      <th>Good</th>\n",
              "      <td>8</td>\n",
              "    </tr>\n",
              "    <tr>\n",
              "      <th>CUS_0x1048</th>\n",
              "      <th>Standard</th>\n",
              "      <td>8</td>\n",
              "    </tr>\n",
              "    <tr>\n",
              "      <th>CUS_0x104a</th>\n",
              "      <th>Good</th>\n",
              "      <td>8</td>\n",
              "    </tr>\n",
              "    <tr>\n",
              "      <th>CUS_0x104e</th>\n",
              "      <th>Standard</th>\n",
              "      <td>8</td>\n",
              "    </tr>\n",
              "    <tr>\n",
              "      <th>CUS_0x104f</th>\n",
              "      <th>Standard</th>\n",
              "      <td>8</td>\n",
              "    </tr>\n",
              "  </tbody>\n",
              "</table>\n",
              "</div><br><label><b>dtype:</b> int64</label>"
            ]
          },
          "metadata": {},
          "execution_count": 389
        }
      ]
    },
    {
      "cell_type": "code",
      "source": [
        "# Count how many customer_ids have exactly 3 unique credit_mix values\n",
        "(df2.groupby([\"customer_id\"])[\"credit_mix\"].nunique() == 3).sum()"
      ],
      "metadata": {
        "colab": {
          "base_uri": "https://localhost:8080/"
        },
        "id": "cY93_PdV6Zfg",
        "outputId": "a46e89b4-3438-4925-c0c4-5aa75c3b59c8"
      },
      "id": "cY93_PdV6Zfg",
      "execution_count": 369,
      "outputs": [
        {
          "output_type": "execute_result",
          "data": {
            "text/plain": [
              "np.int64(0)"
            ]
          },
          "metadata": {},
          "execution_count": 369
        }
      ]
    },
    {
      "cell_type": "code",
      "source": [
        "# Fill NaN values in 'credit_mix' for each customer with the most frequent value (mode)\n",
        "df2[\"credit_mix\"] = df2.groupby(\"customer_id\")[\"credit_mix\"].transform(\n",
        "    lambda x: x.fillna(x.mode()[0]))\n",
        "\n",
        "# Check the number of remaining NaN values in 'credit_mix'\n",
        "df2[\"credit_mix\"].isna().sum()"
      ],
      "metadata": {
        "colab": {
          "base_uri": "https://localhost:8080/"
        },
        "id": "231qGoF47sSZ",
        "outputId": "043f60cc-1b98-4f61-e4d2-40bc12c29695"
      },
      "id": "231qGoF47sSZ",
      "execution_count": 370,
      "outputs": [
        {
          "output_type": "execute_result",
          "data": {
            "text/plain": [
              "np.int64(0)"
            ]
          },
          "metadata": {},
          "execution_count": 370
        }
      ]
    },
    {
      "cell_type": "markdown",
      "source": [
        "9. Credit_History_Age"
      ],
      "metadata": {
        "id": "9tO5KGs1JlpI"
      },
      "id": "9tO5KGs1JlpI"
    },
    {
      "cell_type": "code",
      "source": [],
      "metadata": {
        "id": "rD2ydkGn8Umc"
      },
      "id": "rD2ydkGn8Umc",
      "execution_count": 370,
      "outputs": []
    },
    {
      "cell_type": "markdown",
      "source": [
        "10. Amount_invested_monthly"
      ],
      "metadata": {
        "id": "MEGMhtIGJqCX"
      },
      "id": "MEGMhtIGJqCX"
    },
    {
      "cell_type": "code",
      "source": [
        "# Count occurrences of each unique value in the amount_invested_monthly' column, including NaN value\n",
        "df2.amount_invested_monthly.value_counts(dropna=False).head(20)"
      ],
      "metadata": {
        "colab": {
          "base_uri": "https://localhost:8080/",
          "height": 743
        },
        "id": "J9FsXHki8VWY",
        "outputId": "7f74f7df-1d9b-4d22-92c5-c4489dabd7dd"
      },
      "id": "J9FsXHki8VWY",
      "execution_count": 371,
      "outputs": [
        {
          "output_type": "execute_result",
          "data": {
            "text/plain": [
              "amount_invested_monthly\n",
              "NaN             4479\n",
              "10000.000000    4305\n",
              "0.000000         169\n",
              "56.584618          2\n",
              "105.325279         2\n",
              "257.395691         2\n",
              "174.601471         2\n",
              "133.477356         2\n",
              "154.766571         2\n",
              "278.636566         2\n",
              "536.648132         2\n",
              "314.737213         2\n",
              "163.614243         2\n",
              "146.224899         2\n",
              "576.811584         2\n",
              "25.415653          2\n",
              "43.304020          2\n",
              "42.652752          2\n",
              "289.631561         2\n",
              "70.798302          2\n",
              "Name: count, dtype: int64"
            ],
            "text/html": [
              "<div>\n",
              "<style scoped>\n",
              "    .dataframe tbody tr th:only-of-type {\n",
              "        vertical-align: middle;\n",
              "    }\n",
              "\n",
              "    .dataframe tbody tr th {\n",
              "        vertical-align: top;\n",
              "    }\n",
              "\n",
              "    .dataframe thead th {\n",
              "        text-align: right;\n",
              "    }\n",
              "</style>\n",
              "<table border=\"1\" class=\"dataframe\">\n",
              "  <thead>\n",
              "    <tr style=\"text-align: right;\">\n",
              "      <th></th>\n",
              "      <th>count</th>\n",
              "    </tr>\n",
              "    <tr>\n",
              "      <th>amount_invested_monthly</th>\n",
              "      <th></th>\n",
              "    </tr>\n",
              "  </thead>\n",
              "  <tbody>\n",
              "    <tr>\n",
              "      <th>NaN</th>\n",
              "      <td>4479</td>\n",
              "    </tr>\n",
              "    <tr>\n",
              "      <th>10000.000000</th>\n",
              "      <td>4305</td>\n",
              "    </tr>\n",
              "    <tr>\n",
              "      <th>0.000000</th>\n",
              "      <td>169</td>\n",
              "    </tr>\n",
              "    <tr>\n",
              "      <th>56.584618</th>\n",
              "      <td>2</td>\n",
              "    </tr>\n",
              "    <tr>\n",
              "      <th>105.325279</th>\n",
              "      <td>2</td>\n",
              "    </tr>\n",
              "    <tr>\n",
              "      <th>257.395691</th>\n",
              "      <td>2</td>\n",
              "    </tr>\n",
              "    <tr>\n",
              "      <th>174.601471</th>\n",
              "      <td>2</td>\n",
              "    </tr>\n",
              "    <tr>\n",
              "      <th>133.477356</th>\n",
              "      <td>2</td>\n",
              "    </tr>\n",
              "    <tr>\n",
              "      <th>154.766571</th>\n",
              "      <td>2</td>\n",
              "    </tr>\n",
              "    <tr>\n",
              "      <th>278.636566</th>\n",
              "      <td>2</td>\n",
              "    </tr>\n",
              "    <tr>\n",
              "      <th>536.648132</th>\n",
              "      <td>2</td>\n",
              "    </tr>\n",
              "    <tr>\n",
              "      <th>314.737213</th>\n",
              "      <td>2</td>\n",
              "    </tr>\n",
              "    <tr>\n",
              "      <th>163.614243</th>\n",
              "      <td>2</td>\n",
              "    </tr>\n",
              "    <tr>\n",
              "      <th>146.224899</th>\n",
              "      <td>2</td>\n",
              "    </tr>\n",
              "    <tr>\n",
              "      <th>576.811584</th>\n",
              "      <td>2</td>\n",
              "    </tr>\n",
              "    <tr>\n",
              "      <th>25.415653</th>\n",
              "      <td>2</td>\n",
              "    </tr>\n",
              "    <tr>\n",
              "      <th>43.304020</th>\n",
              "      <td>2</td>\n",
              "    </tr>\n",
              "    <tr>\n",
              "      <th>42.652752</th>\n",
              "      <td>2</td>\n",
              "    </tr>\n",
              "    <tr>\n",
              "      <th>289.631561</th>\n",
              "      <td>2</td>\n",
              "    </tr>\n",
              "    <tr>\n",
              "      <th>70.798302</th>\n",
              "      <td>2</td>\n",
              "    </tr>\n",
              "  </tbody>\n",
              "</table>\n",
              "</div><br><label><b>dtype:</b> int64</label>"
            ]
          },
          "metadata": {},
          "execution_count": 371
        }
      ]
    },
    {
      "cell_type": "code",
      "source": [
        "# Check if all values in 'amount_invested_monthly' are NaN for each 'customer_id'\n",
        "df2.groupby(\"customer_id\")[\"amount_invested_monthly\"].apply(\n",
        "    lambda x: x.isna().all()).sum()"
      ],
      "metadata": {
        "colab": {
          "base_uri": "https://localhost:8080/"
        },
        "id": "S7nWdlzB8eTR",
        "outputId": "adb03457-1ae0-49d9-b5fd-453dd7c7770d"
      },
      "id": "S7nWdlzB8eTR",
      "execution_count": 372,
      "outputs": [
        {
          "output_type": "execute_result",
          "data": {
            "text/plain": [
              "np.int64(0)"
            ]
          },
          "metadata": {},
          "execution_count": 372
        }
      ]
    },
    {
      "cell_type": "code",
      "source": [
        "# Fill missing values in 'amount_invested_monthly' using forward fill and backward fill\n",
        "df2[\"amount_invested_monthly\"] = df2.groupby(\"customer_id\")[\"amount_invested_monthly\"].transform(\n",
        "    lambda x: x.fillna(method=\"ffill\").fillna(method=\"bfill\"))\n",
        "\n",
        "# Check how many missing values are left in 'amount_invested_monthly'\n",
        "df2[\"amount_invested_monthly\"].isna().sum()"
      ],
      "metadata": {
        "colab": {
          "base_uri": "https://localhost:8080/"
        },
        "id": "RwqF52Cm8iZw",
        "outputId": "2ea93c40-81d9-455d-b631-3960a332a47e"
      },
      "id": "RwqF52Cm8iZw",
      "execution_count": 373,
      "outputs": [
        {
          "output_type": "execute_result",
          "data": {
            "text/plain": [
              "np.int64(0)"
            ]
          },
          "metadata": {},
          "execution_count": 373
        }
      ]
    },
    {
      "cell_type": "markdown",
      "source": [
        "11. Payment_Behaviour"
      ],
      "metadata": {
        "id": "chy1yGvfJvTv"
      },
      "id": "chy1yGvfJvTv"
    },
    {
      "cell_type": "code",
      "source": [
        "# Count the occurrences of each unique value in the 'payment_behaviour' column, including NaN values\n",
        "df2.payment_behaviour.value_counts(dropna=False)"
      ],
      "metadata": {
        "colab": {
          "base_uri": "https://localhost:8080/",
          "height": 335
        },
        "id": "OAlJkPxV8yHR",
        "outputId": "a6f0b742-07eb-405e-ba03-effa4318f2f0"
      },
      "id": "OAlJkPxV8yHR",
      "execution_count": 374,
      "outputs": [
        {
          "output_type": "execute_result",
          "data": {
            "text/plain": [
              "payment_behaviour\n",
              "Low_spent_Small_value_payments      25513\n",
              "High_spent_Medium_value_payments    17540\n",
              "Low_spent_Medium_value_payments     13861\n",
              "High_spent_Large_value_payments     13721\n",
              "High_spent_Small_value_payments     11340\n",
              "Low_spent_Large_value_payments      10425\n",
              "NaN                                  7600\n",
              "Name: count, dtype: int64"
            ],
            "text/html": [
              "<div>\n",
              "<style scoped>\n",
              "    .dataframe tbody tr th:only-of-type {\n",
              "        vertical-align: middle;\n",
              "    }\n",
              "\n",
              "    .dataframe tbody tr th {\n",
              "        vertical-align: top;\n",
              "    }\n",
              "\n",
              "    .dataframe thead th {\n",
              "        text-align: right;\n",
              "    }\n",
              "</style>\n",
              "<table border=\"1\" class=\"dataframe\">\n",
              "  <thead>\n",
              "    <tr style=\"text-align: right;\">\n",
              "      <th></th>\n",
              "      <th>count</th>\n",
              "    </tr>\n",
              "    <tr>\n",
              "      <th>payment_behaviour</th>\n",
              "      <th></th>\n",
              "    </tr>\n",
              "  </thead>\n",
              "  <tbody>\n",
              "    <tr>\n",
              "      <th>Low_spent_Small_value_payments</th>\n",
              "      <td>25513</td>\n",
              "    </tr>\n",
              "    <tr>\n",
              "      <th>High_spent_Medium_value_payments</th>\n",
              "      <td>17540</td>\n",
              "    </tr>\n",
              "    <tr>\n",
              "      <th>Low_spent_Medium_value_payments</th>\n",
              "      <td>13861</td>\n",
              "    </tr>\n",
              "    <tr>\n",
              "      <th>High_spent_Large_value_payments</th>\n",
              "      <td>13721</td>\n",
              "    </tr>\n",
              "    <tr>\n",
              "      <th>High_spent_Small_value_payments</th>\n",
              "      <td>11340</td>\n",
              "    </tr>\n",
              "    <tr>\n",
              "      <th>Low_spent_Large_value_payments</th>\n",
              "      <td>10425</td>\n",
              "    </tr>\n",
              "    <tr>\n",
              "      <th>NaN</th>\n",
              "      <td>7600</td>\n",
              "    </tr>\n",
              "  </tbody>\n",
              "</table>\n",
              "</div><br><label><b>dtype:</b> int64</label>"
            ]
          },
          "metadata": {},
          "execution_count": 374
        }
      ]
    },
    {
      "cell_type": "code",
      "source": [
        "# Group the DataFrame by 'customer_id', then calculate the number of unique values in the 'payment_behaviour' column for each customer\n",
        "df2.groupby([\"customer_id\"])[\"payment_behaviour\"].nunique().head(10)"
      ],
      "metadata": {
        "colab": {
          "base_uri": "https://localhost:8080/",
          "height": 429
        },
        "id": "REn0hk8N80oG",
        "outputId": "a0a97997-218b-4be6-b7a8-ab26ee1bcd85"
      },
      "id": "REn0hk8N80oG",
      "execution_count": 375,
      "outputs": [
        {
          "output_type": "execute_result",
          "data": {
            "text/plain": [
              "customer_id\n",
              "CUS_0x1000    4\n",
              "CUS_0x1009    3\n",
              "CUS_0x100b    5\n",
              "CUS_0x1011    4\n",
              "CUS_0x1013    3\n",
              "CUS_0x1015    4\n",
              "CUS_0x1018    3\n",
              "CUS_0x1026    4\n",
              "CUS_0x102d    4\n",
              "CUS_0x102e    5\n",
              "Name: payment_behaviour, dtype: int64"
            ],
            "text/html": [
              "<div>\n",
              "<style scoped>\n",
              "    .dataframe tbody tr th:only-of-type {\n",
              "        vertical-align: middle;\n",
              "    }\n",
              "\n",
              "    .dataframe tbody tr th {\n",
              "        vertical-align: top;\n",
              "    }\n",
              "\n",
              "    .dataframe thead th {\n",
              "        text-align: right;\n",
              "    }\n",
              "</style>\n",
              "<table border=\"1\" class=\"dataframe\">\n",
              "  <thead>\n",
              "    <tr style=\"text-align: right;\">\n",
              "      <th></th>\n",
              "      <th>payment_behaviour</th>\n",
              "    </tr>\n",
              "    <tr>\n",
              "      <th>customer_id</th>\n",
              "      <th></th>\n",
              "    </tr>\n",
              "  </thead>\n",
              "  <tbody>\n",
              "    <tr>\n",
              "      <th>CUS_0x1000</th>\n",
              "      <td>4</td>\n",
              "    </tr>\n",
              "    <tr>\n",
              "      <th>CUS_0x1009</th>\n",
              "      <td>3</td>\n",
              "    </tr>\n",
              "    <tr>\n",
              "      <th>CUS_0x100b</th>\n",
              "      <td>5</td>\n",
              "    </tr>\n",
              "    <tr>\n",
              "      <th>CUS_0x1011</th>\n",
              "      <td>4</td>\n",
              "    </tr>\n",
              "    <tr>\n",
              "      <th>CUS_0x1013</th>\n",
              "      <td>3</td>\n",
              "    </tr>\n",
              "    <tr>\n",
              "      <th>CUS_0x1015</th>\n",
              "      <td>4</td>\n",
              "    </tr>\n",
              "    <tr>\n",
              "      <th>CUS_0x1018</th>\n",
              "      <td>3</td>\n",
              "    </tr>\n",
              "    <tr>\n",
              "      <th>CUS_0x1026</th>\n",
              "      <td>4</td>\n",
              "    </tr>\n",
              "    <tr>\n",
              "      <th>CUS_0x102d</th>\n",
              "      <td>4</td>\n",
              "    </tr>\n",
              "    <tr>\n",
              "      <th>CUS_0x102e</th>\n",
              "      <td>5</td>\n",
              "    </tr>\n",
              "  </tbody>\n",
              "</table>\n",
              "</div><br><label><b>dtype:</b> int64</label>"
            ]
          },
          "metadata": {},
          "execution_count": 375
        }
      ]
    },
    {
      "cell_type": "code",
      "source": [
        "# Fill the missing 'payment_behaviour' values within each 'customer_id' group using forward-fill (ffill) and backward-fill (bfill)\n",
        "df2[\"payment_behaviour\"] = df2.groupby(\"customer_id\")[\"payment_behaviour\"].transform(\n",
        "    lambda x: x.fillna(method=\"ffill\").fillna(method=\"bfill\"))\n",
        "\n",
        "# Check how many missing values are left in the 'payment_behaviour' column\n",
        "df2[\"payment_behaviour\"].isna().sum()"
      ],
      "metadata": {
        "colab": {
          "base_uri": "https://localhost:8080/"
        },
        "id": "wmc75Tyy9KPn",
        "outputId": "e7961f0d-10fc-43d8-dc1a-06cf9e8d5f9f"
      },
      "id": "wmc75Tyy9KPn",
      "execution_count": 376,
      "outputs": [
        {
          "output_type": "execute_result",
          "data": {
            "text/plain": [
              "np.int64(0)"
            ]
          },
          "metadata": {},
          "execution_count": 376
        }
      ]
    },
    {
      "cell_type": "code",
      "source": [],
      "metadata": {
        "id": "PLoVX9vE9mY4"
      },
      "id": "PLoVX9vE9mY4",
      "execution_count": 376,
      "outputs": []
    },
    {
      "cell_type": "markdown",
      "source": [
        "12. Monthly_Balance"
      ],
      "metadata": {
        "id": "U5t1Z9-OJzRf"
      },
      "id": "U5t1Z9-OJzRf"
    },
    {
      "cell_type": "code",
      "source": [
        "# Fill missing 'monthly_balance' values with the mean of each 'customer_id' group\n",
        "df2[\"monthly_balance\"] = df2.groupby(\"customer_id\")[\"monthly_balance\"].transform(lambda x: x.fillna(x.mean()))"
      ],
      "metadata": {
        "id": "IO1sTEi79oYq"
      },
      "id": "IO1sTEi79oYq",
      "execution_count": 377,
      "outputs": []
    },
    {
      "cell_type": "code",
      "source": [
        "# Count the number of customer_id groups where all monthly_balance values are NaN\n",
        "df2.groupby(\"customer_id\")[\"monthly_balance\"].apply(\n",
        "    lambda x: x.isna().all()).sum()"
      ],
      "metadata": {
        "colab": {
          "base_uri": "https://localhost:8080/"
        },
        "id": "zXcIEVzc9uW6",
        "outputId": "2ebf9cf3-6592-4f52-f56e-26682a09bbd1"
      },
      "id": "zXcIEVzc9uW6",
      "execution_count": 378,
      "outputs": [
        {
          "output_type": "execute_result",
          "data": {
            "text/plain": [
              "np.int64(0)"
            ]
          },
          "metadata": {},
          "execution_count": 378
        }
      ]
    },
    {
      "cell_type": "markdown",
      "source": [
        "13. Credit_History_Age_Months"
      ],
      "metadata": {
        "id": "-rAIPuU5J2dG"
      },
      "id": "-rAIPuU5J2dG"
    },
    {
      "cell_type": "code",
      "source": [
        "def fill_nan(group):\n",
        "    # First loop: Fill NaN values with the previous value + 1\n",
        "    for i in range(len(group)):\n",
        "        if pd.isna(group.loc[group.index[i], \"credit_history_age_months\"]):\n",
        "            # Get the previous value\n",
        "            if i > 0:\n",
        "                group.loc[group.index[i], \"credit_history_age_months\"] = (\n",
        "                    group.loc[group.index[i - 1], \"credit_history_age_months\"] + 1\n",
        "                )\n",
        "            else:\n",
        "                group.loc[group.index[i], \"credit_history_age_months\"] = np.nan\n",
        "\n",
        "    # Second loop: Fill NaN values by looking forward (backward fill)\n",
        "    for i in range(len(group) - 1, -1, -1):\n",
        "        if pd.isna(group.loc[group.index[i], \"credit_history_age_months\"]):\n",
        "            if i < len(group) - 1:\n",
        "                group.loc[group.index[i], \"credit_history_age_months\"] = (\n",
        "                    group.loc[group.index[i + 1], \"credit_history_age_months\"] - 1\n",
        "                )\n",
        "\n",
        "    return group"
      ],
      "metadata": {
        "id": "2iYUl-MfGYFU"
      },
      "id": "2iYUl-MfGYFU",
      "execution_count": 379,
      "outputs": []
    },
    {
      "cell_type": "code",
      "source": [
        "# Grouping the DataFrame by 'customer_id' and applying the 'fill_nan' function to each group\n",
        "# The 'group_keys=False' ensures that the group labels are not included in the result.\n",
        "df2 = df2.groupby(\"customer_id\", group_keys=False).apply(fill_nan)"
      ],
      "metadata": {
        "id": "sxYRAZlOGYDm"
      },
      "id": "sxYRAZlOGYDm",
      "execution_count": 380,
      "outputs": []
    },
    {
      "cell_type": "code",
      "source": [
        "df2.credit_history_age_months.isna().sum()"
      ],
      "metadata": {
        "colab": {
          "base_uri": "https://localhost:8080/"
        },
        "id": "JmQq09W2DwfR",
        "outputId": "068c26bd-6ce3-4d37-f8f1-0bd5869554f5"
      },
      "id": "JmQq09W2DwfR",
      "execution_count": 381,
      "outputs": [
        {
          "output_type": "execute_result",
          "data": {
            "text/plain": [
              "np.int64(0)"
            ]
          },
          "metadata": {},
          "execution_count": 381
        }
      ]
    },
    {
      "cell_type": "code",
      "source": [
        "df2.groupby(\"customer_id\")[\"credit_history_age_months\"].value_counts().head(20)\n",
        "#"
      ],
      "metadata": {
        "colab": {
          "base_uri": "https://localhost:8080/",
          "height": 743
        },
        "id": "UfqypG70D8dZ",
        "outputId": "8431d8aa-4ce2-4fb3-a6a3-1a04dd1bdfff"
      },
      "id": "UfqypG70D8dZ",
      "execution_count": 388,
      "outputs": [
        {
          "output_type": "execute_result",
          "data": {
            "text/plain": [
              "customer_id  credit_history_age_months\n",
              "CUS_0x1000   122                          1\n",
              "             123                          1\n",
              "             124                          1\n",
              "             125                          1\n",
              "             126                          1\n",
              "             127                          1\n",
              "             128                          1\n",
              "             129                          1\n",
              "CUS_0x1009   365                          1\n",
              "             366                          1\n",
              "             367                          1\n",
              "             368                          1\n",
              "             369                          1\n",
              "             370                          1\n",
              "             371                          1\n",
              "             372                          1\n",
              "CUS_0x100b   183                          1\n",
              "             184                          1\n",
              "             185                          1\n",
              "             186                          1\n",
              "Name: count, dtype: Int64"
            ],
            "text/html": [
              "<div>\n",
              "<style scoped>\n",
              "    .dataframe tbody tr th:only-of-type {\n",
              "        vertical-align: middle;\n",
              "    }\n",
              "\n",
              "    .dataframe tbody tr th {\n",
              "        vertical-align: top;\n",
              "    }\n",
              "\n",
              "    .dataframe thead th {\n",
              "        text-align: right;\n",
              "    }\n",
              "</style>\n",
              "<table border=\"1\" class=\"dataframe\">\n",
              "  <thead>\n",
              "    <tr style=\"text-align: right;\">\n",
              "      <th></th>\n",
              "      <th></th>\n",
              "      <th>count</th>\n",
              "    </tr>\n",
              "    <tr>\n",
              "      <th>customer_id</th>\n",
              "      <th>credit_history_age_months</th>\n",
              "      <th></th>\n",
              "    </tr>\n",
              "  </thead>\n",
              "  <tbody>\n",
              "    <tr>\n",
              "      <th rowspan=\"8\" valign=\"top\">CUS_0x1000</th>\n",
              "      <th>122</th>\n",
              "      <td>1</td>\n",
              "    </tr>\n",
              "    <tr>\n",
              "      <th>123</th>\n",
              "      <td>1</td>\n",
              "    </tr>\n",
              "    <tr>\n",
              "      <th>124</th>\n",
              "      <td>1</td>\n",
              "    </tr>\n",
              "    <tr>\n",
              "      <th>125</th>\n",
              "      <td>1</td>\n",
              "    </tr>\n",
              "    <tr>\n",
              "      <th>126</th>\n",
              "      <td>1</td>\n",
              "    </tr>\n",
              "    <tr>\n",
              "      <th>127</th>\n",
              "      <td>1</td>\n",
              "    </tr>\n",
              "    <tr>\n",
              "      <th>128</th>\n",
              "      <td>1</td>\n",
              "    </tr>\n",
              "    <tr>\n",
              "      <th>129</th>\n",
              "      <td>1</td>\n",
              "    </tr>\n",
              "    <tr>\n",
              "      <th rowspan=\"8\" valign=\"top\">CUS_0x1009</th>\n",
              "      <th>365</th>\n",
              "      <td>1</td>\n",
              "    </tr>\n",
              "    <tr>\n",
              "      <th>366</th>\n",
              "      <td>1</td>\n",
              "    </tr>\n",
              "    <tr>\n",
              "      <th>367</th>\n",
              "      <td>1</td>\n",
              "    </tr>\n",
              "    <tr>\n",
              "      <th>368</th>\n",
              "      <td>1</td>\n",
              "    </tr>\n",
              "    <tr>\n",
              "      <th>369</th>\n",
              "      <td>1</td>\n",
              "    </tr>\n",
              "    <tr>\n",
              "      <th>370</th>\n",
              "      <td>1</td>\n",
              "    </tr>\n",
              "    <tr>\n",
              "      <th>371</th>\n",
              "      <td>1</td>\n",
              "    </tr>\n",
              "    <tr>\n",
              "      <th>372</th>\n",
              "      <td>1</td>\n",
              "    </tr>\n",
              "    <tr>\n",
              "      <th rowspan=\"4\" valign=\"top\">CUS_0x100b</th>\n",
              "      <th>183</th>\n",
              "      <td>1</td>\n",
              "    </tr>\n",
              "    <tr>\n",
              "      <th>184</th>\n",
              "      <td>1</td>\n",
              "    </tr>\n",
              "    <tr>\n",
              "      <th>185</th>\n",
              "      <td>1</td>\n",
              "    </tr>\n",
              "    <tr>\n",
              "      <th>186</th>\n",
              "      <td>1</td>\n",
              "    </tr>\n",
              "  </tbody>\n",
              "</table>\n",
              "</div><br><label><b>dtype:</b> Int64</label>"
            ]
          },
          "metadata": {},
          "execution_count": 388
        }
      ]
    },
    {
      "cell_type": "code",
      "source": [],
      "metadata": {
        "id": "NM2vzdT_kqbW"
      },
      "id": "NM2vzdT_kqbW",
      "execution_count": 380,
      "outputs": []
    }
  ],
  "metadata": {
    "kernelspec": {
      "display_name": "Python 3 (ipykernel)",
      "language": "python",
      "name": "python3"
    },
    "language_info": {
      "codemirror_mode": {
        "name": "ipython",
        "version": 3
      },
      "file_extension": ".py",
      "mimetype": "text/x-python",
      "name": "python",
      "nbconvert_exporter": "python",
      "pygments_lexer": "ipython3",
      "version": "3.9.13"
    },
    "colab": {
      "provenance": [],
      "toc_visible": true
    }
  },
  "nbformat": 4,
  "nbformat_minor": 5
}